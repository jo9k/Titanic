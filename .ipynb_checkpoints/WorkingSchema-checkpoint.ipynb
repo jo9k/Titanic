{
 "cells": [
  {
   "cell_type": "code",
   "execution_count": 5,
   "metadata": {
    "collapsed": true
   },
   "outputs": [],
   "source": [
    "import itertools #iteration tools\n",
    "import numpy as np # linear algebra\n",
    "import pandas as pd # data processing, CSV file I/O (e.g. pd.read_csv)\n",
    "import seaborn as sns # nice plots\n",
    "import matplotlib.pyplot as plt # plots\n",
    "from ipy_table import *\n",
    "from pivottablejs import pivot_ui\n",
    "\n",
    "#preprocessing\n",
    "from sklearn.preprocessing import LabelEncoder, MinMaxScaler\n",
    "\n",
    "# machine learning\n",
    "from sklearn.linear_model import LinearRegression\n",
    "from sklearn.linear_model import LogisticRegression \n",
    "from sklearn.svm import SVC, LinearSVC\n",
    "from sklearn.ensemble import RandomForestClassifier\n",
    "from sklearn.ensemble import ExtraTreesClassifier\n",
    "from sklearn.neighbors import KNeighborsClassifier\n",
    "from sklearn.naive_bayes import GaussianNB\n",
    "from sklearn.linear_model import Perceptron\n",
    "from sklearn.linear_model import SGDClassifier\n",
    "from sklearn.tree import DecisionTreeClassifier\n",
    "\n",
    "# Import and suppress warnings\n",
    "import warnings\n",
    "warnings.filterwarnings('ignore')"
   ]
  },
  {
   "cell_type": "code",
   "execution_count": 6,
   "metadata": {
    "collapsed": true
   },
   "outputs": [],
   "source": [
    "##CHECK THOSEOUT\n",
    "from imblearn.over_sampling import SMOTE\n",
    "#import xgboost"
   ]
  },
  {
   "cell_type": "markdown",
   "metadata": {},
   "source": [
    "### Get train Data"
   ]
  },
  {
   "cell_type": "code",
   "execution_count": 7,
   "metadata": {
    "collapsed": true,
    "scrolled": true
   },
   "outputs": [],
   "source": [
    "train_df = pd.read_csv(r'C:/Users/ernest.chocholowski/Desktop/Datasets/Titanic/train.csv')\n",
    "test_df = pd.read_csv(r'C:/Users/ernest.chocholowski/Desktop/Datasets/Titanic/test.csv')\n",
    "both = [train_df, test_df]\n",
    "train_df.head()\n",
    "super_table=[]\n",
    "super_table.append(['name', 'reg_function', 'trainset_acc', 'testset_acc', 'r2score', 'conf_matrx', 'kaggle_acc'])\n",
    "df_load = pd.read_csv(r'C:/Users/ernest.chocholowski/Desktop/GIT/Titanic/table_eCh.csv')\n",
    "for row in df_load.values.tolist():\n",
    "    super_table.append(row)"
   ]
  },
  {
   "cell_type": "code",
   "execution_count": 8,
   "metadata": {},
   "outputs": [
    {
     "data": {
      "text/html": [
       "<div>\n",
       "<style>\n",
       "    .dataframe thead tr:only-child th {\n",
       "        text-align: right;\n",
       "    }\n",
       "\n",
       "    .dataframe thead th {\n",
       "        text-align: left;\n",
       "    }\n",
       "\n",
       "    .dataframe tbody tr th {\n",
       "        vertical-align: top;\n",
       "    }\n",
       "</style>\n",
       "<table border=\"1\" class=\"dataframe\">\n",
       "  <thead>\n",
       "    <tr style=\"text-align: right;\">\n",
       "      <th></th>\n",
       "      <th>PassengerId</th>\n",
       "      <th>Survived</th>\n",
       "      <th>Pclass</th>\n",
       "      <th>Name</th>\n",
       "      <th>Sex</th>\n",
       "      <th>Age</th>\n",
       "      <th>SibSp</th>\n",
       "      <th>Parch</th>\n",
       "      <th>Ticket</th>\n",
       "      <th>Fare</th>\n",
       "      <th>Cabin</th>\n",
       "      <th>Embarked</th>\n",
       "    </tr>\n",
       "  </thead>\n",
       "  <tbody>\n",
       "    <tr>\n",
       "      <th>0</th>\n",
       "      <td>1</td>\n",
       "      <td>0</td>\n",
       "      <td>3</td>\n",
       "      <td>Braund, Mr. Owen Harris</td>\n",
       "      <td>male</td>\n",
       "      <td>22.0</td>\n",
       "      <td>1</td>\n",
       "      <td>0</td>\n",
       "      <td>A/5 21171</td>\n",
       "      <td>7.2500</td>\n",
       "      <td>NaN</td>\n",
       "      <td>S</td>\n",
       "    </tr>\n",
       "    <tr>\n",
       "      <th>1</th>\n",
       "      <td>2</td>\n",
       "      <td>1</td>\n",
       "      <td>1</td>\n",
       "      <td>Cumings, Mrs. John Bradley (Florence Briggs Th...</td>\n",
       "      <td>female</td>\n",
       "      <td>38.0</td>\n",
       "      <td>1</td>\n",
       "      <td>0</td>\n",
       "      <td>PC 17599</td>\n",
       "      <td>71.2833</td>\n",
       "      <td>C85</td>\n",
       "      <td>C</td>\n",
       "    </tr>\n",
       "    <tr>\n",
       "      <th>2</th>\n",
       "      <td>3</td>\n",
       "      <td>1</td>\n",
       "      <td>3</td>\n",
       "      <td>Heikkinen, Miss. Laina</td>\n",
       "      <td>female</td>\n",
       "      <td>26.0</td>\n",
       "      <td>0</td>\n",
       "      <td>0</td>\n",
       "      <td>STON/O2. 3101282</td>\n",
       "      <td>7.9250</td>\n",
       "      <td>NaN</td>\n",
       "      <td>S</td>\n",
       "    </tr>\n",
       "    <tr>\n",
       "      <th>3</th>\n",
       "      <td>4</td>\n",
       "      <td>1</td>\n",
       "      <td>1</td>\n",
       "      <td>Futrelle, Mrs. Jacques Heath (Lily May Peel)</td>\n",
       "      <td>female</td>\n",
       "      <td>35.0</td>\n",
       "      <td>1</td>\n",
       "      <td>0</td>\n",
       "      <td>113803</td>\n",
       "      <td>53.1000</td>\n",
       "      <td>C123</td>\n",
       "      <td>S</td>\n",
       "    </tr>\n",
       "    <tr>\n",
       "      <th>4</th>\n",
       "      <td>5</td>\n",
       "      <td>0</td>\n",
       "      <td>3</td>\n",
       "      <td>Allen, Mr. William Henry</td>\n",
       "      <td>male</td>\n",
       "      <td>35.0</td>\n",
       "      <td>0</td>\n",
       "      <td>0</td>\n",
       "      <td>373450</td>\n",
       "      <td>8.0500</td>\n",
       "      <td>NaN</td>\n",
       "      <td>S</td>\n",
       "    </tr>\n",
       "  </tbody>\n",
       "</table>\n",
       "</div>"
      ],
      "text/plain": [
       "   PassengerId  Survived  Pclass  \\\n",
       "0            1         0       3   \n",
       "1            2         1       1   \n",
       "2            3         1       3   \n",
       "3            4         1       1   \n",
       "4            5         0       3   \n",
       "\n",
       "                                                Name     Sex   Age  SibSp  \\\n",
       "0                            Braund, Mr. Owen Harris    male  22.0      1   \n",
       "1  Cumings, Mrs. John Bradley (Florence Briggs Th...  female  38.0      1   \n",
       "2                             Heikkinen, Miss. Laina  female  26.0      0   \n",
       "3       Futrelle, Mrs. Jacques Heath (Lily May Peel)  female  35.0      1   \n",
       "4                           Allen, Mr. William Henry    male  35.0      0   \n",
       "\n",
       "   Parch            Ticket     Fare Cabin Embarked  \n",
       "0      0         A/5 21171   7.2500   NaN        S  \n",
       "1      0          PC 17599  71.2833   C85        C  \n",
       "2      0  STON/O2. 3101282   7.9250   NaN        S  \n",
       "3      0            113803  53.1000  C123        S  \n",
       "4      0            373450   8.0500   NaN        S  "
      ]
     },
     "execution_count": 8,
     "metadata": {},
     "output_type": "execute_result"
    }
   ],
   "source": [
    "train_df.head()"
   ]
  },
  {
   "cell_type": "code",
   "execution_count": 9,
   "metadata": {
    "scrolled": true
   },
   "outputs": [
    {
     "data": {
      "text/html": [
       "\n",
       "        <iframe\n",
       "            width=\"100%\"\n",
       "            height=\"500\"\n",
       "            src=\"pivottablejs.html\"\n",
       "            frameborder=\"0\"\n",
       "            allowfullscreen\n",
       "        ></iframe>\n",
       "        "
      ],
      "text/plain": [
       "<IPython.lib.display.IFrame at 0x28b1293f5f8>"
      ]
     },
     "execution_count": 9,
     "metadata": {},
     "output_type": "execute_result"
    }
   ],
   "source": [
    "pivot_ui(train_df)"
   ]
  },
  {
   "cell_type": "code",
   "execution_count": 10,
   "metadata": {
    "collapsed": true
   },
   "outputs": [],
   "source": [
    "for df in both:\n",
    "    df['Title'] = df.Name.str.extract(' ([A-Za-z]+)\\.', expand=False)\n",
    "    df['Title'] = df['Title'].replace(['Lady', 'Countess', 'Don', 'Dr', 'Rev', 'Sir', 'Jonkheer', 'Dona'], 'Rare')\n",
    "    df['Title'] = df['Title'].replace(['Capt', 'Col', 'Major'], 'Officer')\n",
    "    df['Title'] = df['Title'].replace(['Mlle', 'Ms'], 'Miss')\n",
    "    df['Title'] = df['Title'].replace('Mme', 'Mrs')"
   ]
  },
  {
   "cell_type": "code",
   "execution_count": 11,
   "metadata": {
    "collapsed": true,
    "scrolled": true
   },
   "outputs": [],
   "source": [
    "#labelling\n",
    "var_mod = ['Sex', 'Title', 'Ticket', 'Embarked']\n",
    "le = LabelEncoder()\n",
    "for i in var_mod:\n",
    "    mask = ~train_df[i].isnull()\n",
    "    train_df[i][mask] = le.fit_transform(train_df[i][mask])\n",
    "    mask2 = ~test_df[i].isnull()\n",
    "    test_df[i][mask2] = le.fit_transform(test_df[i][mask2])"
   ]
  },
  {
   "cell_type": "code",
   "execution_count": 514,
   "metadata": {
    "collapsed": true,
    "scrolled": true
   },
   "outputs": [],
   "source": [
    "#Additional feature changes\n",
    "#Scale ticket to [0-1]\n",
    "minmax=MinMaxScaler()\n",
    "train_df['Ticket'] = minmax.fit_transform(train_df['Ticket'])\n",
    "#Do we have information about Cabin?\n",
    "train_df['Has_Cabin'] = train_df[\"Cabin\"].apply(lambda x: 0 if type(x) == float else 1)\n",
    "test_df['Has_Cabin'] = test_df[\"Cabin\"].apply(lambda x: 0 if type(x) == float else 1)\n",
    "# Create new feature FamilySize as a combination of SibSp and Parch\n",
    "for dataset in both:\n",
    "    dataset['FamilySize'] = dataset['SibSp'] + dataset['Parch'] + 1\n",
    "# Create new feature IsAlone from FamilySize\n",
    "for dataset in both:\n",
    "    dataset['IsAlone'] = 0\n",
    "    dataset.loc[dataset['FamilySize'] == 1, 'IsAlone'] = 1"
   ]
  },
  {
   "cell_type": "code",
   "execution_count": 515,
   "metadata": {
    "collapsed": true
   },
   "outputs": [],
   "source": [
    "train_df = train_df.drop(['Cabin', 'Name', 'PassengerId'], axis=1)\n",
    "test_df = test_df.drop(['Cabin', 'Name'], axis=1)"
   ]
  },
  {
   "cell_type": "code",
   "execution_count": 516,
   "metadata": {},
   "outputs": [
    {
     "data": {
      "text/html": [
       "<div>\n",
       "<style>\n",
       "    .dataframe thead tr:only-child th {\n",
       "        text-align: right;\n",
       "    }\n",
       "\n",
       "    .dataframe thead th {\n",
       "        text-align: left;\n",
       "    }\n",
       "\n",
       "    .dataframe tbody tr th {\n",
       "        vertical-align: top;\n",
       "    }\n",
       "</style>\n",
       "<table border=\"1\" class=\"dataframe\">\n",
       "  <thead>\n",
       "    <tr style=\"text-align: right;\">\n",
       "      <th></th>\n",
       "      <th>Survived</th>\n",
       "      <th>Pclass</th>\n",
       "      <th>Sex</th>\n",
       "      <th>Age</th>\n",
       "      <th>SibSp</th>\n",
       "      <th>Parch</th>\n",
       "      <th>Fare</th>\n",
       "      <th>Embarked</th>\n",
       "      <th>Title</th>\n",
       "      <th>Has_Cabin</th>\n",
       "      <th>FamilySize</th>\n",
       "      <th>IsAlone</th>\n",
       "    </tr>\n",
       "  </thead>\n",
       "  <tbody>\n",
       "    <tr>\n",
       "      <th>0</th>\n",
       "      <td>0</td>\n",
       "      <td>3</td>\n",
       "      <td>1</td>\n",
       "      <td>1.0</td>\n",
       "      <td>1</td>\n",
       "      <td>0</td>\n",
       "      <td>0.0</td>\n",
       "      <td>2</td>\n",
       "      <td>2</td>\n",
       "      <td>0</td>\n",
       "      <td>2</td>\n",
       "      <td>0</td>\n",
       "    </tr>\n",
       "    <tr>\n",
       "      <th>1</th>\n",
       "      <td>1</td>\n",
       "      <td>1</td>\n",
       "      <td>0</td>\n",
       "      <td>1.0</td>\n",
       "      <td>1</td>\n",
       "      <td>0</td>\n",
       "      <td>3.0</td>\n",
       "      <td>0</td>\n",
       "      <td>3</td>\n",
       "      <td>1</td>\n",
       "      <td>2</td>\n",
       "      <td>0</td>\n",
       "    </tr>\n",
       "    <tr>\n",
       "      <th>2</th>\n",
       "      <td>1</td>\n",
       "      <td>3</td>\n",
       "      <td>0</td>\n",
       "      <td>1.0</td>\n",
       "      <td>0</td>\n",
       "      <td>0</td>\n",
       "      <td>1.0</td>\n",
       "      <td>2</td>\n",
       "      <td>1</td>\n",
       "      <td>0</td>\n",
       "      <td>1</td>\n",
       "      <td>1</td>\n",
       "    </tr>\n",
       "    <tr>\n",
       "      <th>3</th>\n",
       "      <td>1</td>\n",
       "      <td>1</td>\n",
       "      <td>0</td>\n",
       "      <td>1.0</td>\n",
       "      <td>1</td>\n",
       "      <td>0</td>\n",
       "      <td>3.0</td>\n",
       "      <td>2</td>\n",
       "      <td>3</td>\n",
       "      <td>1</td>\n",
       "      <td>2</td>\n",
       "      <td>0</td>\n",
       "    </tr>\n",
       "    <tr>\n",
       "      <th>4</th>\n",
       "      <td>0</td>\n",
       "      <td>3</td>\n",
       "      <td>1</td>\n",
       "      <td>1.0</td>\n",
       "      <td>0</td>\n",
       "      <td>0</td>\n",
       "      <td>1.0</td>\n",
       "      <td>2</td>\n",
       "      <td>2</td>\n",
       "      <td>0</td>\n",
       "      <td>1</td>\n",
       "      <td>1</td>\n",
       "    </tr>\n",
       "  </tbody>\n",
       "</table>\n",
       "</div>"
      ],
      "text/plain": [
       "   Survived  Pclass Sex  Age  SibSp  Parch  Fare Embarked Title  Has_Cabin  \\\n",
       "0         0       3   1  1.0      1      0   0.0        2     2          0   \n",
       "1         1       1   0  1.0      1      0   3.0        0     3          1   \n",
       "2         1       3   0  1.0      0      0   1.0        2     1          0   \n",
       "3         1       1   0  1.0      1      0   3.0        2     3          1   \n",
       "4         0       3   1  1.0      0      0   1.0        2     2          0   \n",
       "\n",
       "   FamilySize  IsAlone  \n",
       "0           2        0  \n",
       "1           2        0  \n",
       "2           1        1  \n",
       "3           2        0  \n",
       "4           1        1  "
      ]
     },
     "execution_count": 516,
     "metadata": {},
     "output_type": "execute_result"
    }
   ],
   "source": [
    "train_df.head()"
   ]
  },
  {
   "cell_type": "code",
   "execution_count": 517,
   "metadata": {},
   "outputs": [
    {
     "data": {
      "text/html": [
       "<div>\n",
       "<style>\n",
       "    .dataframe thead tr:only-child th {\n",
       "        text-align: right;\n",
       "    }\n",
       "\n",
       "    .dataframe thead th {\n",
       "        text-align: left;\n",
       "    }\n",
       "\n",
       "    .dataframe tbody tr th {\n",
       "        vertical-align: top;\n",
       "    }\n",
       "</style>\n",
       "<table border=\"1\" class=\"dataframe\">\n",
       "  <thead>\n",
       "    <tr style=\"text-align: right;\">\n",
       "      <th></th>\n",
       "      <th>PassengerId</th>\n",
       "      <th>Pclass</th>\n",
       "      <th>Sex</th>\n",
       "      <th>Age</th>\n",
       "      <th>SibSp</th>\n",
       "      <th>Parch</th>\n",
       "      <th>Fare</th>\n",
       "      <th>Embarked</th>\n",
       "      <th>Title</th>\n",
       "      <th>Has_Cabin</th>\n",
       "      <th>FamilySize</th>\n",
       "      <th>IsAlone</th>\n",
       "    </tr>\n",
       "  </thead>\n",
       "  <tbody>\n",
       "    <tr>\n",
       "      <th>0</th>\n",
       "      <td>892</td>\n",
       "      <td>3</td>\n",
       "      <td>1</td>\n",
       "      <td>1.0</td>\n",
       "      <td>0</td>\n",
       "      <td>0</td>\n",
       "      <td>0.0</td>\n",
       "      <td>1</td>\n",
       "      <td>2</td>\n",
       "      <td>0</td>\n",
       "      <td>1</td>\n",
       "      <td>1</td>\n",
       "    </tr>\n",
       "    <tr>\n",
       "      <th>1</th>\n",
       "      <td>893</td>\n",
       "      <td>3</td>\n",
       "      <td>0</td>\n",
       "      <td>2.0</td>\n",
       "      <td>1</td>\n",
       "      <td>0</td>\n",
       "      <td>0.0</td>\n",
       "      <td>2</td>\n",
       "      <td>3</td>\n",
       "      <td>0</td>\n",
       "      <td>2</td>\n",
       "      <td>0</td>\n",
       "    </tr>\n",
       "    <tr>\n",
       "      <th>2</th>\n",
       "      <td>894</td>\n",
       "      <td>2</td>\n",
       "      <td>1</td>\n",
       "      <td>2.0</td>\n",
       "      <td>0</td>\n",
       "      <td>0</td>\n",
       "      <td>1.0</td>\n",
       "      <td>1</td>\n",
       "      <td>2</td>\n",
       "      <td>0</td>\n",
       "      <td>1</td>\n",
       "      <td>1</td>\n",
       "    </tr>\n",
       "    <tr>\n",
       "      <th>3</th>\n",
       "      <td>895</td>\n",
       "      <td>3</td>\n",
       "      <td>1</td>\n",
       "      <td>1.0</td>\n",
       "      <td>0</td>\n",
       "      <td>0</td>\n",
       "      <td>1.0</td>\n",
       "      <td>2</td>\n",
       "      <td>2</td>\n",
       "      <td>0</td>\n",
       "      <td>1</td>\n",
       "      <td>1</td>\n",
       "    </tr>\n",
       "    <tr>\n",
       "      <th>4</th>\n",
       "      <td>896</td>\n",
       "      <td>3</td>\n",
       "      <td>0</td>\n",
       "      <td>1.0</td>\n",
       "      <td>1</td>\n",
       "      <td>1</td>\n",
       "      <td>1.0</td>\n",
       "      <td>2</td>\n",
       "      <td>3</td>\n",
       "      <td>0</td>\n",
       "      <td>3</td>\n",
       "      <td>0</td>\n",
       "    </tr>\n",
       "  </tbody>\n",
       "</table>\n",
       "</div>"
      ],
      "text/plain": [
       "   PassengerId  Pclass Sex  Age  SibSp  Parch  Fare Embarked Title  Has_Cabin  \\\n",
       "0          892       3   1  1.0      0      0   0.0        1     2          0   \n",
       "1          893       3   0  2.0      1      0   0.0        2     3          0   \n",
       "2          894       2   1  2.0      0      0   1.0        1     2          0   \n",
       "3          895       3   1  1.0      0      0   1.0        2     2          0   \n",
       "4          896       3   0  1.0      1      1   1.0        2     3          0   \n",
       "\n",
       "   FamilySize  IsAlone  \n",
       "0           1        1  \n",
       "1           2        0  \n",
       "2           1        1  \n",
       "3           1        1  \n",
       "4           3        0  "
      ]
     },
     "execution_count": 517,
     "metadata": {},
     "output_type": "execute_result"
    }
   ],
   "source": [
    "test_df.head()"
   ]
  },
  {
   "cell_type": "code",
   "execution_count": 470,
   "metadata": {
    "scrolled": true
   },
   "outputs": [
    {
     "data": {
      "image/png": "[encoded data removed]",
      "text/plain": [
       "<matplotlib.figure.Figure at 0x1ab1ff51e80>"
      ]
     },
     "metadata": {},
     "output_type": "display_data"
    }
   ],
   "source": [
    "facet = sns.FacetGrid(train_df, hue=\"Survived\",aspect=4)\n",
    "facet.map(sns.kdeplot,'Age',shade= True)\n",
    "facet.set(xlim=(0, train_df['Age'].max()))\n",
    "facet.add_legend()\n",
    "plt.show()"
   ]
  },
  {
   "cell_type": "code",
   "execution_count": 518,
   "metadata": {
    "scrolled": false
   },
   "outputs": [
    {
     "data": {
      "image/png": "[encoded data removed]",
      "text/plain": [
       "<matplotlib.figure.Figure at 0x1ab1c4a5128>"
      ]
     },
     "metadata": {},
     "output_type": "display_data"
    }
   ],
   "source": [
    "sns.violinplot(x=\"Title\", y=\"Age\", hue=\"Sex\", data=train_df);\n",
    "plt.show()"
   ]
  },
  {
   "cell_type": "code",
   "execution_count": 519,
   "metadata": {
    "collapsed": true
   },
   "outputs": [],
   "source": [
    "def impute_numeric (dataset, formula):\n",
    "    \"\"\"\n",
    "    Impute numeric values in a dataset usinng linear regression\n",
    "    dataset = Pandas Dataframe\n",
    "    formula e.g. 'Y ~ X1 + X2'\n",
    "    \"\"\"\n",
    "    import statsmodels.formula.api as smf\n",
    "    import pandas as pd\n",
    "    \n",
    "    lm = smf.ols(formula = formula, data = dataset)\n",
    "    res = lm.fit()\n",
    "    \n",
    "    temp_train = dataset[pd.isnull(dataset).any(axis=1)].copy()\n",
    "    temp_train = temp_train.drop(formula.split(None, 1)[0], axis=1).copy()\n",
    "    \n",
    "    var_pred = res.predict(temp_train)\n",
    "    var_pred = var_pred.round(decimals=0)\n",
    "    \n",
    "    dataset[formula.split(None, 1)[0]].fillna(var_pred, inplace=True)"
   ]
  },
  {
   "cell_type": "code",
   "execution_count": 520,
   "metadata": {
    "collapsed": true
   },
   "outputs": [],
   "source": [
    "#perform imputation!\n",
    "#imputation of age with imputer\n",
    "formula = \"Age ~ Title + Fare + Pclass\"\n",
    "impute_numeric(train_df, formula)\n",
    "impute_numeric(test_df, formula)\n",
    "\n",
    "#impute embarked as the most frequent one\n",
    "freq_port = train_df.Embarked.dropna().mode()[0]\n",
    "train_df['Embarked'] = train_df['Embarked'].fillna(freq_port)\n",
    "\n",
    "#impute missing Fare value\n",
    "test_df['Fare'].fillna(test_df['Fare'].dropna().median(), inplace=True)"
   ]
  },
  {
   "cell_type": "code",
   "execution_count": 521,
   "metadata": {
    "collapsed": true
   },
   "outputs": [],
   "source": [
    "#Split data for train and test\n",
    "def split_data(data, target='Survived'):\n",
    "    #set target for training\n",
    "    target = data[\"Survived\"]\n",
    "\n",
    "    # Import the train_test_split method\n",
    "    from sklearn.model_selection import train_test_split\n",
    "    # Split data into train (2/3rd of data) and test (1/3rd of data)\n",
    "    return train_test_split(data, target, train_size = 0.75, random_state=0);"
   ]
  },
  {
   "cell_type": "code",
   "execution_count": 522,
   "metadata": {
    "collapsed": true
   },
   "outputs": [],
   "source": [
    "def regr_equation(logreg, train, target):\n",
    "    if type(model) is LogisticRegression:\n",
    "        coef = logreg.coef_[0]\n",
    "        intercept = \"{:.2f}\".format(logreg.intercept_[0])\n",
    "    else:\n",
    "        coef = logreg.coef_\n",
    "        intercept = \"{:.2f}\".format(logreg.intercept_)\n",
    "        \n",
    "    output = target.name + ' = ' + str(intercept) + ' + '\n",
    "    coeff_df = pd.DataFrame(train.columns.delete(0))\n",
    "    coeff_df.columns = ['Feature']\n",
    "    coeff_df[\"Correlation\"] = pd.Series(logreg.coef_[0])\n",
    "    features = coeff_df['Feature'].tolist()\n",
    "    coefficients = coeff_df['Correlation'].tolist()\n",
    "    \n",
    "    for coeff, feature in zip(coefficients, features):\n",
    "        coeff_str = \"{:.2f}\".format(coeff)\n",
    "        output += coeff_str + \"*\" + str(feature) + \" + \"\n",
    "    return output[:-3]"
   ]
  },
  {
   "cell_type": "code",
   "execution_count": 523,
   "metadata": {
    "collapsed": true
   },
   "outputs": [],
   "source": [
    "def confusion_matrix(model, X, y):\n",
    "    from sklearn.metrics import confusion_matrix\n",
    "    return confusion_matrix(y, model.predict(X))"
   ]
  },
  {
   "cell_type": "code",
   "execution_count": 524,
   "metadata": {
    "collapsed": true
   },
   "outputs": [],
   "source": [
    "def test_model (model, data, submission_name = None, test=None):\n",
    "   \n",
    "    if test is None:\n",
    "        \n",
    "        from sklearn.metrics import accuracy_score, confusion_matrix, r2_score\n",
    "        train, test, target_train, target_test = split_data(data)\n",
    "        model.fit(train, target_train)\n",
    "        #Calc parameters\n",
    "        if type(model) is LogisticRegression:\n",
    "            function_str = regr_equation(model, train, target_train)\n",
    "        elif type(model) is LinearRegression:\n",
    "            function_str = regr_equation(model, train, target_train)\n",
    "        else :\n",
    "            function_str = \"NA\"    \n",
    "\n",
    "        if type(model) is not LinearRegression:\n",
    "            trainset_acc = round(accuracy_score(target_train, model.predict(train)) * 100, 2)\n",
    "            testset_acc = round(accuracy_score(target_test, model.predict(test)) * 100, 2)\n",
    "            conf_matrix = confusion_matrix(target_train, model.predict(train))\n",
    "            conf_matrix = 'TN: '+str(conf_matrix[0][0])+', FP: '+str(conf_matrix[0][1])+ \\\n",
    "                              ', FN: '+str(conf_matrix[1][0])+', TP: '+str(conf_matrix[1][1])\n",
    "        else:\n",
    "            trainset_acc = 'NA'\n",
    "            testset_acc = 'NA'\n",
    "            conf_matrix = \"NA\"\n",
    "\n",
    "        r2_score = r2_score(target_train, model.predict(train))\n",
    "        kaggle = \"not_tested\"\n",
    "\n",
    "        #prints\n",
    "        print(\"-\"*40)\n",
    "        print('Submission name:', submission_name )\n",
    "        print('Regression function:\\n', function_str)\n",
    "        print('Accuracy on train set:', trainset_acc)\n",
    "        print('Accuracy on test set:', testset_acc)\n",
    "        print(\"R2 score:\", r2_score)\n",
    "        print(\"Confusion matrix:\\n\", conf_matrix)\n",
    "        return [submission_name, function_str, str(trainset_acc), str(testset_acc), r2_score, conf_matrix, kaggle]\n",
    "    else:\n",
    "        \n",
    "        train = data.drop(\"Survived\", axis=1)\n",
    "        target_train = data[\"Survived\"]\n",
    "        if 'PassengerId' in test:\n",
    "            test  = test.drop(\"PassengerId\", axis=1).copy()\n",
    "        model.fit(train, target_train)\n",
    "        pred = model.predict(test)\n",
    "        \n",
    "        submission = pd.DataFrame({\n",
    "                \"PassengerId\": test_df[\"PassengerId\"],\n",
    "                \"Survived\": pred\n",
    "            })\n",
    "        submission.to_csv(r'C:/Users/ernest.chocholowski/Desktop/Datasets/Titanic/output/'+submission_name+'.csv',\n",
    "                          index=False)\n",
    "    "
   ]
  },
  {
   "cell_type": "code",
   "execution_count": 525,
   "metadata": {
    "collapsed": true
   },
   "outputs": [],
   "source": [
    "#Setup\n",
    "suffix = '_R_ImputationFun_Title'\n",
    "from sklearn.neural_network import MLPClassifier\n",
    "modelMLP = MLPClassifier()\n",
    "modelLogReg = LogisticRegression()\n",
    "modelLinReg = LinearRegression()\n",
    "modelSVC = SVC()\n",
    "modellinSVC = LinearSVC()\n",
    "modelKN = KNeighborsClassifier(n_neighbors = 3)\n",
    "modelGNB = GaussianNB()\n",
    "modelPercp = Perceptron()\n",
    "modelSGD = SGDClassifier()\n",
    "modelTree = DecisionTreeClassifier()\n",
    "modelRndForest = RandomForestClassifier()\n",
    "\n",
    "modelXTree = ExtraTreesClassifier()\n",
    "\n",
    "models = {modelLogReg: \"LogisticRegr\",\n",
    "          modelMLP: \"MLPercep\",\n",
    "          modelXTree: \"XTree\",\n",
    "          modelRndForest: \"RandomForest\"\n",
    "         }"
   ]
  },
  {
   "cell_type": "code",
   "execution_count": 526,
   "metadata": {
    "scrolled": true
   },
   "outputs": [
    {
     "name": "stdout",
     "output_type": "stream",
     "text": [
      "----------------------------------------\n",
      "Submission name: MLPercep_R_ImputationFun_Title\n",
      "Regression function:\n",
      " NA\n",
      "Accuracy on train set: 100.0\n",
      "Accuracy on test set: 100.0\n",
      "R2 score: 1.0\n",
      "Confusion matrix:\n",
      " TN: 410, FP: 0, FN: 0, TP: 258\n",
      "----------------------------------------\n",
      "Submission name: LogisticRegr_R_ImputationFun_Title\n",
      "Regression function:\n",
      " Survived = -0.31 + 6.98*Pclass + -0.50*Sex + -1.11*Age + -0.38*SibSp + -0.04*Parch + 0.11*Fare + -0.00*Embarked + -0.13*Title + -0.15*Has_Cabin + 0.05*FamilySize + -0.24*IsAlone\n",
      "Accuracy on train set: 100.0\n",
      "Accuracy on test set: 100.0\n",
      "R2 score: 1.0\n",
      "Confusion matrix:\n",
      " TN: 410, FP: 0, FN: 0, TP: 258\n",
      "----------------------------------------\n",
      "Submission name: RandomForest_R_ImputationFun_Title\n",
      "Regression function:\n",
      " NA\n",
      "Accuracy on train set: 100.0\n",
      "Accuracy on test set: 100.0\n",
      "R2 score: 1.0\n",
      "Confusion matrix:\n",
      " TN: 410, FP: 0, FN: 0, TP: 258\n",
      "----------------------------------------\n",
      "Submission name: XTree_R_ImputationFun_Title\n",
      "Regression function:\n",
      " NA\n",
      "Accuracy on train set: 100.0\n",
      "Accuracy on test set: 100.0\n",
      "R2 score: 1.0\n",
      "Confusion matrix:\n",
      " TN: 410, FP: 0, FN: 0, TP: 258\n"
     ]
    }
   ],
   "source": [
    "outputs = []\n",
    "for model, prefix in models.items():\n",
    "    name=prefix+suffix\n",
    "    outputs.append(test_model(model, train_df, submission_name=name))\n",
    "outputs.sort(key=lambda x: x[0])"
   ]
  },
  {
   "cell_type": "code",
   "execution_count": 527,
   "metadata": {
    "collapsed": true
   },
   "outputs": [],
   "source": [
    "# DecisionTree_basicTest\n",
    "# GaussianNB_basicTest\n",
    "# KN_basicTest\n",
    "# LinSVC_basicTest\n",
    "# Percep_basicTest\n",
    "# RandomForest_basicTest\n",
    "# SGD_basicTest\n",
    "# SVC_basicTest"
   ]
  },
  {
   "cell_type": "code",
   "execution_count": 528,
   "metadata": {
    "collapsed": true
   },
   "outputs": [],
   "source": [
    "models = {\n",
    "         }\n",
    "\n",
    "for model, prefix in models.items():\n",
    "    name=prefix+suffix\n",
    "    test_model(model, train_df, submission_name=name, test=test_df)"
   ]
  },
  {
   "cell_type": "code",
   "execution_count": 561,
   "metadata": {
    "collapsed": true
   },
   "outputs": [],
   "source": [
    "for out in outputs:\n",
    "    super_table.append(out)"
   ]
  },
  {
   "cell_type": "code",
   "execution_count": 559,
   "metadata": {
    "scrolled": true
   },
   "outputs": [
    {
     "data": {
      "text/plain": [
       "['XTree_R_ImputationFun_Title',\n",
       " 'NA',\n",
       " '100.0',\n",
       " '100.0',\n",
       " 1.0,\n",
       " 'TN: 410, FP: 0, FN: 0, TP: 258',\n",
       " 'not_tested']"
      ]
     },
     "execution_count": 559,
     "metadata": {},
     "output_type": "execute_result"
    }
   ],
   "source": [
    "super_table[-1]"
   ]
  },
  {
   "cell_type": "code",
   "execution_count": 562,
   "metadata": {
    "scrolled": true
   },
   "outputs": [
    {
     "data": {
      "text/html": [
       "<table border=\"1\" cellpadding=\"3\" cellspacing=\"0\"  style=\"border:1px solid black;border-collapse:collapse;\"><tr><td  style=\"background-color:LightGray;\"><b>name</b></td><td  style=\"background-color:LightGray;\"><b>reg_function</b></td><td  style=\"background-color:LightGray;\"><b>trainset_acc</b></td><td  style=\"background-color:LightGray;\"><b>testset_acc</b></td><td  style=\"background-color:LightGray;\"><b>r2score</b></td><td  style=\"background-color:LightGray;\"><b>conf_matrx</b></td><td  style=\"background-color:LightGray;\"><b>kaggle_acc</b></td></tr><tr><td  style=\"background-color:Ivory;\">logisticReg_basic</td><td  style=\"background-color:Ivory;\">Survived&nbsp=&nbsp3.99&nbsp+&nbsp-0.85*Pclass&nbsp+&nbsp-0.00*Name&nbsp+&nbsp-2.35*Sex&nbsp+&nbsp-0.03*Age&nbsp+&nbsp-0.32*SibSp&nbsp+&nbsp-0.06*Parch&nbsp+&nbsp-0.00*Ticket&nbsp+&nbsp0.01*Fare</td><td  style=\"background-color:Ivory;\">79.97</td><td  style=\"background-color:Ivory;\">nan</td><td  style=\"background-color:Ivory;\">0.169632400781</td><td  style=\"background-color:Ivory;\">TN:&nbsp369,&nbspFP:&nbsp55,&nbspFN:&nbsp88,&nbspTP:&nbsp202</td><td  style=\"background-color:Ivory;\">failed_evl</td></tr><tr><td  style=\"background-color:AliceBlue;\">linearReg_basic</td><td  style=\"background-color:AliceBlue;\">Survived&nbsp=&nbsp1.40&nbsp+&nbsp-0.19*Pclass&nbsp+&nbsp-0.00*Name&nbsp+&nbsp-0.49*Sex&nbsp+&nbsp-0.01*Age&nbsp+&nbsp-0.06*SibSp&nbsp+&nbsp-0.01*Parch&nbsp+&nbsp-0.00*Ticket&nbsp+&nbsp0.00*Fare</td><td  style=\"background-color:AliceBlue;\">40.25</td><td  style=\"background-color:AliceBlue;\">nan</td><td  style=\"background-color:AliceBlue;\">0.402525234523</td><td  style=\"background-color:AliceBlue;\">nan</td><td  style=\"background-color:AliceBlue;\">failed_evl</td></tr><tr><td  style=\"background-color:Ivory;\">SVC_basic</td><td  style=\"background-color:Ivory;\">nan</td><td  style=\"background-color:Ivory;\">99.86</td><td  style=\"background-color:Ivory;\">nan</td><td  style=\"background-color:Ivory;\">0.994193233572</td><td  style=\"background-color:Ivory;\">TN:&nbsp424,&nbspFP:&nbsp0,&nbspFN:&nbsp1,&nbspTP:&nbsp289</td><td  style=\"background-color:Ivory;\">failed_evl</td></tr><tr><td  style=\"background-color:AliceBlue;\">KNC_basic</td><td  style=\"background-color:AliceBlue;\">nan</td><td  style=\"background-color:AliceBlue;\">82.49</td><td  style=\"background-color:AliceBlue;\">nan</td><td  style=\"background-color:AliceBlue;\">0.274154196487</td><td  style=\"background-color:AliceBlue;\">TN:&nbsp356,&nbspFP:&nbsp68,&nbspFN:&nbsp57,&nbspTP:&nbsp233</td><td  style=\"background-color:AliceBlue;\">failed_evl</td></tr><tr><td  style=\"background-color:Ivory;\">GaussianNB_basic</td><td  style=\"background-color:Ivory;\">nan</td><td  style=\"background-color:Ivory;\">78.57</td><td  style=\"background-color:Ivory;\">nan</td><td  style=\"background-color:Ivory;\">0.1115647365</td><td  style=\"background-color:Ivory;\">TN:&nbsp352,&nbspFP:&nbsp72,&nbspFN:&nbsp81,&nbspTP:&nbsp209</td><td  style=\"background-color:Ivory;\">failed_evl</td></tr><tr><td  style=\"background-color:AliceBlue;\">Perceptron_basic</td><td  style=\"background-color:AliceBlue;\">nan</td><td  style=\"background-color:AliceBlue;\">62.46</td><td  style=\"background-color:AliceBlue;\">nan</td><td  style=\"background-color:AliceBlue;\">-0.556213402733</td><td  style=\"background-color:AliceBlue;\">TN:&nbsp417,&nbspFP:&nbsp7,&nbspFN:&nbsp261,&nbspTP:&nbsp29</td><td  style=\"background-color:AliceBlue;\">failed_evl</td></tr><tr><td  style=\"background-color:Ivory;\">LinearSVC_basic</td><td  style=\"background-color:Ivory;\">nan</td><td  style=\"background-color:Ivory;\">49.44</td><td  style=\"background-color:Ivory;\">nan</td><td  style=\"background-color:Ivory;\">-1.09624268055</td><td  style=\"background-color:Ivory;\">TN:&nbsp94,&nbspFP:&nbsp330,&nbspFN:&nbsp31,&nbspTP:&nbsp259</td><td  style=\"background-color:Ivory;\">failed_evl</td></tr><tr><td  style=\"background-color:AliceBlue;\">SGDClassifier_basic</td><td  style=\"background-color:AliceBlue;\">nan</td><td  style=\"background-color:AliceBlue;\">65.69</td><td  style=\"background-color:AliceBlue;\">nan</td><td  style=\"background-color:AliceBlue;\">-0.422657774886</td><td  style=\"background-color:AliceBlue;\">TN:&nbsp330,&nbspFP:&nbsp94,&nbspFN:&nbsp151,&nbspTP:&nbsp139</td><td  style=\"background-color:AliceBlue;\">failed_evl</td></tr><tr><td  style=\"background-color:Ivory;\">DecisionTreeClassifier_basic</td><td  style=\"background-color:Ivory;\">nan</td><td  style=\"background-color:Ivory;\">100.0</td><td  style=\"background-color:Ivory;\">nan</td><td  style=\"background-color:Ivory;\">1.0</td><td  style=\"background-color:Ivory;\">TN:&nbsp424,&nbspFP:&nbsp0,&nbspFN:&nbsp0,&nbspTP:&nbsp290</td><td  style=\"background-color:Ivory;\">failed_evl</td></tr><tr><td  style=\"background-color:AliceBlue;\">RandomForestClassifier_basic</td><td  style=\"background-color:AliceBlue;\">nan</td><td  style=\"background-color:AliceBlue;\">100.0</td><td  style=\"background-color:AliceBlue;\">nan</td><td  style=\"background-color:AliceBlue;\">1.0</td><td  style=\"background-color:AliceBlue;\">TN:&nbsp424,&nbspFP:&nbsp0,&nbspFN:&nbsp0,&nbspTP:&nbsp290</td><td  style=\"background-color:AliceBlue;\">failed_evl</td></tr><tr><td  style=\"background-color:Ivory;\">logisticReg_basicImputator</td><td  style=\"background-color:Ivory;\">Survived&nbsp=&nbsp4.04&nbsp+&nbsp-0.72*Pclass&nbsp+&nbsp-0.00*Name&nbsp+&nbsp-2.48*Sex&nbsp+&nbsp-0.03*Age&nbsp+&nbsp-0.29*SibSp&nbsp+&nbsp-0.09*Parch&nbsp+&nbsp-0.00*Ticket&nbsp+&nbsp0.01*Fare&nbsp+&nbsp-0.15*Embarked</td><td  style=\"background-color:Ivory;\">80.25</td><td  style=\"background-color:Ivory;\">nan</td><td  style=\"background-color:Ivory;\">0.164797238999</td><td  style=\"background-color:Ivory;\">TN:&nbsp479,&nbspFP:&nbsp70,&nbspFN:&nbsp106,&nbspTP:&nbsp236</td><td  style=\"background-color:Ivory;\">75.120</td></tr><tr><td  style=\"background-color:AliceBlue;\">linearReg_basicImputator</td><td  style=\"background-color:AliceBlue;\">Survived&nbsp=&nbsp1.37&nbsp+&nbsp-0.15*Pclass&nbsp+&nbsp-0.00*Name&nbsp+&nbsp-0.51*Sex&nbsp+&nbsp-0.01*Age&nbsp+&nbsp-0.04*SibSp&nbsp+&nbsp-0.02*Parch&nbsp+&nbsp-0.00*Ticket&nbsp+&nbsp0.00*Fare&nbsp+&nbsp-0.04*Embarked</td><td  style=\"background-color:AliceBlue;\">40.08</td><td  style=\"background-color:AliceBlue;\">nan</td><td  style=\"background-color:AliceBlue;\">0.4007711857320001</td><td  style=\"background-color:AliceBlue;\">nan</td><td  style=\"background-color:AliceBlue;\">failed_evl</td></tr><tr><td  style=\"background-color:Ivory;\">SVC_basicImputator</td><td  style=\"background-color:Ivory;\">nan</td><td  style=\"background-color:Ivory;\">99.21</td><td  style=\"background-color:Ivory;\">nan</td><td  style=\"background-color:Ivory;\">0.9667817083689999</td><td  style=\"background-color:Ivory;\">TN:&nbsp549,&nbspFP:&nbsp0,&nbspFN:&nbsp7,&nbspTP:&nbsp335</td><td  style=\"background-color:Ivory;\">62.679</td></tr><tr><td  style=\"background-color:AliceBlue;\">LinSVC_basicImputator</td><td  style=\"background-color:AliceBlue;\">nan</td><td  style=\"background-color:AliceBlue;\">39.28</td><td  style=\"background-color:AliceBlue;\">nan</td><td  style=\"background-color:AliceBlue;\">-1.56729939603</td><td  style=\"background-color:AliceBlue;\">TN:&nbsp12,&nbspFP:&nbsp537,&nbspFN:&nbsp4,&nbspTP:&nbsp338</td><td  style=\"background-color:AliceBlue;\">63.158</td></tr><tr><td  style=\"background-color:Ivory;\">KN_basicImputator</td><td  style=\"background-color:Ivory;\">nan</td><td  style=\"background-color:Ivory;\">82.38</td><td  style=\"background-color:Ivory;\">nan</td><td  style=\"background-color:Ivory;\">0.254961173425</td><td  style=\"background-color:Ivory;\">TN:&nbsp472,&nbspFP:&nbsp77,&nbspFN:&nbsp80,&nbspTP:&nbsp262</td><td  style=\"background-color:Ivory;\">55.502</td></tr><tr><td  style=\"background-color:AliceBlue;\">Perceptron_basicImputator</td><td  style=\"background-color:AliceBlue;\">nan</td><td  style=\"background-color:AliceBlue;\">67.45</td><td  style=\"background-color:AliceBlue;\">nan</td><td  style=\"background-color:AliceBlue;\">-0.376186367558</td><td  style=\"background-color:AliceBlue;\">TN:&nbsp533,&nbspFP:&nbsp16,&nbspFN:&nbsp274,&nbspTP:&nbsp68</td><td  style=\"background-color:AliceBlue;\">65.072</td></tr><tr><td  style=\"background-color:Ivory;\">DecisionTree_basicImputator</td><td  style=\"background-color:Ivory;\">nan</td><td  style=\"background-color:Ivory;\">100.0</td><td  style=\"background-color:Ivory;\">nan</td><td  style=\"background-color:Ivory;\">1.0</td><td  style=\"background-color:Ivory;\">TN:&nbsp549,&nbspFP:&nbsp0,&nbspFN:&nbsp0,&nbspTP:&nbsp342</td><td  style=\"background-color:Ivory;\">62.679</td></tr><tr><td  style=\"background-color:AliceBlue;\">RandomForest_basicImputator</td><td  style=\"background-color:AliceBlue;\">nan</td><td  style=\"background-color:AliceBlue;\">100.0</td><td  style=\"background-color:AliceBlue;\">nan</td><td  style=\"background-color:AliceBlue;\">1.0</td><td  style=\"background-color:AliceBlue;\">TN:&nbsp549,&nbspFP:&nbsp0,&nbspFN:&nbsp0,&nbspTP:&nbsp342</td><td  style=\"background-color:AliceBlue;\">75.598</td></tr><tr><td  style=\"background-color:Ivory;\">RandomForest_basicImputator_Title</td><td  style=\"background-color:Ivory;\">nan</td><td  style=\"background-color:Ivory;\">100.0</td><td  style=\"background-color:Ivory;\">nan</td><td  style=\"background-color:Ivory;\">1.0</td><td  style=\"background-color:Ivory;\">TN:&nbsp549,&nbspFP:&nbsp0,&nbspFN:&nbsp0,&nbspTP:&nbsp342</td><td  style=\"background-color:Ivory;\">78.469</td></tr><tr><td  style=\"background-color:AliceBlue;\">DecisionTree_basicImputation_Title_newFun</td><td  style=\"background-color:AliceBlue;\">nan</td><td  style=\"background-color:AliceBlue;\">100.0</td><td  style=\"background-color:AliceBlue;\">100.0</td><td  style=\"background-color:AliceBlue;\">1.0</td><td  style=\"background-color:AliceBlue;\">TN:&nbsp410,&nbspFP:&nbsp0,&nbspFN:&nbsp0,&nbspTP:&nbsp258</td><td  style=\"background-color:AliceBlue;\">68.9</td></tr><tr><td  style=\"background-color:Ivory;\">GaussianNB_basicImputation_Title_newFun</td><td  style=\"background-color:Ivory;\">nan</td><td  style=\"background-color:Ivory;\">100.0</td><td  style=\"background-color:Ivory;\">100.0</td><td  style=\"background-color:Ivory;\">1.0</td><td  style=\"background-color:Ivory;\">TN:&nbsp410,&nbspFP:&nbsp0,&nbspFN:&nbsp0,&nbspTP:&nbsp258</td><td  style=\"background-color:Ivory;\">76.08</td></tr><tr><td  style=\"background-color:AliceBlue;\">KN_basicImputation_Title_newFun</td><td  style=\"background-color:AliceBlue;\">nan</td><td  style=\"background-color:AliceBlue;\">81.74</td><td  style=\"background-color:AliceBlue;\">71.75</td><td  style=\"background-color:AliceBlue;\">0.22957080733600002</td><td  style=\"background-color:AliceBlue;\">TN:&nbsp360,&nbspFP:&nbsp50,&nbspFN:&nbsp72,&nbspTP:&nbsp186</td><td  style=\"background-color:AliceBlue;\">not_tested</td></tr><tr><td  style=\"background-color:Ivory;\">LinSVC_basicImputation_Title_newFun</td><td  style=\"background-color:Ivory;\">nan</td><td  style=\"background-color:Ivory;\">100.0</td><td  style=\"background-color:Ivory;\">100.0</td><td  style=\"background-color:Ivory;\">1.0</td><td  style=\"background-color:Ivory;\">TN:&nbsp410,&nbspFP:&nbsp0,&nbspFN:&nbsp0,&nbspTP:&nbsp258</td><td  style=\"background-color:Ivory;\">68.42</td></tr><tr><td  style=\"background-color:AliceBlue;\">LinearRegr_basicImputation_Title_newFun</td><td  style=\"background-color:AliceBlue;\">Survived&nbsp=&nbsp0.00&nbsp+&nbsp1.00*Pclass&nbsp+&nbspnan*Sex&nbsp+&nbspnan*Age&nbsp+&nbspnan*SibSp&nbsp+&nbspnan*Parch&nbsp+&nbspnan*Ticket&nbsp+&nbspnan*Fare&nbsp+&nbspnan*Embarked&nbsp+&nbspnan*Title</td><td  style=\"background-color:AliceBlue;\">nan</td><td  style=\"background-color:AliceBlue;\">nan</td><td  style=\"background-color:AliceBlue;\">1.0</td><td  style=\"background-color:AliceBlue;\">nan</td><td  style=\"background-color:AliceBlue;\">not_tested</td></tr><tr><td  style=\"background-color:Ivory;\">LogisticRegr_basicImputation_Title_newFun</td><td  style=\"background-color:Ivory;\">Survived&nbsp=&nbsp-0.33&nbsp+&nbsp6.95*Pclass&nbsp+&nbsp-0.54*Sex&nbsp+&nbsp-1.11*Age&nbsp+&nbsp-0.02*SibSp&nbsp+&nbsp-0.19*Parch&nbsp+&nbsp-0.03*Ticket&nbsp+&nbsp-0.00*Fare&nbsp+&nbsp0.00*Embarked&nbsp+&nbsp-0.18*Title</td><td  style=\"background-color:Ivory;\">100.0</td><td  style=\"background-color:Ivory;\">100.0</td><td  style=\"background-color:Ivory;\">1.0</td><td  style=\"background-color:Ivory;\">TN:&nbsp410,&nbspFP:&nbsp0,&nbspFN:&nbsp0,&nbspTP:&nbsp258</td><td  style=\"background-color:Ivory;\">75.12</td></tr><tr><td  style=\"background-color:AliceBlue;\">Percep_basicImputation_Title_newFun</td><td  style=\"background-color:AliceBlue;\">nan</td><td  style=\"background-color:AliceBlue;\">66.32</td><td  style=\"background-color:AliceBlue;\">67.71</td><td  style=\"background-color:AliceBlue;\">-0.420873511061</td><td  style=\"background-color:AliceBlue;\">TN:&nbsp393,&nbspFP:&nbsp17,&nbspFN:&nbsp208,&nbspTP:&nbsp50</td><td  style=\"background-color:AliceBlue;\">not_tested</td></tr><tr><td  style=\"background-color:Ivory;\">RandomForest_basicImputation_Title_newFun</td><td  style=\"background-color:Ivory;\">nan</td><td  style=\"background-color:Ivory;\">100.0</td><td  style=\"background-color:Ivory;\">100.0</td><td  style=\"background-color:Ivory;\">1.0</td><td  style=\"background-color:Ivory;\">TN:&nbsp410,&nbspFP:&nbsp0,&nbspFN:&nbsp0,&nbspTP:&nbsp258</td><td  style=\"background-color:Ivory;\">77.03</td></tr><tr><td  style=\"background-color:AliceBlue;\">SGD_basicImputation_Title_newFun</td><td  style=\"background-color:AliceBlue;\">nan</td><td  style=\"background-color:AliceBlue;\">62.43</td><td  style=\"background-color:AliceBlue;\">62.33</td><td  style=\"background-color:AliceBlue;\">-0.585063339005</td><td  style=\"background-color:AliceBlue;\">TN:&nbsp405,&nbspFP:&nbsp5,&nbspFN:&nbsp246,&nbspTP:&nbsp12</td><td  style=\"background-color:AliceBlue;\">not_tested</td></tr><tr><td  style=\"background-color:Ivory;\">SVC_basicImputation_Title_newFun</td><td  style=\"background-color:Ivory;\">nan</td><td  style=\"background-color:Ivory;\">98.2</td><td  style=\"background-color:Ivory;\">65.02</td><td  style=\"background-color:Ivory;\">0.92422007941</td><td  style=\"background-color:Ivory;\">TN:&nbsp410,&nbspFP:&nbsp0,&nbspFN:&nbsp12,&nbspTP:&nbsp246</td><td  style=\"background-color:Ivory;\">not_tested</td></tr><tr><td  style=\"background-color:AliceBlue;\">XGBoost_basicImputation_Title_newFun</td><td  style=\"background-color:AliceBlue;\">nan</td><td  style=\"background-color:AliceBlue;\">100.0</td><td  style=\"background-color:AliceBlue;\">100.0</td><td  style=\"background-color:AliceBlue;\">1.0</td><td  style=\"background-color:AliceBlue;\">TN:&nbsp410,&nbspFP:&nbsp0,&nbspFN:&nbsp0,&nbspTP:&nbsp258</td><td  style=\"background-color:AliceBlue;\">77.51</td></tr><tr><td  style=\"background-color:Ivory;\">DecisionTree_advancedFeatureSelection</td><td  style=\"background-color:Ivory;\">nan</td><td  style=\"background-color:Ivory;\">100.0</td><td  style=\"background-color:Ivory;\">100.0</td><td  style=\"background-color:Ivory;\">1.0</td><td  style=\"background-color:Ivory;\">TN:&nbsp410,&nbspFP:&nbsp0,&nbspFN:&nbsp0,&nbspTP:&nbsp258</td><td  style=\"background-color:Ivory;\">71.77</td></tr><tr><td  style=\"background-color:AliceBlue;\">GaussianNB_advancedFeatureSelection</td><td  style=\"background-color:AliceBlue;\">nan</td><td  style=\"background-color:AliceBlue;\">100.0</td><td  style=\"background-color:AliceBlue;\">100.0</td><td  style=\"background-color:AliceBlue;\">1.0</td><td  style=\"background-color:AliceBlue;\">TN:&nbsp410,&nbspFP:&nbsp0,&nbspFN:&nbsp0,&nbspTP:&nbsp258</td><td  style=\"background-color:AliceBlue;\">71.77</td></tr><tr><td  style=\"background-color:Ivory;\">KN_advancedFeatureSelection</td><td  style=\"background-color:Ivory;\">nan</td><td  style=\"background-color:Ivory;\">93.26</td><td  style=\"background-color:Ivory;\">85.2</td><td  style=\"background-color:Ivory;\">0.7158252977878616</td><td  style=\"background-color:Ivory;\">TN:&nbsp390,&nbspFP:&nbsp20,&nbspFN:&nbsp25,&nbspTP:&nbsp233</td><td  style=\"background-color:Ivory;\">not_tested</td></tr><tr><td  style=\"background-color:AliceBlue;\">LinSVC_advancedFeatureSelection</td><td  style=\"background-color:AliceBlue;\">nan</td><td  style=\"background-color:AliceBlue;\">100.0</td><td  style=\"background-color:AliceBlue;\">100.0</td><td  style=\"background-color:AliceBlue;\">1.0</td><td  style=\"background-color:AliceBlue;\">TN:&nbsp410,&nbspFP:&nbsp0,&nbspFN:&nbsp0,&nbspTP:&nbsp258</td><td  style=\"background-color:AliceBlue;\">not&nbsptested</td></tr><tr><td  style=\"background-color:Ivory;\">LinearRegr_advancedFeatureSelection</td><td  style=\"background-color:Ivory;\">Survived&nbsp=&nbsp0.00&nbsp+&nbsp1.00*Pclass&nbsp+&nbspnan*Sex&nbsp+&nbspnan*Age&nbsp+&nbspnan*Parch&nbsp+&nbspnan*Fare&nbsp+&nbspnan*Embarked&nbsp+&nbspnan*Name_length&nbsp+&nbspnan*Has_Cabin&nbsp+&nbspnan*FamilySize&nbsp+&nbspnan*IsAlone&nbsp+&nbspnan*Title</td><td  style=\"background-color:Ivory;\">nan</td><td  style=\"background-color:Ivory;\">nan</td><td  style=\"background-color:Ivory;\">1.0</td><td  style=\"background-color:Ivory;\">nan</td><td  style=\"background-color:Ivory;\">not_tested</td></tr><tr><td  style=\"background-color:AliceBlue;\">LogisticRegr_advancedFeatureSelection</td><td  style=\"background-color:AliceBlue;\">Survived&nbsp=&nbsp-0.68&nbsp+&nbsp6.95*Pclass&nbsp+&nbsp-0.64*Sex&nbsp+&nbsp-1.06*Age&nbsp+&nbsp-0.01*Parch&nbsp+&nbsp0.18*Fare&nbsp+&nbsp-0.13*Embarked&nbsp+&nbsp0.03*Name_length&nbsp+&nbsp-0.01*Has_Cabin&nbsp+&nbsp-0.07*FamilySize&nbsp+&nbsp-0.31*IsAlone&nbsp+&nbsp-0.53*Title</td><td  style=\"background-color:AliceBlue;\">100.0</td><td  style=\"background-color:AliceBlue;\">100.0</td><td  style=\"background-color:AliceBlue;\">1.0</td><td  style=\"background-color:AliceBlue;\">TN:&nbsp410,&nbspFP:&nbsp0,&nbspFN:&nbsp0,&nbspTP:&nbsp258</td><td  style=\"background-color:AliceBlue;\">77.51</td></tr><tr><td  style=\"background-color:Ivory;\">MLPercep_advancedFeatureSelection</td><td  style=\"background-color:Ivory;\">nan</td><td  style=\"background-color:Ivory;\">100.0</td><td  style=\"background-color:Ivory;\">100.0</td><td  style=\"background-color:Ivory;\">1.0</td><td  style=\"background-color:Ivory;\">TN:&nbsp410,&nbspFP:&nbsp0,&nbspFN:&nbsp0,&nbspTP:&nbsp258</td><td  style=\"background-color:Ivory;\">77.03</td></tr><tr><td  style=\"background-color:AliceBlue;\">Percep_advancedFeatureSelection</td><td  style=\"background-color:AliceBlue;\">nan</td><td  style=\"background-color:AliceBlue;\">87.28</td><td  style=\"background-color:AliceBlue;\">90.13</td><td  style=\"background-color:AliceBlue;\">0.4632255624881832</td><td  style=\"background-color:AliceBlue;\">TN:&nbsp410,&nbspFP:&nbsp0,&nbspFN:&nbsp85,&nbspTP:&nbsp173</td><td  style=\"background-color:AliceBlue;\">not_tested</td></tr><tr><td  style=\"background-color:Ivory;\">RandomForest_advancedFeatureSelection</td><td  style=\"background-color:Ivory;\">nan</td><td  style=\"background-color:Ivory;\">100.0</td><td  style=\"background-color:Ivory;\">100.0</td><td  style=\"background-color:Ivory;\">1.0</td><td  style=\"background-color:Ivory;\">TN:&nbsp410,&nbspFP:&nbsp0,&nbspFN:&nbsp0,&nbspTP:&nbsp258</td><td  style=\"background-color:Ivory;\">76.07</td></tr><tr><td  style=\"background-color:AliceBlue;\">SGD_advancedFeatureSelection</td><td  style=\"background-color:AliceBlue;\">nan</td><td  style=\"background-color:AliceBlue;\">93.26</td><td  style=\"background-color:AliceBlue;\">93.72</td><td  style=\"background-color:AliceBlue;\">0.7158252977878616</td><td  style=\"background-color:AliceBlue;\">TN:&nbsp403,&nbspFP:&nbsp7,&nbspFN:&nbsp38,&nbspTP:&nbsp220</td><td  style=\"background-color:AliceBlue;\">not_tested</td></tr><tr><td  style=\"background-color:Ivory;\">SVC_advancedFeatureSelection</td><td  style=\"background-color:Ivory;\">nan</td><td  style=\"background-color:Ivory;\">98.65</td><td  style=\"background-color:Ivory;\">97.31</td><td  style=\"background-color:Ivory;\">0.9431650595575723</td><td  style=\"background-color:Ivory;\">TN:&nbsp403,&nbspFP:&nbsp7,&nbspFN:&nbsp2,&nbspTP:&nbsp256</td><td  style=\"background-color:Ivory;\">75.6</td></tr><tr><td  style=\"background-color:AliceBlue;\">XTree_advancedFeatureSelection</td><td  style=\"background-color:AliceBlue;\">nan</td><td  style=\"background-color:AliceBlue;\">100.0</td><td  style=\"background-color:AliceBlue;\">100.0</td><td  style=\"background-color:AliceBlue;\">1.0</td><td  style=\"background-color:AliceBlue;\">TN:&nbsp410,&nbspFP:&nbsp0,&nbspFN:&nbsp0,&nbspTP:&nbsp258</td><td  style=\"background-color:AliceBlue;\">73.68</td></tr><tr><td  style=\"background-color:Ivory;\">LogisticRegr_RegrImputationFun_Title</td><td  style=\"background-color:Ivory;\">Survived&nbsp=&nbsp-0.25&nbsp+&nbsp6.99*Pclass&nbsp+&nbsp-0.60*Sex&nbsp+&nbsp-1.10*Age&nbsp+&nbsp-0.03*SibSp&nbsp+&nbsp-0.21*Parch&nbsp+&nbsp-0.04*Ticket&nbsp+&nbsp-0.00*Fare&nbsp+&nbsp0.00*Embarked&nbsp+&nbsp-0.16*Title</td><td  style=\"background-color:Ivory;\">100.0</td><td  style=\"background-color:Ivory;\">100.0</td><td  style=\"background-color:Ivory;\">1.0</td><td  style=\"background-color:Ivory;\">TN:&nbsp410,&nbspFP:&nbsp0,&nbspFN:&nbsp0,&nbspTP:&nbsp258</td><td  style=\"background-color:Ivory;\">75.6</td></tr><tr><td  style=\"background-color:AliceBlue;\">MLPercep_RegrImputationFun_Title</td><td  style=\"background-color:AliceBlue;\">nan</td><td  style=\"background-color:AliceBlue;\">96.41</td><td  style=\"background-color:AliceBlue;\">96.86</td><td  style=\"background-color:AliceBlue;\">0.8484401588201929</td><td  style=\"background-color:AliceBlue;\">TN:&nbsp409,&nbspFP:&nbsp1,&nbspFN:&nbsp23,&nbspTP:&nbsp235</td><td  style=\"background-color:AliceBlue;\">67.46</td></tr><tr><td  style=\"background-color:Ivory;\">RandomForest_RegrImputationFun_Title</td><td  style=\"background-color:Ivory;\">nan</td><td  style=\"background-color:Ivory;\">100.0</td><td  style=\"background-color:Ivory;\">100.0</td><td  style=\"background-color:Ivory;\">1.0</td><td  style=\"background-color:Ivory;\">TN:&nbsp410,&nbspFP:&nbsp0,&nbspFN:&nbsp0,&nbspTP:&nbsp258</td><td  style=\"background-color:Ivory;\">78.47</td></tr><tr><td  style=\"background-color:AliceBlue;\">XTree_RegrImputationFun_Title</td><td  style=\"background-color:AliceBlue;\">nan</td><td  style=\"background-color:AliceBlue;\">100.0</td><td  style=\"background-color:AliceBlue;\">100.0</td><td  style=\"background-color:AliceBlue;\">1.0</td><td  style=\"background-color:AliceBlue;\">TN:&nbsp410,&nbspFP:&nbsp0,&nbspFN:&nbsp0,&nbspTP:&nbsp258</td><td  style=\"background-color:AliceBlue;\">74.64</td></tr><tr><td  style=\"background-color:Ivory;\">LogisticRegr_R_ImputationFun_Title</td><td  style=\"background-color:Ivory;\">Survived&nbsp=&nbsp-0.31&nbsp+&nbsp6.98*Pclass&nbsp+&nbsp-0.50*Sex&nbsp+&nbsp-1.11*Age&nbsp+&nbsp-0.38*SibSp&nbsp+&nbsp-0.04*Parch&nbsp+&nbsp0.11*Fare&nbsp+&nbsp-0.00*Embarked&nbsp+&nbsp-0.13*Title&nbsp+&nbsp-0.15*Has_Cabin&nbsp+&nbsp0.05*FamilySize&nbsp+&nbsp-0.24*IsAlone</td><td  style=\"background-color:Ivory;\">100.0</td><td  style=\"background-color:Ivory;\">100.0</td><td  style=\"background-color:Ivory;\">1.0</td><td  style=\"background-color:Ivory;\">TN:&nbsp410,&nbspFP:&nbsp0,&nbspFN:&nbsp0,&nbspTP:&nbsp258</td><td  style=\"background-color:Ivory;\">not_tested</td></tr><tr><td  style=\"background-color:AliceBlue;\">MLPercep_R_ImputationFun_Title</td><td  style=\"background-color:AliceBlue;\">NA</td><td  style=\"background-color:AliceBlue;\">100.0</td><td  style=\"background-color:AliceBlue;\">100.0</td><td  style=\"background-color:AliceBlue;\">1.0</td><td  style=\"background-color:AliceBlue;\">TN:&nbsp410,&nbspFP:&nbsp0,&nbspFN:&nbsp0,&nbspTP:&nbsp258</td><td  style=\"background-color:AliceBlue;\">not_tested</td></tr><tr><td  style=\"background-color:Ivory;\">RandomForest_R_ImputationFun_Title</td><td  style=\"background-color:Ivory;\">NA</td><td  style=\"background-color:Ivory;\">100.0</td><td  style=\"background-color:Ivory;\">100.0</td><td  style=\"background-color:Ivory;\">1.0</td><td  style=\"background-color:Ivory;\">TN:&nbsp410,&nbspFP:&nbsp0,&nbspFN:&nbsp0,&nbspTP:&nbsp258</td><td  style=\"background-color:Ivory;\">not_tested</td></tr><tr><td  style=\"background-color:AliceBlue;\">XTree_R_ImputationFun_Title</td><td  style=\"background-color:AliceBlue;\">NA</td><td  style=\"background-color:AliceBlue;\">100.0</td><td  style=\"background-color:AliceBlue;\">100.0</td><td  style=\"background-color:AliceBlue;\">1.0</td><td  style=\"background-color:AliceBlue;\">TN:&nbsp410,&nbspFP:&nbsp0,&nbspFN:&nbsp0,&nbspTP:&nbsp258</td><td  style=\"background-color:AliceBlue;\">not_tested</td></tr><tr><td  style=\"background-color:Ivory;\">Ensemble_1</td><td  style=\"background-color:Ivory;\">NA</td><td  style=\"background-color:Ivory;\">100.0</td><td  style=\"background-color:Ivory;\">100.0</td><td  style=\"background-color:Ivory;\">1.0</td><td  style=\"background-color:Ivory;\">TN:&nbsp410,&nbspFP:&nbsp0,&nbspFN:&nbsp0,&nbspTP:&nbsp258</td><td  style=\"background-color:Ivory;\">77.99</td></tr><tr><td  style=\"background-color:AliceBlue;\">Ensemble_2</td><td  style=\"background-color:AliceBlue;\">NA</td><td  style=\"background-color:AliceBlue;\">100.0</td><td  style=\"background-color:AliceBlue;\">100.0</td><td  style=\"background-color:AliceBlue;\">1.0</td><td  style=\"background-color:AliceBlue;\">TN:&nbsp410,&nbspFP:&nbsp0,&nbspFN:&nbsp0,&nbspTP:&nbsp258</td><td  style=\"background-color:AliceBlue;\">77.51</td></tr><tr><td  style=\"background-color:Ivory;\">Ensemble_3</td><td  style=\"background-color:Ivory;\">NA</td><td  style=\"background-color:Ivory;\">100.0</td><td  style=\"background-color:Ivory;\">100.0</td><td  style=\"background-color:Ivory;\">1.0</td><td  style=\"background-color:Ivory;\">TN:&nbsp410,&nbspFP:&nbsp0,&nbspFN:&nbsp0,&nbspTP:&nbsp258</td><td  style=\"background-color:Ivory;\">77.99</td></tr></table>"
      ],
      "text/plain": [
       "<ipy_table.IpyTable at 0x1ab1c0dbef0>"
      ]
     },
     "execution_count": 562,
     "metadata": {},
     "output_type": "execute_result"
    }
   ],
   "source": [
    "make_table(super_table)\n",
    "apply_theme('basic')"
   ]
  },
  {
   "cell_type": "code",
   "execution_count": 563,
   "metadata": {
    "collapsed": true
   },
   "outputs": [],
   "source": [
    "#df = pd.DataFrame(super_table[1:], columns=super_table[0])\n",
    "#df.to_csv(r'C:/Users/ernest.chocholowski/Desktop/GIT/Titanic/table_eCh.csv', \n",
    "#                      index=False)"
   ]
  },
  {
   "cell_type": "code",
   "execution_count": 533,
   "metadata": {
    "collapsed": true
   },
   "outputs": [],
   "source": [
    "from sklearn.model_selection import KFold\n",
    "model = modelRndForest\n",
    "\n",
    "#Simple K-Fold cross validation. 10 folds.\n",
    "cv = KFold(n_splits=10)"
   ]
  },
  {
   "cell_type": "markdown",
   "metadata": {
    "collapsed": true
   },
   "source": [
    "# Ensembles!"
   ]
  },
  {
   "cell_type": "code",
   "execution_count": 534,
   "metadata": {
    "collapsed": true
   },
   "outputs": [],
   "source": [
    "#Load modules\n",
    "# Going to use these 5 base models for the stacking\n",
    "from sklearn.ensemble import RandomForestClassifier, AdaBoostClassifier, GradientBoostingClassifier, ExtraTreesClassifier\n",
    "from sklearn.svm import SVC\n",
    "from sklearn.cross_validation import KFold;\n",
    "\n",
    "# Some useful parameters which will come in handy later on\n",
    "ntrain = train_df.shape[0]\n",
    "ntest = test_df.shape[0]\n",
    "SEED = 0 # for reproducibility\n",
    "NFOLDS = 5 # set folds for out-of-fold prediction\n",
    "kf = KFold(ntrain, n_folds= NFOLDS, random_state=SEED)\n",
    "\n",
    "# Class to extend the Sklearn classifier\n",
    "class SklearnHelper(object):\n",
    "    def __init__(self, clf, seed=0, params=None):\n",
    "        params['random_state'] = seed\n",
    "        self.clf = clf(**params)\n",
    "\n",
    "    def train(self, x_train, y_train):\n",
    "        self.clf.fit(x_train, y_train)\n",
    "\n",
    "    def predict(self, x):\n",
    "        return self.clf.predict(x)\n",
    "    \n",
    "    def fit(self,x,y):\n",
    "        return self.clf.fit(x,y)\n",
    "    \n",
    "    def feature_importances(self,x,y):\n",
    "        print(self.clf.fit(x,y).feature_importances_)\n"
   ]
  },
  {
   "cell_type": "code",
   "execution_count": 535,
   "metadata": {
    "collapsed": true
   },
   "outputs": [],
   "source": [
    "def get_oof(clf, x_train, y_train, x_test):\n",
    "    oof_train = np.zeros((ntrain,))\n",
    "    oof_test = np.zeros((ntest,))\n",
    "    oof_test_skf = np.empty((NFOLDS, ntest))\n",
    "\n",
    "    for i, (train_index, test_index) in enumerate(kf):\n",
    "        x_tr = x_train[train_index]\n",
    "        y_tr = y_train[train_index]\n",
    "        x_te = x_train[test_index]\n",
    "        clf.train(x_tr, y_tr)\n",
    "\n",
    "        oof_train[test_index] = clf.predict(x_te)\n",
    "        oof_test_skf[i, :] = clf.predict(x_test)\n",
    "\n",
    "    oof_test[:] = oof_test_skf.mean(axis=0)\n",
    "    return oof_train.reshape(-1, 1), oof_test.reshape(-1, 1)"
   ]
  },
  {
   "cell_type": "code",
   "execution_count": 536,
   "metadata": {
    "collapsed": true
   },
   "outputs": [],
   "source": [
    "# Random Forest parameters\n",
    "rf_params = {\n",
    "    'n_jobs': -1,\n",
    "    'n_estimators': 500,\n",
    "    'warm_start': True, \n",
    "     #'max_features': 0.2,\n",
    "    'max_depth': 6,\n",
    "    'min_samples_leaf': 2,\n",
    "    'max_features' : 'sqrt',\n",
    "    'verbose': 0\n",
    "}\n",
    "\n",
    "# Extra Trees Parameters\n",
    "et_params = {\n",
    "    'n_jobs': -1,\n",
    "    'n_estimators':500,\n",
    "    #'max_features': 0.5,\n",
    "    'max_depth': 8,\n",
    "    'min_samples_leaf': 2,\n",
    "    'verbose': 0\n",
    "}\n",
    "\n",
    "# AdaBoost parameters\n",
    "ada_params = {\n",
    "    'n_estimators': 500,\n",
    "    'learning_rate' : 0.55\n",
    "}\n",
    "\n",
    "# Gradient Boosting parameters\n",
    "gb_params = {\n",
    "    'n_estimators': 500,\n",
    "     #'max_features': 0.2,\n",
    "    'max_depth': 5,\n",
    "    'min_samples_leaf': 2,\n",
    "    'verbose': 0\n",
    "}\n",
    "\n",
    "# Support Vector Classifier parameters \n",
    "svc_params = {\n",
    "    'kernel' : 'linear',\n",
    "    'C' : 0.025\n",
    "    }"
   ]
  },
  {
   "cell_type": "code",
   "execution_count": 537,
   "metadata": {
    "collapsed": true
   },
   "outputs": [],
   "source": [
    "rf = SklearnHelper(clf=RandomForestClassifier, seed=SEED, params=rf_params)\n",
    "et = SklearnHelper(clf=ExtraTreesClassifier, seed=SEED, params=et_params)\n",
    "ada = SklearnHelper(clf=AdaBoostClassifier, seed=SEED, params=ada_params)\n",
    "gb = SklearnHelper(clf=GradientBoostingClassifier, seed=SEED, params=gb_params)\n",
    "svc = SklearnHelper(clf=SVC, seed=SEED, params=svc_params)"
   ]
  },
  {
   "cell_type": "code",
   "execution_count": 538,
   "metadata": {
    "collapsed": true
   },
   "outputs": [],
   "source": [
    "# Store our passenger ID for easy access\n",
    "PassengerId = test_df['PassengerId']\n",
    "test_df = test_df.drop('PassengerId', axis=1)\n",
    "# Create Numpy arrays of train, test and target ( Survived) dataframes to feed into our models\n",
    "y_train = train_df['Survived'].ravel()\n",
    "train_df = train_df.drop(['Survived'], axis=1)\n",
    "x_train = train_df.values # Creates an array of the train data\n",
    "x_test = test_df.values # Creats an array of the test data"
   ]
  },
  {
   "cell_type": "code",
   "execution_count": 539,
   "metadata": {
    "scrolled": true
   },
   "outputs": [
    {
     "name": "stdout",
     "output_type": "stream",
     "text": [
      "Training is complete\n"
     ]
    }
   ],
   "source": [
    "# Create our OOF train and test predictions. These base results will be used as new features\n",
    "et_oof_train, et_oof_test = get_oof(et, x_train, y_train, x_test) # Extra Trees\n",
    "rf_oof_train, rf_oof_test = get_oof(rf,x_train, y_train, x_test) # Random Forest\n",
    "ada_oof_train, ada_oof_test = get_oof(ada, x_train, y_train, x_test) # AdaBoost \n",
    "gb_oof_train, gb_oof_test = get_oof(gb,x_train, y_train, x_test) # Gradient Boost\n",
    "svc_oof_train, svc_oof_test = get_oof(svc,x_train, y_train, x_test) # Support Vector Classifier\n",
    "\n",
    "print(\"Training is complete\")"
   ]
  },
  {
   "cell_type": "code",
   "execution_count": 540,
   "metadata": {},
   "outputs": [
    {
     "name": "stdout",
     "output_type": "stream",
     "text": [
      "[ 0.13717144  0.31928433  0.03226119  0.03734862  0.02473323  0.08774133\n",
      "  0.02833465  0.17364512  0.07675364  0.06530795  0.01741851]\n",
      "[ 0.12626027  0.43894994  0.0396095   0.03104868  0.01626569  0.06192335\n",
      "  0.02858155  0.10979676  0.0850164   0.04057147  0.02197639]\n",
      "[ 0.028  0.022  0.036  0.234  0.166  0.05   0.042  0.088  0.004  0.324\n",
      "  0.006]\n",
      "[ 0.14554972  0.05485866  0.11852675  0.05465561  0.05749698  0.15600082\n",
      "  0.14112141  0.07375888  0.06496082  0.10013392  0.03293644]\n"
     ]
    }
   ],
   "source": [
    "rf_feature = rf.feature_importances(x_train,y_train)\n",
    "et_feature = et.feature_importances(x_train, y_train)\n",
    "ada_feature = ada.feature_importances(x_train, y_train)\n",
    "gb_feature = gb.feature_importances(x_train,y_train)\n"
   ]
  },
  {
   "cell_type": "code",
   "execution_count": 549,
   "metadata": {
    "collapsed": true
   },
   "outputs": [],
   "source": [
    "rf_features = [ 0.13717144,  0.31928433,  0.03226119,  0.03734862,  0.02473323,  0.08774133,\n",
    "  0.02833465,  0.17364512,  0.07675364,  0.06530795,  0.01741851 ]\n",
    "et_features = [ 0.12626027,  0.43894994,  0.0396095,   0.03104868,  0.01626569,  0.06192335,\n",
    "  0.02858155,  0.10979676,  0.0850164,   0.04057147,  0.02197639]\n",
    "ada_features = [0.028,  0.022,  0.036,  0.234,  0.166,  0.05,   0.042,  0.088,  0.004,  0.324,\n",
    "  0.006]\n",
    "gb_features = [ 0.14554972,  0.05485866,  0.11852675,  0.05465561,  0.05749698,  0.15600082,\n",
    "  0.14112141,  0.07375888,  0.06496082,  0.10013392,  0.03293644 ]"
   ]
  },
  {
   "cell_type": "code",
   "execution_count": 550,
   "metadata": {
    "collapsed": true
   },
   "outputs": [],
   "source": [
    "cols = train_df.columns.values\n",
    "# Create a dataframe with features\n",
    "feature_dataframe = pd.DataFrame( {'features': cols,\n",
    "    'Random Forest feature importances': rf_features,\n",
    "    'Extra Trees  feature importances': et_features,\n",
    "    'AdaBoost feature importances': ada_features,\n",
    "    'Gradient Boost feature importances': gb_features\n",
    "    })"
   ]
  },
  {
   "cell_type": "code",
   "execution_count": 551,
   "metadata": {
    "scrolled": false
   },
   "outputs": [
    {
     "data": {
      "text/html": [
       "<script>requirejs.config({paths: { 'plotly': ['https://cdn.plot.ly/plotly-latest.min']},});if(!window.Plotly) {{require(['plotly'],function(plotly) {window.Plotly=plotly;});}}</script>"
      ],
      "text/plain": [
       "<IPython.core.display.HTML object>"
      ]
     },
     "metadata": {},
     "output_type": "display_data"
    },
    {
     "data": {
      "text/html": [
       "<div id=\"176ccd23-bd88-4b83-9e2d-170af7256097\" style=\"height: 525px; width: 100%;\" class=\"plotly-graph-div\"></div><script type=\"text/javascript\">require([\"plotly\"], function(Plotly) { window.PLOTLYENV=window.PLOTLYENV || {};window.PLOTLYENV.BASE_URL=\"https://plot.ly\";Plotly.newPlot(\"176ccd23-bd88-4b83-9e2d-170af7256097\", [{\"text\": [\"Pclass\", \"Sex\", \"Age\", \"SibSp\", \"Parch\", \"Fare\", \"Embarked\", \"Title\", \"Has_Cabin\", \"FamilySize\", \"IsAlone\"], \"x\": [\"Pclass\", \"Sex\", \"Age\", \"SibSp\", \"Parch\", \"Fare\", \"Embarked\", \"Title\", \"Has_Cabin\", \"FamilySize\", \"IsAlone\"], \"y\": [0.13717144, 0.31928433, 0.03226119, 0.03734862, 0.02473323, 0.08774133, 0.02833465, 0.17364512, 0.07675364, 0.06530795, 0.01741851], \"mode\": \"markers\", \"type\": \"scatter\", \"marker\": {\"colorscale\": \"Portland\", \"size\": 25, \"sizemode\": \"diameter\", \"showscale\": true, \"color\": [0.13717144, 0.31928433, 0.03226119, 0.03734862, 0.02473323, 0.08774133, 0.02833465, 0.17364512, 0.07675364, 0.06530795, 0.01741851], \"sizeref\": 1}}], {\"hovermode\": \"closest\", \"autosize\": true, \"yaxis\": {\"ticklen\": 5, \"title\": \"Feature Importance\", \"gridwidth\": 2}, \"showlegend\": false, \"title\": \"Random Forest Feature Importance\"}, {\"showLink\": true, \"linkText\": \"Export to plot.ly\"})});</script>"
      ],
      "text/plain": [
       "<IPython.core.display.HTML object>"
      ]
     },
     "metadata": {},
     "output_type": "display_data"
    },
    {
     "data": {
      "text/html": [
       "<div id=\"70f33d58-0c42-49c4-bfd7-1d3ac6313871\" style=\"height: 525px; width: 100%;\" class=\"plotly-graph-div\"></div><script type=\"text/javascript\">require([\"plotly\"], function(Plotly) { window.PLOTLYENV=window.PLOTLYENV || {};window.PLOTLYENV.BASE_URL=\"https://plot.ly\";Plotly.newPlot(\"70f33d58-0c42-49c4-bfd7-1d3ac6313871\", [{\"text\": [\"Pclass\", \"Sex\", \"Age\", \"SibSp\", \"Parch\", \"Fare\", \"Embarked\", \"Title\", \"Has_Cabin\", \"FamilySize\", \"IsAlone\"], \"x\": [\"Pclass\", \"Sex\", \"Age\", \"SibSp\", \"Parch\", \"Fare\", \"Embarked\", \"Title\", \"Has_Cabin\", \"FamilySize\", \"IsAlone\"], \"y\": [0.12626027, 0.43894994, 0.0396095, 0.03104868, 0.01626569, 0.06192335, 0.02858155, 0.10979676, 0.0850164, 0.04057147, 0.02197639], \"mode\": \"markers\", \"type\": \"scatter\", \"marker\": {\"colorscale\": \"Portland\", \"size\": 25, \"sizemode\": \"diameter\", \"showscale\": true, \"color\": [0.12626027, 0.43894994, 0.0396095, 0.03104868, 0.01626569, 0.06192335, 0.02858155, 0.10979676, 0.0850164, 0.04057147, 0.02197639], \"sizeref\": 1}}], {\"hovermode\": \"closest\", \"autosize\": true, \"yaxis\": {\"ticklen\": 5, \"title\": \"Feature Importance\", \"gridwidth\": 2}, \"showlegend\": false, \"title\": \"Extra Trees Feature Importance\"}, {\"showLink\": true, \"linkText\": \"Export to plot.ly\"})});</script>"
      ],
      "text/plain": [
       "<IPython.core.display.HTML object>"
      ]
     },
     "metadata": {},
     "output_type": "display_data"
    },
    {
     "data": {
      "text/html": [
       "<div id=\"4e7150ec-46e0-48b2-8844-37973d5b4ce9\" style=\"height: 525px; width: 100%;\" class=\"plotly-graph-div\"></div><script type=\"text/javascript\">require([\"plotly\"], function(Plotly) { window.PLOTLYENV=window.PLOTLYENV || {};window.PLOTLYENV.BASE_URL=\"https://plot.ly\";Plotly.newPlot(\"4e7150ec-46e0-48b2-8844-37973d5b4ce9\", [{\"text\": [\"Pclass\", \"Sex\", \"Age\", \"SibSp\", \"Parch\", \"Fare\", \"Embarked\", \"Title\", \"Has_Cabin\", \"FamilySize\", \"IsAlone\"], \"x\": [\"Pclass\", \"Sex\", \"Age\", \"SibSp\", \"Parch\", \"Fare\", \"Embarked\", \"Title\", \"Has_Cabin\", \"FamilySize\", \"IsAlone\"], \"y\": [0.028, 0.022, 0.036, 0.234, 0.166, 0.05, 0.042, 0.088, 0.004, 0.324, 0.006], \"mode\": \"markers\", \"type\": \"scatter\", \"marker\": {\"colorscale\": \"Portland\", \"size\": 25, \"sizemode\": \"diameter\", \"showscale\": true, \"color\": [0.028, 0.022, 0.036, 0.234, 0.166, 0.05, 0.042, 0.088, 0.004, 0.324, 0.006], \"sizeref\": 1}}], {\"hovermode\": \"closest\", \"autosize\": true, \"yaxis\": {\"ticklen\": 5, \"title\": \"Feature Importance\", \"gridwidth\": 2}, \"showlegend\": false, \"title\": \"AdaBoost Feature Importance\"}, {\"showLink\": true, \"linkText\": \"Export to plot.ly\"})});</script>"
      ],
      "text/plain": [
       "<IPython.core.display.HTML object>"
      ]
     },
     "metadata": {},
     "output_type": "display_data"
    },
    {
     "data": {
      "text/html": [
       "<div id=\"fcd99cc9-738d-4b7e-94f2-c87ae7ca256e\" style=\"height: 525px; width: 100%;\" class=\"plotly-graph-div\"></div><script type=\"text/javascript\">require([\"plotly\"], function(Plotly) { window.PLOTLYENV=window.PLOTLYENV || {};window.PLOTLYENV.BASE_URL=\"https://plot.ly\";Plotly.newPlot(\"fcd99cc9-738d-4b7e-94f2-c87ae7ca256e\", [{\"text\": [\"Pclass\", \"Sex\", \"Age\", \"SibSp\", \"Parch\", \"Fare\", \"Embarked\", \"Title\", \"Has_Cabin\", \"FamilySize\", \"IsAlone\"], \"x\": [\"Pclass\", \"Sex\", \"Age\", \"SibSp\", \"Parch\", \"Fare\", \"Embarked\", \"Title\", \"Has_Cabin\", \"FamilySize\", \"IsAlone\"], \"y\": [0.14554972, 0.05485866, 0.11852675, 0.05465561, 0.05749698, 0.15600082, 0.14112141, 0.07375888, 0.06496082, 0.10013392, 0.03293644], \"mode\": \"markers\", \"type\": \"scatter\", \"marker\": {\"colorscale\": \"Portland\", \"size\": 25, \"sizemode\": \"diameter\", \"showscale\": true, \"color\": [0.14554972, 0.05485866, 0.11852675, 0.05465561, 0.05749698, 0.15600082, 0.14112141, 0.07375888, 0.06496082, 0.10013392, 0.03293644], \"sizeref\": 1}}], {\"hovermode\": \"closest\", \"autosize\": true, \"yaxis\": {\"ticklen\": 5, \"title\": \"Feature Importance\", \"gridwidth\": 2}, \"showlegend\": false, \"title\": \"Gradient Boosting Feature Importance\"}, {\"showLink\": true, \"linkText\": \"Export to plot.ly\"})});</script>"
      ],
      "text/plain": [
       "<IPython.core.display.HTML object>"
      ]
     },
     "metadata": {},
     "output_type": "display_data"
    }
   ],
   "source": [
    "import plotly.offline as py\n",
    "py.init_notebook_mode(connected=True)\n",
    "import plotly.graph_objs as go\n",
    "import plotly.tools as tls\n",
    "\n",
    "# Scatter plot \n",
    "trace = go.Scatter(\n",
    "    y = feature_dataframe['Random Forest feature importances'].values,\n",
    "    x = feature_dataframe['features'].values,\n",
    "    mode='markers',\n",
    "    marker=dict(\n",
    "        sizemode = 'diameter',\n",
    "        sizeref = 1,\n",
    "        size = 25,\n",
    "#       size= feature_dataframe['AdaBoost feature importances'].values,\n",
    "        #color = np.random.randn(500), #set color equal to a variable\n",
    "        color = feature_dataframe['Random Forest feature importances'].values,\n",
    "        colorscale='Portland',\n",
    "        showscale=True\n",
    "    ),\n",
    "    text = feature_dataframe['features'].values\n",
    ")\n",
    "data = [trace]\n",
    "\n",
    "layout= go.Layout(\n",
    "    autosize= True,\n",
    "    title= 'Random Forest Feature Importance',\n",
    "    hovermode= 'closest',\n",
    "#     xaxis= dict(\n",
    "#         title= 'Pop',\n",
    "#         ticklen= 5,\n",
    "#         zeroline= False,\n",
    "#         gridwidth= 2,\n",
    "#     ),\n",
    "    yaxis=dict(\n",
    "        title= 'Feature Importance',\n",
    "        ticklen= 5,\n",
    "        gridwidth= 2\n",
    "    ),\n",
    "    showlegend= False\n",
    ")\n",
    "fig = go.Figure(data=data, layout=layout)\n",
    "py.iplot(fig,filename='scatter2010')\n",
    "\n",
    "# Scatter plot \n",
    "trace = go.Scatter(\n",
    "    y = feature_dataframe['Extra Trees  feature importances'].values,\n",
    "    x = feature_dataframe['features'].values,\n",
    "    mode='markers',\n",
    "    marker=dict(\n",
    "        sizemode = 'diameter',\n",
    "        sizeref = 1,\n",
    "        size = 25,\n",
    "#       size= feature_dataframe['AdaBoost feature importances'].values,\n",
    "        #color = np.random.randn(500), #set color equal to a variable\n",
    "        color = feature_dataframe['Extra Trees  feature importances'].values,\n",
    "        colorscale='Portland',\n",
    "        showscale=True\n",
    "    ),\n",
    "    text = feature_dataframe['features'].values\n",
    ")\n",
    "data = [trace]\n",
    "\n",
    "layout= go.Layout(\n",
    "    autosize= True,\n",
    "    title= 'Extra Trees Feature Importance',\n",
    "    hovermode= 'closest',\n",
    "#     xaxis= dict(\n",
    "#         title= 'Pop',\n",
    "#         ticklen= 5,\n",
    "#         zeroline= False,\n",
    "#         gridwidth= 2,\n",
    "#     ),\n",
    "    yaxis=dict(\n",
    "        title= 'Feature Importance',\n",
    "        ticklen= 5,\n",
    "        gridwidth= 2\n",
    "    ),\n",
    "    showlegend= False\n",
    ")\n",
    "fig = go.Figure(data=data, layout=layout)\n",
    "py.iplot(fig,filename='scatter2010')\n",
    "\n",
    "# Scatter plot \n",
    "trace = go.Scatter(\n",
    "    y = feature_dataframe['AdaBoost feature importances'].values,\n",
    "    x = feature_dataframe['features'].values,\n",
    "    mode='markers',\n",
    "    marker=dict(\n",
    "        sizemode = 'diameter',\n",
    "        sizeref = 1,\n",
    "        size = 25,\n",
    "#       size= feature_dataframe['AdaBoost feature importances'].values,\n",
    "        #color = np.random.randn(500), #set color equal to a variable\n",
    "        color = feature_dataframe['AdaBoost feature importances'].values,\n",
    "        colorscale='Portland',\n",
    "        showscale=True\n",
    "    ),\n",
    "    text = feature_dataframe['features'].values\n",
    ")\n",
    "data = [trace]\n",
    "\n",
    "layout= go.Layout(\n",
    "    autosize= True,\n",
    "    title= 'AdaBoost Feature Importance',\n",
    "    hovermode= 'closest',\n",
    "#     xaxis= dict(\n",
    "#         title= 'Pop',\n",
    "#         ticklen= 5,\n",
    "#         zeroline= False,\n",
    "#         gridwidth= 2,\n",
    "#     ),\n",
    "    yaxis=dict(\n",
    "        title= 'Feature Importance',\n",
    "        ticklen= 5,\n",
    "        gridwidth= 2\n",
    "    ),\n",
    "    showlegend= False\n",
    ")\n",
    "fig = go.Figure(data=data, layout=layout)\n",
    "py.iplot(fig,filename='scatter2010')\n",
    "\n",
    "# Scatter plot \n",
    "trace = go.Scatter(\n",
    "    y = feature_dataframe['Gradient Boost feature importances'].values,\n",
    "    x = feature_dataframe['features'].values,\n",
    "    mode='markers',\n",
    "    marker=dict(\n",
    "        sizemode = 'diameter',\n",
    "        sizeref = 1,\n",
    "        size = 25,\n",
    "#       size= feature_dataframe['AdaBoost feature importances'].values,\n",
    "        #color = np.random.randn(500), #set color equal to a variable\n",
    "        color = feature_dataframe['Gradient Boost feature importances'].values,\n",
    "        colorscale='Portland',\n",
    "        showscale=True\n",
    "    ),\n",
    "    text = feature_dataframe['features'].values\n",
    ")\n",
    "data = [trace]\n",
    "\n",
    "layout= go.Layout(\n",
    "    autosize= True,\n",
    "    title= 'Gradient Boosting Feature Importance',\n",
    "    hovermode= 'closest',\n",
    "#     xaxis= dict(\n",
    "#         title= 'Pop',\n",
    "#         ticklen= 5,\n",
    "#         zeroline= False,\n",
    "#         gridwidth= 2,\n",
    "#     ),\n",
    "    yaxis=dict(\n",
    "        title= 'Feature Importance',\n",
    "        ticklen= 5,\n",
    "        gridwidth= 2\n",
    "    ),\n",
    "    showlegend= False\n",
    ")\n",
    "fig = go.Figure(data=data, layout=layout)\n",
    "py.iplot(fig,filename='scatter2010')"
   ]
  },
  {
   "cell_type": "code",
   "execution_count": 552,
   "metadata": {},
   "outputs": [
    {
     "data": {
      "text/html": [
       "<div>\n",
       "<style>\n",
       "    .dataframe thead tr:only-child th {\n",
       "        text-align: right;\n",
       "    }\n",
       "\n",
       "    .dataframe thead th {\n",
       "        text-align: left;\n",
       "    }\n",
       "\n",
       "    .dataframe tbody tr th {\n",
       "        vertical-align: top;\n",
       "    }\n",
       "</style>\n",
       "<table border=\"1\" class=\"dataframe\">\n",
       "  <thead>\n",
       "    <tr style=\"text-align: right;\">\n",
       "      <th></th>\n",
       "      <th>AdaBoost feature importances</th>\n",
       "      <th>Extra Trees  feature importances</th>\n",
       "      <th>Gradient Boost feature importances</th>\n",
       "      <th>Random Forest feature importances</th>\n",
       "      <th>features</th>\n",
       "      <th>mean</th>\n",
       "    </tr>\n",
       "  </thead>\n",
       "  <tbody>\n",
       "    <tr>\n",
       "      <th>0</th>\n",
       "      <td>0.028</td>\n",
       "      <td>0.126260</td>\n",
       "      <td>0.145550</td>\n",
       "      <td>0.137171</td>\n",
       "      <td>Pclass</td>\n",
       "      <td>0.109245</td>\n",
       "    </tr>\n",
       "    <tr>\n",
       "      <th>1</th>\n",
       "      <td>0.022</td>\n",
       "      <td>0.438950</td>\n",
       "      <td>0.054859</td>\n",
       "      <td>0.319284</td>\n",
       "      <td>Sex</td>\n",
       "      <td>0.208773</td>\n",
       "    </tr>\n",
       "    <tr>\n",
       "      <th>2</th>\n",
       "      <td>0.036</td>\n",
       "      <td>0.039609</td>\n",
       "      <td>0.118527</td>\n",
       "      <td>0.032261</td>\n",
       "      <td>Age</td>\n",
       "      <td>0.056599</td>\n",
       "    </tr>\n",
       "    <tr>\n",
       "      <th>3</th>\n",
       "      <td>0.234</td>\n",
       "      <td>0.031049</td>\n",
       "      <td>0.054656</td>\n",
       "      <td>0.037349</td>\n",
       "      <td>SibSp</td>\n",
       "      <td>0.089263</td>\n",
       "    </tr>\n",
       "    <tr>\n",
       "      <th>4</th>\n",
       "      <td>0.166</td>\n",
       "      <td>0.016266</td>\n",
       "      <td>0.057497</td>\n",
       "      <td>0.024733</td>\n",
       "      <td>Parch</td>\n",
       "      <td>0.066124</td>\n",
       "    </tr>\n",
       "  </tbody>\n",
       "</table>\n",
       "</div>"
      ],
      "text/plain": [
       "   AdaBoost feature importances  Extra Trees  feature importances  \\\n",
       "0                         0.028                          0.126260   \n",
       "1                         0.022                          0.438950   \n",
       "2                         0.036                          0.039609   \n",
       "3                         0.234                          0.031049   \n",
       "4                         0.166                          0.016266   \n",
       "\n",
       "   Gradient Boost feature importances  Random Forest feature importances  \\\n",
       "0                            0.145550                           0.137171   \n",
       "1                            0.054859                           0.319284   \n",
       "2                            0.118527                           0.032261   \n",
       "3                            0.054656                           0.037349   \n",
       "4                            0.057497                           0.024733   \n",
       "\n",
       "  features      mean  \n",
       "0   Pclass  0.109245  \n",
       "1      Sex  0.208773  \n",
       "2      Age  0.056599  \n",
       "3    SibSp  0.089263  \n",
       "4    Parch  0.066124  "
      ]
     },
     "execution_count": 552,
     "metadata": {},
     "output_type": "execute_result"
    }
   ],
   "source": [
    "# Create the new column containing the average of values\n",
    "\n",
    "feature_dataframe['mean'] = feature_dataframe.mean(axis= 1) # axis = 1 computes the mean row-wise\n",
    "feature_dataframe.head(5)"
   ]
  },
  {
   "cell_type": "code",
   "execution_count": 553,
   "metadata": {},
   "outputs": [
    {
     "data": {
      "text/html": [
       "<div id=\"13e52c4d-81b5-4a5c-8df1-1b55516a7aaa\" style=\"height: 525px; width: 100%;\" class=\"plotly-graph-div\"></div><script type=\"text/javascript\">require([\"plotly\"], function(Plotly) { window.PLOTLYENV=window.PLOTLYENV || {};window.PLOTLYENV.BASE_URL=\"https://plot.ly\";Plotly.newPlot(\"13e52c4d-81b5-4a5c-8df1-1b55516a7aaa\", [{\"x\": [\"Pclass\", \"Sex\", \"Age\", \"SibSp\", \"Parch\", \"Fare\", \"Embarked\", \"Title\", \"Has_Cabin\", \"FamilySize\", \"IsAlone\"], \"width\": 0.5, \"y\": [0.1092453575, 0.2087732325, 0.05659936, 0.08926322750000001, 0.066123975, 0.088916375, 0.060009402499999996, 0.11130019, 0.05768271500000001, 0.132503335, 0.019582835], \"type\": \"bar\", \"opacity\": 0.6, \"marker\": {\"reversescale\": false, \"showscale\": true, \"colorscale\": \"Portland\", \"color\": [0.1092453575, 0.2087732325, 0.05659936, 0.08926322750000001, 0.066123975, 0.088916375, 0.060009402499999996, 0.11130019, 0.05768271500000001, 0.132503335, 0.019582835]}}], {\"hovermode\": \"closest\", \"autosize\": true, \"yaxis\": {\"ticklen\": 5, \"title\": \"Feature Importance\", \"gridwidth\": 2}, \"showlegend\": false, \"title\": \"Barplots of Mean Feature Importance\"}, {\"showLink\": true, \"linkText\": \"Export to plot.ly\"})});</script>"
      ],
      "text/plain": [
       "<IPython.core.display.HTML object>"
      ]
     },
     "metadata": {},
     "output_type": "display_data"
    }
   ],
   "source": [
    "\n",
    "y = feature_dataframe['mean'].values\n",
    "x = feature_dataframe['features'].values\n",
    "data = [go.Bar(\n",
    "            x= x,\n",
    "             y= y,\n",
    "            width = 0.5,\n",
    "            marker=dict(\n",
    "               color = feature_dataframe['mean'].values,\n",
    "            colorscale='Portland',\n",
    "            showscale=True,\n",
    "            reversescale = False\n",
    "            ),\n",
    "            opacity=0.6\n",
    "        )]\n",
    "\n",
    "layout= go.Layout(\n",
    "    autosize= True,\n",
    "    title= 'Barplots of Mean Feature Importance',\n",
    "    hovermode= 'closest',\n",
    "    yaxis=dict(\n",
    "        title= 'Feature Importance',\n",
    "        ticklen= 5,\n",
    "        gridwidth= 2\n",
    "    ),\n",
    "    showlegend= False\n",
    ")\n",
    "fig = go.Figure(data=data, layout=layout)\n",
    "py.iplot(fig, filename='bar-direct-labels')"
   ]
  },
  {
   "cell_type": "code",
   "execution_count": 554,
   "metadata": {},
   "outputs": [
    {
     "data": {
      "text/html": [
       "<div>\n",
       "<style>\n",
       "    .dataframe thead tr:only-child th {\n",
       "        text-align: right;\n",
       "    }\n",
       "\n",
       "    .dataframe thead th {\n",
       "        text-align: left;\n",
       "    }\n",
       "\n",
       "    .dataframe tbody tr th {\n",
       "        vertical-align: top;\n",
       "    }\n",
       "</style>\n",
       "<table border=\"1\" class=\"dataframe\">\n",
       "  <thead>\n",
       "    <tr style=\"text-align: right;\">\n",
       "      <th></th>\n",
       "      <th>AdaBoost</th>\n",
       "      <th>ExtraTrees</th>\n",
       "      <th>GradientBoost</th>\n",
       "      <th>RandomForest</th>\n",
       "    </tr>\n",
       "  </thead>\n",
       "  <tbody>\n",
       "    <tr>\n",
       "      <th>0</th>\n",
       "      <td>0.0</td>\n",
       "      <td>0.0</td>\n",
       "      <td>0.0</td>\n",
       "      <td>0.0</td>\n",
       "    </tr>\n",
       "    <tr>\n",
       "      <th>1</th>\n",
       "      <td>1.0</td>\n",
       "      <td>1.0</td>\n",
       "      <td>1.0</td>\n",
       "      <td>1.0</td>\n",
       "    </tr>\n",
       "    <tr>\n",
       "      <th>2</th>\n",
       "      <td>1.0</td>\n",
       "      <td>0.0</td>\n",
       "      <td>0.0</td>\n",
       "      <td>0.0</td>\n",
       "    </tr>\n",
       "    <tr>\n",
       "      <th>3</th>\n",
       "      <td>1.0</td>\n",
       "      <td>1.0</td>\n",
       "      <td>1.0</td>\n",
       "      <td>1.0</td>\n",
       "    </tr>\n",
       "    <tr>\n",
       "      <th>4</th>\n",
       "      <td>0.0</td>\n",
       "      <td>0.0</td>\n",
       "      <td>0.0</td>\n",
       "      <td>0.0</td>\n",
       "    </tr>\n",
       "  </tbody>\n",
       "</table>\n",
       "</div>"
      ],
      "text/plain": [
       "   AdaBoost  ExtraTrees  GradientBoost  RandomForest\n",
       "0       0.0         0.0            0.0           0.0\n",
       "1       1.0         1.0            1.0           1.0\n",
       "2       1.0         0.0            0.0           0.0\n",
       "3       1.0         1.0            1.0           1.0\n",
       "4       0.0         0.0            0.0           0.0"
      ]
     },
     "execution_count": 554,
     "metadata": {},
     "output_type": "execute_result"
    }
   ],
   "source": [
    "base_predictions_train = pd.DataFrame( {'RandomForest': rf_oof_train.ravel(),\n",
    "     'ExtraTrees': et_oof_train.ravel(),\n",
    "     'AdaBoost': ada_oof_train.ravel(),\n",
    "      'GradientBoost': gb_oof_train.ravel()\n",
    "    })\n",
    "base_predictions_train.head()"
   ]
  },
  {
   "cell_type": "code",
   "execution_count": 555,
   "metadata": {},
   "outputs": [
    {
     "data": {
      "text/html": [
       "<div id=\"2de4e044-bc6c-47a4-84f8-e532606b05fc\" style=\"height: 525px; width: 100%;\" class=\"plotly-graph-div\"></div><script type=\"text/javascript\">require([\"plotly\"], function(Plotly) { window.PLOTLYENV=window.PLOTLYENV || {};window.PLOTLYENV.BASE_URL=\"https://plot.ly\";Plotly.newPlot(\"2de4e044-bc6c-47a4-84f8-e532606b05fc\", [{\"colorscale\": \"Portland\", \"reversescale\": true, \"y\": [\"AdaBoost\", \"ExtraTrees\", \"GradientBoost\", \"RandomForest\"], \"type\": \"heatmap\", \"showscale\": true, \"z\": [[1.0, 0.8401357361576387, 0.7184832436886418, 0.8396692755886203], [0.8401357361576387, 1.0, 0.8509216066055074, 0.876795194729609], [0.7184832436886418, 0.8509216066055074, 1.0, 0.7782201221655538], [0.8396692755886203, 0.876795194729609, 0.7782201221655538, 1.0]], \"x\": [\"AdaBoost\", \"ExtraTrees\", \"GradientBoost\", \"RandomForest\"]}], {}, {\"showLink\": true, \"linkText\": \"Export to plot.ly\"})});</script>"
      ],
      "text/plain": [
       "<IPython.core.display.HTML object>"
      ]
     },
     "metadata": {},
     "output_type": "display_data"
    }
   ],
   "source": [
    "data = [\n",
    "    go.Heatmap(\n",
    "        z= base_predictions_train.astype(float).corr().values ,\n",
    "        x=base_predictions_train.columns.values,\n",
    "        y= base_predictions_train.columns.values,\n",
    "          colorscale='Portland',\n",
    "            showscale=True,\n",
    "            reversescale = True\n",
    "    )\n",
    "]\n",
    "py.iplot(data, filename='labelled-heatmap')"
   ]
  },
  {
   "cell_type": "code",
   "execution_count": 556,
   "metadata": {
    "collapsed": true
   },
   "outputs": [],
   "source": [
    "x_train = np.concatenate(( et_oof_train, rf_oof_train, ada_oof_train, gb_oof_train, svc_oof_train), axis=1)\n",
    "x_test = np.concatenate(( et_oof_test, rf_oof_test, ada_oof_test, gb_oof_test, svc_oof_test), axis=1)"
   ]
  },
  {
   "cell_type": "code",
   "execution_count": 557,
   "metadata": {
    "collapsed": true
   },
   "outputs": [],
   "source": [
    "rndforest = RandomForestClassifier(\n",
    "    n_estimators= 500,\n",
    "    warm_start= True, \n",
    "    max_depth= 5,\n",
    "    min_samples_leaf= 2,\n",
    "    max_features = 'sqrt',\n",
    "    verbose= 0).fit(x_train, y_train)\n",
    "predictions = rndforest.predict(x_test)"
   ]
  },
  {
   "cell_type": "code",
   "execution_count": 558,
   "metadata": {
    "collapsed": true
   },
   "outputs": [],
   "source": [
    "submission = pd.DataFrame({\n",
    "        \"PassengerId\": PassengerId,\n",
    "        \"Survived\": predictions\n",
    "    })\n",
    "submission.to_csv(r'C:/Users/ernest.chocholowski/Desktop/Datasets/Titanic/output/Ensemble_3.csv',\n",
    "                  index=False)"
   ]
  },
  {
   "cell_type": "code",
   "execution_count": null,
   "metadata": {
    "collapsed": true
   },
   "outputs": [],
   "source": []
  }
 ],
 "metadata": {
  "kernelspec": {
   "display_name": "Python 3",
   "language": "python",
   "name": "python3"
  },
  "language_info": {
   "codemirror_mode": {
    "name": "ipython",
    "version": 3
   },
   "file_extension": ".py",
   "mimetype": "text/x-python",
   "name": "python",
   "nbconvert_exporter": "python",
   "pygments_lexer": "ipython3",
   "version": "3.5.3"
  }
 },
 "nbformat": 4,
 "nbformat_minor": 2
}
