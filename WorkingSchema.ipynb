{
 "cells": [
  {
   "cell_type": "code",
   "execution_count": 74,
   "metadata": {
    "collapsed": true
   },
   "outputs": [],
   "source": [
    "import itertools #iteration tools\n",
    "import numpy as np # linear algebra\n",
    "import pandas as pd # data processing, CSV file I/O (e.g. pd.read_csv)\n",
    "import seaborn as sns # nice plots\n",
    "import matplotlib.pyplot as plt # plots\n",
    "from ipy_table import *\n",
    "\n",
    "#preprocessing\n",
    "from sklearn.preprocessing import LabelEncoder\n",
    "\n",
    "# machine learning\n",
    "from sklearn.linear_model import LinearRegression\n",
    "from sklearn.linear_model import LogisticRegression \n",
    "from sklearn.svm import SVC, LinearSVC\n",
    "from sklearn.ensemble import RandomForestClassifier\n",
    "from sklearn.neighbors import KNeighborsClassifier\n",
    "from sklearn.naive_bayes import GaussianNB\n",
    "from sklearn.linear_model import Perceptron\n",
    "from sklearn.linear_model import SGDClassifier\n",
    "from sklearn.tree import DecisionTreeClassifier\n",
    "\n",
    "# Import and suppress warnings\n",
    "import warnings\n",
    "warnings.filterwarnings('ignore')"
   ]
  },
  {
   "cell_type": "code",
   "execution_count": 75,
   "metadata": {
    "collapsed": false
   },
   "outputs": [],
   "source": [
    "##CHECK THOSEOUT\n",
    "from imblearn.over_sampling import SMOTE\n",
    "#import xgboost"
   ]
  },
  {
   "cell_type": "markdown",
   "metadata": {},
   "source": [
    "### Get train Data"
   ]
  },
  {
   "cell_type": "code",
   "execution_count": 76,
   "metadata": {
    "collapsed": false,
    "scrolled": true
   },
   "outputs": [],
   "source": [
    "train_df = pd.read_csv(r'C:/Users/ernest.chocholowski/Desktop/Datasets/Titanic/train.csv')\n",
    "test_df = pd.read_csv(r'C:/Users/ernest.chocholowski/Desktop/Datasets/Titanic/test.csv')\n",
    "both = [train_df, test_df]\n",
    "train_df.head()\n",
    "super_table=[]\n",
    "super_table.append(['name', 'reg_function', 'trainset_acc', 'testset_acc', 'r2score', 'conf_matrx', 'kaggle_acc'])\n",
    "df_load = pd.read_csv(r'C:/Users/ernest.chocholowski/Desktop/GIT/Titanic/table_eCh.csv')\n",
    "for row in df_load.values.tolist():\n",
    "    super_table.append(row)"
   ]
  },
  {
   "cell_type": "code",
   "execution_count": 79,
   "metadata": {
    "collapsed": false
   },
   "outputs": [],
   "source": [
    "for df in both:\n",
    "    df['Title'] = df.Name.str.extract(' ([A-Za-z]+)\\.', expand=False)\n",
    "    df['Title'] = df['Title'].replace(['Lady', 'Countess', 'Don', 'Dr', 'Rev', 'Sir', 'Jonkheer', 'Dona'], 'Rare')\n",
    "\n",
    "    df['Title'] = df['Title'].replace(['Capt', 'Col', 'Major'], 'Officer')\n",
    "    df['Title'] = df['Title'].replace(['Mlle', 'Ms'], 'Miss')\n",
    "    df['Title'] = df['Title'].replace('Mme', 'Mrs')"
   ]
  },
  {
   "cell_type": "code",
   "execution_count": 80,
   "metadata": {
    "collapsed": false,
    "scrolled": false
   },
   "outputs": [
    {
     "data": {
      "text/plain": [
       "PassengerId      int64\n",
       "Survived         int64\n",
       "Pclass           int64\n",
       "Name            object\n",
       "Sex             object\n",
       "Age            float64\n",
       "SibSp            int64\n",
       "Parch            int64\n",
       "Ticket          object\n",
       "Fare           float64\n",
       "Cabin           object\n",
       "Embarked        object\n",
       "Title           object\n",
       "dtype: object"
      ]
     },
     "execution_count": 80,
     "metadata": {},
     "output_type": "execute_result"
    }
   ],
   "source": [
    "#labelling\n",
    "var_mod = ['Title', 'Sex', 'Ticket', 'Embarked']\n",
    "le = LabelEncoder()\n",
    "for i in var_mod:\n",
    "    mask = ~train_df[i].isnull()\n",
    "    train_df[i][mask] = le.fit_transform(train_df[i][mask])\n",
    "    mask2 = ~test_df[i].isnull()\n",
    "    test_df[i][mask2] = le.fit_transform(test_df[i][mask2])\n",
    "train_df.dtypes"
   ]
  },
  {
   "cell_type": "code",
   "execution_count": 84,
   "metadata": {
    "collapsed": true
   },
   "outputs": [],
   "source": [
    "train_df = train_df.drop(['Cabin', 'Name', 'PassengerId'], axis=1)\n",
    "test_df = test_df.drop(['Cabin', 'Name'], axis=1)"
   ]
  },
  {
   "cell_type": "code",
   "execution_count": 81,
   "metadata": {
    "collapsed": true
   },
   "outputs": [],
   "source": [
    "#Probabilities of each age in dataset :>\n",
    "#kek=train_df.groupby(['Sex', 'Pclass', 'Title']).Age.apply(lambda g: g.value_counts()/len(g))"
   ]
  },
  {
   "cell_type": "code",
   "execution_count": 82,
   "metadata": {
    "collapsed": false
   },
   "outputs": [],
   "source": [
    "#perform imputation!\n",
    "#imputation of age with imputer\n",
    "from sklearn.preprocessing import Imputer\n",
    "imp=Imputer(missing_values=\"NaN\", strategy=\"mean\" )\n",
    "train_df[\"Age\"]=imp.fit_transform(train_df[[\"Age\"]]).ravel()\n",
    "test_df[\"Age\"]=imp.fit_transform(test_df[[\"Age\"]]).ravel()\n",
    "\n",
    "#impute embarked as the most frequent one\n",
    "freq_port = train_df.Embarked.dropna().mode()[0]\n",
    "train_df['Embarked'] = train_df['Embarked'].fillna(freq_port)\n",
    "\n",
    "#impute missing Fare value\n",
    "test_df['Fare'].fillna(test_df['Fare'].dropna().median(), inplace=True)"
   ]
  },
  {
   "cell_type": "code",
   "execution_count": 85,
   "metadata": {
    "collapsed": false,
    "scrolled": false
   },
   "outputs": [
    {
     "data": {
      "text/html": [
       "<div>\n",
       "<style>\n",
       "    .dataframe thead tr:only-child th {\n",
       "        text-align: right;\n",
       "    }\n",
       "\n",
       "    .dataframe thead th {\n",
       "        text-align: left;\n",
       "    }\n",
       "\n",
       "    .dataframe tbody tr th {\n",
       "        vertical-align: top;\n",
       "    }\n",
       "</style>\n",
       "<table border=\"1\" class=\"dataframe\">\n",
       "  <thead>\n",
       "    <tr style=\"text-align: right;\">\n",
       "      <th></th>\n",
       "      <th>Survived</th>\n",
       "      <th>Pclass</th>\n",
       "      <th>Sex</th>\n",
       "      <th>Age</th>\n",
       "      <th>SibSp</th>\n",
       "      <th>Parch</th>\n",
       "      <th>Ticket</th>\n",
       "      <th>Fare</th>\n",
       "      <th>Embarked</th>\n",
       "      <th>Title</th>\n",
       "    </tr>\n",
       "  </thead>\n",
       "  <tbody>\n",
       "    <tr>\n",
       "      <th>0</th>\n",
       "      <td>0</td>\n",
       "      <td>3</td>\n",
       "      <td>1</td>\n",
       "      <td>22.0</td>\n",
       "      <td>1</td>\n",
       "      <td>0</td>\n",
       "      <td>523</td>\n",
       "      <td>7.2500</td>\n",
       "      <td>2</td>\n",
       "      <td>2</td>\n",
       "    </tr>\n",
       "    <tr>\n",
       "      <th>1</th>\n",
       "      <td>1</td>\n",
       "      <td>1</td>\n",
       "      <td>0</td>\n",
       "      <td>38.0</td>\n",
       "      <td>1</td>\n",
       "      <td>0</td>\n",
       "      <td>596</td>\n",
       "      <td>71.2833</td>\n",
       "      <td>0</td>\n",
       "      <td>3</td>\n",
       "    </tr>\n",
       "    <tr>\n",
       "      <th>2</th>\n",
       "      <td>1</td>\n",
       "      <td>3</td>\n",
       "      <td>0</td>\n",
       "      <td>26.0</td>\n",
       "      <td>0</td>\n",
       "      <td>0</td>\n",
       "      <td>669</td>\n",
       "      <td>7.9250</td>\n",
       "      <td>2</td>\n",
       "      <td>1</td>\n",
       "    </tr>\n",
       "    <tr>\n",
       "      <th>3</th>\n",
       "      <td>1</td>\n",
       "      <td>1</td>\n",
       "      <td>0</td>\n",
       "      <td>35.0</td>\n",
       "      <td>1</td>\n",
       "      <td>0</td>\n",
       "      <td>49</td>\n",
       "      <td>53.1000</td>\n",
       "      <td>2</td>\n",
       "      <td>3</td>\n",
       "    </tr>\n",
       "    <tr>\n",
       "      <th>4</th>\n",
       "      <td>0</td>\n",
       "      <td>3</td>\n",
       "      <td>1</td>\n",
       "      <td>35.0</td>\n",
       "      <td>0</td>\n",
       "      <td>0</td>\n",
       "      <td>472</td>\n",
       "      <td>8.0500</td>\n",
       "      <td>2</td>\n",
       "      <td>2</td>\n",
       "    </tr>\n",
       "  </tbody>\n",
       "</table>\n",
       "</div>"
      ],
      "text/plain": [
       "   Survived  Pclass Sex   Age  SibSp  Parch Ticket     Fare  Embarked Title\n",
       "0         0       3   1  22.0      1      0    523   7.2500         2     2\n",
       "1         1       1   0  38.0      1      0    596  71.2833         0     3\n",
       "2         1       3   0  26.0      0      0    669   7.9250         2     1\n",
       "3         1       1   0  35.0      1      0     49  53.1000         2     3\n",
       "4         0       3   1  35.0      0      0    472   8.0500         2     2"
      ]
     },
     "execution_count": 85,
     "metadata": {},
     "output_type": "execute_result"
    }
   ],
   "source": [
    "train_df.head()"
   ]
  },
  {
   "cell_type": "code",
   "execution_count": 204,
   "metadata": {
    "collapsed": true
   },
   "outputs": [
    {
     "data": {
      "text/html": [
       "<script>requirejs.config({paths: { 'plotly': ['https://cdn.plot.ly/plotly-latest.min']},});if(!window.Plotly) {{require(['plotly'],function(plotly) {window.Plotly=plotly;});}}</script>"
      ],
      "text/plain": [
       "<IPython.core.display.HTML object>"
      ]
     },
     "metadata": {},
     "output_type": "display_data"
    },
    {
     "data": {
      "text/html": [
       "<div id=\"4e1ece6e-0446-4b22-ab3a-7ab79767589d\" style=\"height: 525px; width: 100%;\" class=\"plotly-graph-div\"></div><script type=\"text/javascript\">require([\"plotly\"], function(Plotly) { window.PLOTLYENV=window.PLOTLYENV || {};window.PLOTLYENV.BASE_URL=\"https://plot.ly\";Plotly.newPlot(\"4e1ece6e-0446-4b22-ab3a-7ab79767589d\", [{\"y\": [549, 342], \"x\": [0, 1], \"type\": \"bar\"}], {}, {\"showLink\": true, \"linkText\": \"Export to plot.ly\"})});</script>"
      ],
      "text/plain": [
       "<IPython.core.display.HTML object>"
      ]
     },
     "metadata": {},
     "output_type": "display_data"
    }
   ],
   "source": [
    "# Import statements required for Plotly \n",
    "import plotly.offline as py\n",
    "py.init_notebook_mode(connected=True)\n",
    "import plotly.graph_objs as go\n",
    "import plotly.tools as tls\n",
    "data = [go.Bar(\n",
    "            x=train_df[\"Survived\"].value_counts().index.values,\n",
    "            y= train_df[\"Survived\"].value_counts().values\n",
    "    )]\n",
    "\n",
    "py.iplot(data, filename='basic-bar')"
   ]
  },
  {
   "cell_type": "code",
   "execution_count": 185,
   "metadata": {
    "collapsed": true
   },
   "outputs": [],
   "source": [
    "#Split data for train and test\n",
    "\n",
    "#set target for training\n",
    "target = train_df[\"Survived\"]\n",
    "target.head(3)\n",
    "\n",
    "# Import the train_test_split method\n",
    "from sklearn.model_selection import train_test_split\n",
    "# Split data into train (2/3rd of data) and test (1/3rd of data)\n",
    "train, test, target_train, target_val = train_test_split(train_df, target, train_size= 0.66, random_state=0);"
   ]
  },
  {
   "cell_type": "code",
   "execution_count": 192,
   "metadata": {
    "collapsed": true
   },
   "outputs": [],
   "source": [
    "def regr_equation(logreg, train, target):\n",
    "    if type(model) is LogisticRegression:\n",
    "        coef = logreg.coef_[0]\n",
    "        intercept = \"{:.2f}\".format(logreg.intercept_[0])\n",
    "    else:\n",
    "        coef = logreg.coef_\n",
    "        intercept = \"{:.2f}\".format(logreg.intercept_)\n",
    "        \n",
    "    output = target.name + ' = ' + str(intercept) + ' + '\n",
    "    coeff_df = pd.DataFrame(train.columns.delete(0))\n",
    "    coeff_df.columns = ['Feature']\n",
    "    coeff_df[\"Correlation\"] = pd.Series(logreg.coef_[0])\n",
    "    features = coeff_df['Feature'].tolist()\n",
    "    coefficients = coeff_df['Correlation'].tolist()\n",
    "    \n",
    "    for coeff, feature in zip(coefficients, features):\n",
    "        coeff_str = \"{:.2f}\".format(coeff)\n",
    "        output += coeff_str + \"*\" + str(feature) + \" + \"\n",
    "    return output[:-3]"
   ]
  },
  {
   "cell_type": "code",
   "execution_count": 193,
   "metadata": {
    "collapsed": true
   },
   "outputs": [],
   "source": [
    "def R2_score(model, X, y, sample_weight=None):\n",
    "    from sklearn.metrics import r2_score\n",
    "    return r2_score(y, model.predict(X), sample_weight=sample_weight)"
   ]
  },
  {
   "cell_type": "code",
   "execution_count": 194,
   "metadata": {
    "collapsed": true
   },
   "outputs": [],
   "source": [
    "def confusion_matrix(model, X, y):\n",
    "    from sklearn.metrics import confusion_matrix\n",
    "    return confusion_matrix(y, model.predict(X))"
   ]
  },
  {
   "cell_type": "code",
   "execution_count": 195,
   "metadata": {
    "collapsed": false
   },
   "outputs": [],
   "source": [
    "def test_model (model, train, test, target_train, target_val, submission_name = None):\n",
    "\n",
    "    model.fit(train, target_train)\n",
    "\n",
    "    #Calc parameters\n",
    "    trainset_acc = round(model.score(train, target_train) * 100, 2)\n",
    "    testset_acc = round(model.score(test, target_val) * 100, 2)\n",
    "    if type(model) is LogisticRegression:\n",
    "        function_str = regr_equation(model, train, target_train)\n",
    "    elif type(model) is LinearRegression:\n",
    "        function_str = regr_equation(model, train, target_train)\n",
    "    else :\n",
    "        function_str = \"NA\"    \n",
    "    \n",
    "    r2_score = R2_score(model, train, target_train)\n",
    "    if type(model) is not LinearRegression:\n",
    "        conf_matrix = confusion_matrix(logreg,train,target_train)\n",
    "        conf_matrix = 'TN: '+str(conf_matrix[0][0])+', FP: '+str(conf_matrix[0][1])+ \\\n",
    "                          ', FN: '+str(conf_matrix[1][0])+', TP: '+str(conf_matrix[1][1])\n",
    "    else:\n",
    "        conf_matrix = \"NA\"\n",
    "    kaggle = \"not_tested\"\n",
    "    \n",
    "    #prints\n",
    "    print('Submission name:', submission_name )\n",
    "    print('Regression function:\\n', function_str)\n",
    "    print('Accuracy on train set:', trainset_acc)\n",
    "    print('Accuracy on test set:', testset_acc)\n",
    "    print(\"R2 score:\", r2_score)\n",
    "    print(\"Confusion matrix:\\n\", conf_matrix)\n",
    "\n",
    "    \n",
    "    return [submission_name, function_str, str(trainset_acc), str(testset_acc), r2_score, conf_matrix, kaggle]"
   ]
  },
  {
   "cell_type": "code",
   "execution_count": 196,
   "metadata": {
    "collapsed": false
   },
   "outputs": [],
   "source": [
    "model = LinearRegression()"
   ]
  },
  {
   "cell_type": "code",
   "execution_count": 197,
   "metadata": {
    "collapsed": false,
    "scrolled": false
   },
   "outputs": [
    {
     "name": "stdout",
     "output_type": "stream",
     "text": [
      "Submission name: logisticReg_basicImputator_Title\n",
      "Regression function:\n",
      " Survived = -0.00 + 1.00*Pclass + nan*Sex + nan*Age + nan*SibSp + nan*Parch + nan*Ticket + nan*Fare + nan*Embarked + nan*Title\n",
      "Accuracy on train set: 100.0\n",
      "Accuracy on test set: 100.0\n",
      "R2 score: 1.0\n",
      "Confusion matrix:\n",
      " NA\n"
     ]
    }
   ],
   "source": [
    "output = test_model(model, train, test, target_train, target_val, submission_name='logisticReg_basicImputator_Title')"
   ]
  },
  {
   "cell_type": "code",
   "execution_count": 39,
   "metadata": {
    "collapsed": true
   },
   "outputs": [],
   "source": [
    "#Setup\n",
    "x_selection = train_df.columns.values\n",
    "x_selection = np.delete(x_selection, [0,1]) ##ONLY IF \"SURVIVED\" and \"PASSENGERID\" are in the selection!!\n",
    "suffix = '_basicImputator_Title'\n",
    "\n",
    "modelSVC = SVC()\n",
    "modellinSVC = LinearSVC()\n",
    "modelKN = KNeighborsClassifier(n_neighbors = 3)\n",
    "modelGNB = GaussianNB()\n",
    "modelPercp = Perceptron()\n",
    "modelSGD = SGDClassifier()\n",
    "modelTree = DecisionTreeClassifier()\n",
    "modelRndForest = RandomForestClassifier(n_estimators=100)\n",
    "\n",
    "models = {modelSVC: \"SVC\", modellinSVC: \"LinSVC\",\n",
    "          modelKN: \"KN\", modelGNB: \"GaussianNB\",\n",
    "          modelPercp: \"Percep\", modelSGD: \"SGD\",\n",
    "          modelTree: \"DecisionTree\", modelRndForest: \"RandomForest\"}"
   ]
  },
  {
   "cell_type": "code",
   "execution_count": 40,
   "metadata": {
    "collapsed": false
   },
   "outputs": [],
   "source": [
    "outputs = []\n",
    "for model, prefix in models.items():\n",
    "    name=prefix+suffix\n",
    "    outputs.append(other_tests(model, train_df, test_df, x_selection, submission_name=name, details=False))\n",
    "outputs.sort(key=lambda x: x[0])"
   ]
  },
  {
   "cell_type": "code",
   "execution_count": 41,
   "metadata": {
    "collapsed": true
   },
   "outputs": [],
   "source": [
    "# DecisionTree_basicTest\n",
    "# GaussianNB_basicTest\n",
    "# KN_basicTest\n",
    "# LinSVC_basicTest\n",
    "# Percep_basicTest\n",
    "# RandomForest_basicTest\n",
    "# SGD_basicTest\n",
    "# SVC_basicTest"
   ]
  },
  {
   "cell_type": "code",
   "execution_count": 179,
   "metadata": {
    "collapsed": true
   },
   "outputs": [],
   "source": [
    "#testset_acc = [0.62679, 0.73684, 0.55502, 0.63158, 0.65072, 0.75598, 0.64593, 0.62679]\n",
    "#for i in range (len(testset_acc)):\n",
    "#    test_acc =  \"{:.2f}\".format(testset_acc[i]*100)\n",
    "#    outputs[i].insert(3, test_acc)\n",
    "#    super_table.append(outputs[i])"
   ]
  },
  {
   "cell_type": "code",
   "execution_count": 77,
   "metadata": {
    "collapsed": false,
    "scrolled": true
   },
   "outputs": [
    {
     "data": {
      "text/html": [
       "<table border=\"1\" cellpadding=\"3\" cellspacing=\"0\"  style=\"border:1px solid black;border-collapse:collapse;\"><tr><td  style=\"background-color:LightGray;\"><b>name</b></td><td  style=\"background-color:LightGray;\"><b>reg_function</b></td><td  style=\"background-color:LightGray;\"><b>trainset_acc</b></td><td  style=\"background-color:LightGray;\"><b>testset_acc</b></td><td  style=\"background-color:LightGray;\"><b>r2score</b></td><td  style=\"background-color:LightGray;\"><b>conf_matrx</b></td><td  style=\"background-color:LightGray;\"><b>kaggle_acc</b></td></tr><tr><td  style=\"background-color:Ivory;\">logisticReg_basic</td><td  style=\"background-color:Ivory;\">Survived&nbsp=&nbsp3.99&nbsp+&nbsp-0.85*Pclass&nbsp+&nbsp-0.00*Name&nbsp+&nbsp-2.35*Sex&nbsp+&nbsp-0.03*Age&nbsp+&nbsp-0.32*SibSp&nbsp+&nbsp-0.06*Parch&nbsp+&nbsp-0.00*Ticket&nbsp+&nbsp0.01*Fare</td><td  style=\"background-color:Ivory;\">79.97</td><td  style=\"background-color:Ivory;\">nan</td><td  style=\"background-color:Ivory;\">0.1696324007807416</td><td  style=\"background-color:Ivory;\">TN:&nbsp369,&nbspFP:&nbsp55,&nbspFN:&nbsp88,&nbspTP:&nbsp202</td><td  style=\"background-color:Ivory;\">failed_evl</td></tr><tr><td  style=\"background-color:AliceBlue;\">linearReg_basic</td><td  style=\"background-color:AliceBlue;\">Survived&nbsp=&nbsp1.40&nbsp+&nbsp-0.19*Pclass&nbsp+&nbsp-0.00*Name&nbsp+&nbsp-0.49*Sex&nbsp+&nbsp-0.01*Age&nbsp+&nbsp-0.06*SibSp&nbsp+&nbsp-0.01*Parch&nbsp+&nbsp-0.00*Ticket&nbsp+&nbsp0.00*Fare</td><td  style=\"background-color:AliceBlue;\">40.25</td><td  style=\"background-color:AliceBlue;\">nan</td><td  style=\"background-color:AliceBlue;\">0.4025252345231439</td><td  style=\"background-color:AliceBlue;\">nan</td><td  style=\"background-color:AliceBlue;\">failed_evl</td></tr><tr><td  style=\"background-color:Ivory;\">SVC_basic</td><td  style=\"background-color:Ivory;\">nan</td><td  style=\"background-color:Ivory;\">99.86</td><td  style=\"background-color:Ivory;\">nan</td><td  style=\"background-color:Ivory;\">0.9941932335718932</td><td  style=\"background-color:Ivory;\">TN:&nbsp424,&nbspFP:&nbsp0,&nbspFN:&nbsp1,&nbspTP:&nbsp289</td><td  style=\"background-color:Ivory;\">failed_evl</td></tr><tr><td  style=\"background-color:AliceBlue;\">KNC_basic</td><td  style=\"background-color:AliceBlue;\">nan</td><td  style=\"background-color:AliceBlue;\">82.49</td><td  style=\"background-color:AliceBlue;\">nan</td><td  style=\"background-color:AliceBlue;\">0.2741541964866623</td><td  style=\"background-color:AliceBlue;\">TN:&nbsp356,&nbspFP:&nbsp68,&nbspFN:&nbsp57,&nbspTP:&nbsp233</td><td  style=\"background-color:AliceBlue;\">failed_evl</td></tr><tr><td  style=\"background-color:Ivory;\">GaussianNB_basic</td><td  style=\"background-color:Ivory;\">nan</td><td  style=\"background-color:Ivory;\">78.57</td><td  style=\"background-color:Ivory;\">nan</td><td  style=\"background-color:Ivory;\">0.11156473649967458</td><td  style=\"background-color:Ivory;\">TN:&nbsp352,&nbspFP:&nbsp72,&nbspFN:&nbsp81,&nbspTP:&nbsp209</td><td  style=\"background-color:Ivory;\">failed_evl</td></tr><tr><td  style=\"background-color:AliceBlue;\">Perceptron_basic</td><td  style=\"background-color:AliceBlue;\">nan</td><td  style=\"background-color:AliceBlue;\">62.46</td><td  style=\"background-color:AliceBlue;\">nan</td><td  style=\"background-color:AliceBlue;\">-0.5562134027325961</td><td  style=\"background-color:AliceBlue;\">TN:&nbsp417,&nbspFP:&nbsp7,&nbspFN:&nbsp261,&nbspTP:&nbsp29</td><td  style=\"background-color:AliceBlue;\">failed_evl</td></tr><tr><td  style=\"background-color:Ivory;\">LinearSVC_basic</td><td  style=\"background-color:Ivory;\">nan</td><td  style=\"background-color:Ivory;\">49.44</td><td  style=\"background-color:Ivory;\">nan</td><td  style=\"background-color:Ivory;\">-1.0962426805465193</td><td  style=\"background-color:Ivory;\">TN:&nbsp94,&nbspFP:&nbsp330,&nbspFN:&nbsp31,&nbspTP:&nbsp259</td><td  style=\"background-color:Ivory;\">failed_evl</td></tr><tr><td  style=\"background-color:AliceBlue;\">SGDClassifier_basic</td><td  style=\"background-color:AliceBlue;\">nan</td><td  style=\"background-color:AliceBlue;\">65.69</td><td  style=\"background-color:AliceBlue;\">nan</td><td  style=\"background-color:AliceBlue;\">-0.422657774886142</td><td  style=\"background-color:AliceBlue;\">TN:&nbsp330,&nbspFP:&nbsp94,&nbspFN:&nbsp151,&nbspTP:&nbsp139</td><td  style=\"background-color:AliceBlue;\">failed_evl</td></tr><tr><td  style=\"background-color:Ivory;\">DecisionTreeClassifier_basic</td><td  style=\"background-color:Ivory;\">nan</td><td  style=\"background-color:Ivory;\">100.0</td><td  style=\"background-color:Ivory;\">nan</td><td  style=\"background-color:Ivory;\">1.0</td><td  style=\"background-color:Ivory;\">TN:&nbsp424,&nbspFP:&nbsp0,&nbspFN:&nbsp0,&nbspTP:&nbsp290</td><td  style=\"background-color:Ivory;\">failed_evl</td></tr><tr><td  style=\"background-color:AliceBlue;\">RandomForestClassifier_basic</td><td  style=\"background-color:AliceBlue;\">nan</td><td  style=\"background-color:AliceBlue;\">100.0</td><td  style=\"background-color:AliceBlue;\">nan</td><td  style=\"background-color:AliceBlue;\">1.0</td><td  style=\"background-color:AliceBlue;\">TN:&nbsp424,&nbspFP:&nbsp0,&nbspFN:&nbsp0,&nbspTP:&nbsp290</td><td  style=\"background-color:AliceBlue;\">failed_evl</td></tr><tr><td  style=\"background-color:Ivory;\">logisticReg_basicImputator</td><td  style=\"background-color:Ivory;\">Survived&nbsp=&nbsp4.04&nbsp+&nbsp-0.72*Pclass&nbsp+&nbsp-0.00*Name&nbsp+&nbsp-2.48*Sex&nbsp+&nbsp-0.03*Age&nbsp+&nbsp-0.29*SibSp&nbsp+&nbsp-0.09*Parch&nbsp+&nbsp-0.00*Ticket&nbsp+&nbsp0.01*Fare&nbsp+&nbsp-0.15*Embarked</td><td  style=\"background-color:Ivory;\">80.25</td><td  style=\"background-color:Ivory;\">nan</td><td  style=\"background-color:Ivory;\">0.16479723899913698</td><td  style=\"background-color:Ivory;\">TN:&nbsp479,&nbspFP:&nbsp70,&nbspFN:&nbsp106,&nbspTP:&nbsp236</td><td  style=\"background-color:Ivory;\">75.120</td></tr><tr><td  style=\"background-color:AliceBlue;\">linearReg_basicImputator</td><td  style=\"background-color:AliceBlue;\">Survived&nbsp=&nbsp1.37&nbsp+&nbsp-0.15*Pclass&nbsp+&nbsp-0.00*Name&nbsp+&nbsp-0.51*Sex&nbsp+&nbsp-0.01*Age&nbsp+&nbsp-0.04*SibSp&nbsp+&nbsp-0.02*Parch&nbsp+&nbsp-0.00*Ticket&nbsp+&nbsp0.00*Fare&nbsp+&nbsp-0.04*Embarked</td><td  style=\"background-color:AliceBlue;\">40.08</td><td  style=\"background-color:AliceBlue;\">nan</td><td  style=\"background-color:AliceBlue;\">0.4007711857324642</td><td  style=\"background-color:AliceBlue;\">nan</td><td  style=\"background-color:AliceBlue;\">failed_evl</td></tr><tr><td  style=\"background-color:Ivory;\">SVC_basicImputator</td><td  style=\"background-color:Ivory;\">nan</td><td  style=\"background-color:Ivory;\">99.21</td><td  style=\"background-color:Ivory;\">nan</td><td  style=\"background-color:Ivory;\">0.966781708369284</td><td  style=\"background-color:Ivory;\">TN:&nbsp549,&nbspFP:&nbsp0,&nbspFN:&nbsp7,&nbspTP:&nbsp335</td><td  style=\"background-color:Ivory;\">62.679</td></tr><tr><td  style=\"background-color:AliceBlue;\">LinSVC_basicImputator</td><td  style=\"background-color:AliceBlue;\">nan</td><td  style=\"background-color:AliceBlue;\">39.28</td><td  style=\"background-color:AliceBlue;\">nan</td><td  style=\"background-color:AliceBlue;\">-1.5672993960310615</td><td  style=\"background-color:AliceBlue;\">TN:&nbsp12,&nbspFP:&nbsp537,&nbspFN:&nbsp4,&nbspTP:&nbsp338</td><td  style=\"background-color:AliceBlue;\">63.158</td></tr><tr><td  style=\"background-color:Ivory;\">KN_basicImputator</td><td  style=\"background-color:Ivory;\">nan</td><td  style=\"background-color:Ivory;\">82.38</td><td  style=\"background-color:Ivory;\">nan</td><td  style=\"background-color:Ivory;\">0.2549611734253666</td><td  style=\"background-color:Ivory;\">TN:&nbsp472,&nbspFP:&nbsp77,&nbspFN:&nbsp80,&nbspTP:&nbsp262</td><td  style=\"background-color:Ivory;\">55.502</td></tr><tr><td  style=\"background-color:AliceBlue;\">Perceptron_basicImputator</td><td  style=\"background-color:AliceBlue;\">nan</td><td  style=\"background-color:AliceBlue;\">67.45</td><td  style=\"background-color:AliceBlue;\">nan</td><td  style=\"background-color:AliceBlue;\">-0.3761863675582402</td><td  style=\"background-color:AliceBlue;\">TN:&nbsp533,&nbspFP:&nbsp16,&nbspFN:&nbsp274,&nbspTP:&nbsp68</td><td  style=\"background-color:AliceBlue;\">65.072</td></tr><tr><td  style=\"background-color:Ivory;\">DecisionTree_basicImputator</td><td  style=\"background-color:Ivory;\">nan</td><td  style=\"background-color:Ivory;\">100.0</td><td  style=\"background-color:Ivory;\">nan</td><td  style=\"background-color:Ivory;\">1.0</td><td  style=\"background-color:Ivory;\">TN:&nbsp549,&nbspFP:&nbsp0,&nbspFN:&nbsp0,&nbspTP:&nbsp342</td><td  style=\"background-color:Ivory;\">62.679</td></tr><tr><td  style=\"background-color:AliceBlue;\">RandomForest_basicImputator</td><td  style=\"background-color:AliceBlue;\">nan</td><td  style=\"background-color:AliceBlue;\">100.0</td><td  style=\"background-color:AliceBlue;\">nan</td><td  style=\"background-color:AliceBlue;\">1.0</td><td  style=\"background-color:AliceBlue;\">TN:&nbsp549,&nbspFP:&nbsp0,&nbspFN:&nbsp0,&nbspTP:&nbsp342</td><td  style=\"background-color:AliceBlue;\">75.598</td></tr></table>"
      ],
      "text/plain": [
       "<ipy_table.IpyTable at 0x1cbf4e92630>"
      ]
     },
     "execution_count": 77,
     "metadata": {},
     "output_type": "execute_result"
    }
   ],
   "source": [
    "make_table(super_table)\n",
    "apply_theme('basic')"
   ]
  },
  {
   "cell_type": "code",
   "execution_count": 50,
   "metadata": {
    "collapsed": true
   },
   "outputs": [],
   "source": [
    "df = pd.DataFrame(super_table[1:], columns=super_table[0])\n",
    "df.to_csv(r'C:/Users/ernest.chocholowski/Desktop/GIT/Titanic/table_eCh.csv', \n",
    "                      index=False)"
   ]
  },
  {
   "cell_type": "code",
   "execution_count": null,
   "metadata": {
    "collapsed": true
   },
   "outputs": [],
   "source": []
  }
 ],
 "metadata": {
  "kernelspec": {
   "display_name": "Python 3",
   "language": "python",
   "name": "python3"
  },
  "language_info": {
   "codemirror_mode": {
    "name": "ipython",
    "version": 3
   },
   "file_extension": ".py",
   "mimetype": "text/x-python",
   "name": "python",
   "nbconvert_exporter": "python",
   "pygments_lexer": "ipython3",
   "version": "3.5.3"
  }
 },
 "nbformat": 4,
 "nbformat_minor": 2
}
