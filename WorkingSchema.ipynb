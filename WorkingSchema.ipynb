{
 "cells": [
  {
   "cell_type": "code",
   "execution_count": 89,
   "metadata": {
    "collapsed": true
   },
   "outputs": [],
   "source": [
    "import itertools #iteration tools\n",
    "import numpy as np # linear algebra\n",
    "import pandas as pd # data processing, CSV file I/O (e.g. pd.read_csv)\n",
    "import seaborn as sns # nice plots\n",
    "import matplotlib.pyplot as plt # plots\n",
    "from ipy_table import *\n",
    "\n",
    "#preprocessing\n",
    "from sklearn.preprocessing import LabelEncoder\n",
    "# machine learning\n",
    "from sklearn.linear_model import LinearRegression\n",
    "from sklearn.linear_model import LogisticRegression \n",
    "from sklearn.svm import SVC, LinearSVC\n",
    "from sklearn.ensemble import RandomForestClassifier\n",
    "from sklearn.neighbors import KNeighborsClassifier\n",
    "from sklearn.naive_bayes import GaussianNB\n",
    "from sklearn.linear_model import Perceptron\n",
    "from sklearn.linear_model import SGDClassifier\n",
    "from sklearn.tree import DecisionTreeClassifier\n",
    "\n",
    "# Import and suppress warnings\n",
    "import warnings\n",
    "warnings.filterwarnings('ignore')"
   ]
  },
  {
   "cell_type": "markdown",
   "metadata": {},
   "source": [
    "### Get train Data"
   ]
  },
  {
   "cell_type": "code",
   "execution_count": 90,
   "metadata": {
    "collapsed": false,
    "scrolled": true
   },
   "outputs": [],
   "source": [
    "train_df = pd.read_csv(r'C:/Users/ernest.chocholowski/Desktop/Datasets/Titanic/train.csv')\n",
    "test_df = pd.read_csv(r'C:/Users/ernest.chocholowski/Desktop/Datasets/Titanic/test.csv')\n",
    "both_df = [train_df, test_df]\n",
    "train_df.head()\n",
    "super_table=[]\n",
    "super_table.append(['name', 'reg_function', 'trainset_acc', 'testset_acc', 'r2score', 'conf_matrx'])\n",
    "df_load = pd.read_csv(r'C:/Users/ernest.chocholowski/Desktop/GIT/Titanic/table_eCh.csv')\n",
    "for row in df_load.values.tolist():\n",
    "    super_table.append(row)"
   ]
  },
  {
   "cell_type": "code",
   "execution_count": 91,
   "metadata": {
    "collapsed": false,
    "scrolled": false
   },
   "outputs": [
    {
     "data": {
      "text/plain": [
       "PassengerId      int64\n",
       "Survived         int64\n",
       "Pclass           int64\n",
       "Name            object\n",
       "Sex             object\n",
       "Age            float64\n",
       "SibSp            int64\n",
       "Parch            int64\n",
       "Ticket          object\n",
       "Fare           float64\n",
       "Cabin           object\n",
       "Embarked        object\n",
       "dtype: object"
      ]
     },
     "execution_count": 91,
     "metadata": {},
     "output_type": "execute_result"
    }
   ],
   "source": [
    "#labelling\n",
    "var_mod = ['Name', 'Sex', 'Ticket','Cabin', 'Embarked']\n",
    "le = LabelEncoder()\n",
    "for i in var_mod:\n",
    "    mask = ~train_df[i].isnull()\n",
    "    train_df[i][mask] = le.fit_transform(train_df[i][mask])\n",
    "    mask2 = ~test_df[i].isnull()\n",
    "    test_df[i][mask2] = le.fit_transform(test_df[i][mask2])\n",
    "train_df.dtypes"
   ]
  },
  {
   "cell_type": "code",
   "execution_count": 92,
   "metadata": {
    "collapsed": true
   },
   "outputs": [],
   "source": [
    "train_df = train_df.drop(['Cabin'], axis=1)\n",
    "test_df = test_df.drop(['Cabin'], axis=1)"
   ]
  },
  {
   "cell_type": "code",
   "execution_count": 93,
   "metadata": {
    "collapsed": true
   },
   "outputs": [],
   "source": [
    "#perform imputation!\n",
    "#imputation of age with imputer\n",
    "from sklearn.preprocessing import Imputer\n",
    "imp=Imputer(missing_values=\"NaN\", strategy=\"mean\" )\n",
    "train_df[\"Age\"]=imp.fit_transform(train_df[[\"Age\"]]).ravel()\n",
    "test_df[\"Age\"]=imp.fit_transform(test_df[[\"Age\"]]).ravel()\n",
    "\n",
    "#impute embarked as the most frequent one\n",
    "freq_port = train_df.Embarked.dropna().mode()[0]\n",
    "train_df['Embarked'] = train_df['Embarked'].fillna(freq_port)\n",
    "\n",
    "#impute missing Fare value\n",
    "test_df['Fare'].fillna(test_df['Fare'].dropna().median(), inplace=True)"
   ]
  },
  {
   "cell_type": "code",
   "execution_count": 94,
   "metadata": {
    "collapsed": false,
    "scrolled": true
   },
   "outputs": [
    {
     "name": "stdout",
     "output_type": "stream",
     "text": [
      "<class 'pandas.core.frame.DataFrame'>\n",
      "RangeIndex: 891 entries, 0 to 890\n",
      "Data columns (total 11 columns):\n",
      "PassengerId    891 non-null int64\n",
      "Survived       891 non-null int64\n",
      "Pclass         891 non-null int64\n",
      "Name           891 non-null object\n",
      "Sex            891 non-null object\n",
      "Age            891 non-null float64\n",
      "SibSp          891 non-null int64\n",
      "Parch          891 non-null int64\n",
      "Ticket         891 non-null object\n",
      "Fare           891 non-null float64\n",
      "Embarked       891 non-null int64\n",
      "dtypes: float64(2), int64(6), object(3)\n",
      "memory usage: 76.6+ KB\n",
      "__________________________________________________\n",
      "<class 'pandas.core.frame.DataFrame'>\n",
      "RangeIndex: 418 entries, 0 to 417\n",
      "Data columns (total 10 columns):\n",
      "PassengerId    418 non-null int64\n",
      "Pclass         418 non-null int64\n",
      "Name           418 non-null object\n",
      "Sex            418 non-null object\n",
      "Age            418 non-null float64\n",
      "SibSp          418 non-null int64\n",
      "Parch          418 non-null int64\n",
      "Ticket         418 non-null object\n",
      "Fare           418 non-null float64\n",
      "Embarked       418 non-null object\n",
      "dtypes: float64(2), int64(4), object(4)\n",
      "memory usage: 32.7+ KB\n"
     ]
    }
   ],
   "source": [
    "train_df.info()\n",
    "print('_'*50)\n",
    "test_df.info()"
   ]
  },
  {
   "cell_type": "code",
   "execution_count": 95,
   "metadata": {
    "collapsed": false,
    "scrolled": true
   },
   "outputs": [
    {
     "data": {
      "text/html": [
       "<div>\n",
       "<style>\n",
       "    .dataframe thead tr:only-child th {\n",
       "        text-align: right;\n",
       "    }\n",
       "\n",
       "    .dataframe thead th {\n",
       "        text-align: left;\n",
       "    }\n",
       "\n",
       "    .dataframe tbody tr th {\n",
       "        vertical-align: top;\n",
       "    }\n",
       "</style>\n",
       "<table border=\"1\" class=\"dataframe\">\n",
       "  <thead>\n",
       "    <tr style=\"text-align: right;\">\n",
       "      <th></th>\n",
       "      <th>PassengerId</th>\n",
       "      <th>Survived</th>\n",
       "      <th>Pclass</th>\n",
       "      <th>Name</th>\n",
       "      <th>Sex</th>\n",
       "      <th>Age</th>\n",
       "      <th>SibSp</th>\n",
       "      <th>Parch</th>\n",
       "      <th>Ticket</th>\n",
       "      <th>Fare</th>\n",
       "      <th>Embarked</th>\n",
       "    </tr>\n",
       "  </thead>\n",
       "  <tbody>\n",
       "    <tr>\n",
       "      <th>0</th>\n",
       "      <td>1</td>\n",
       "      <td>0</td>\n",
       "      <td>3</td>\n",
       "      <td>108</td>\n",
       "      <td>1</td>\n",
       "      <td>22.0</td>\n",
       "      <td>1</td>\n",
       "      <td>0</td>\n",
       "      <td>523</td>\n",
       "      <td>7.2500</td>\n",
       "      <td>2</td>\n",
       "    </tr>\n",
       "    <tr>\n",
       "      <th>1</th>\n",
       "      <td>2</td>\n",
       "      <td>1</td>\n",
       "      <td>1</td>\n",
       "      <td>190</td>\n",
       "      <td>0</td>\n",
       "      <td>38.0</td>\n",
       "      <td>1</td>\n",
       "      <td>0</td>\n",
       "      <td>596</td>\n",
       "      <td>71.2833</td>\n",
       "      <td>0</td>\n",
       "    </tr>\n",
       "    <tr>\n",
       "      <th>2</th>\n",
       "      <td>3</td>\n",
       "      <td>1</td>\n",
       "      <td>3</td>\n",
       "      <td>353</td>\n",
       "      <td>0</td>\n",
       "      <td>26.0</td>\n",
       "      <td>0</td>\n",
       "      <td>0</td>\n",
       "      <td>669</td>\n",
       "      <td>7.9250</td>\n",
       "      <td>2</td>\n",
       "    </tr>\n",
       "    <tr>\n",
       "      <th>3</th>\n",
       "      <td>4</td>\n",
       "      <td>1</td>\n",
       "      <td>1</td>\n",
       "      <td>272</td>\n",
       "      <td>0</td>\n",
       "      <td>35.0</td>\n",
       "      <td>1</td>\n",
       "      <td>0</td>\n",
       "      <td>49</td>\n",
       "      <td>53.1000</td>\n",
       "      <td>2</td>\n",
       "    </tr>\n",
       "    <tr>\n",
       "      <th>4</th>\n",
       "      <td>5</td>\n",
       "      <td>0</td>\n",
       "      <td>3</td>\n",
       "      <td>15</td>\n",
       "      <td>1</td>\n",
       "      <td>35.0</td>\n",
       "      <td>0</td>\n",
       "      <td>0</td>\n",
       "      <td>472</td>\n",
       "      <td>8.0500</td>\n",
       "      <td>2</td>\n",
       "    </tr>\n",
       "  </tbody>\n",
       "</table>\n",
       "</div>"
      ],
      "text/plain": [
       "   PassengerId  Survived  Pclass Name Sex   Age  SibSp  Parch Ticket     Fare  \\\n",
       "0            1         0       3  108   1  22.0      1      0    523   7.2500   \n",
       "1            2         1       1  190   0  38.0      1      0    596  71.2833   \n",
       "2            3         1       3  353   0  26.0      0      0    669   7.9250   \n",
       "3            4         1       1  272   0  35.0      1      0     49  53.1000   \n",
       "4            5         0       3   15   1  35.0      0      0    472   8.0500   \n",
       "\n",
       "   Embarked  \n",
       "0         2  \n",
       "1         0  \n",
       "2         2  \n",
       "3         2  \n",
       "4         2  "
      ]
     },
     "execution_count": 95,
     "metadata": {},
     "output_type": "execute_result"
    }
   ],
   "source": [
    "train_df.head()"
   ]
  },
  {
   "cell_type": "code",
   "execution_count": 96,
   "metadata": {
    "collapsed": true
   },
   "outputs": [],
   "source": [
    "def get_regr_function(logreg, y_selection, x_selection):\n",
    "    coef = logreg.coef_[0]\n",
    "    intercept = \"{:.2f}\".format(logreg.intercept_[0])\n",
    "    output = y_selection + ' = ' + str(intercept) + ' + '\n",
    "    for coeff, feature in zip(coef, x_selection):\n",
    "        coeff_str = \"{:.2f}\".format(coeff)\n",
    "        output += coeff_str + \"*\" + feature + \" + \"\n",
    "    return output[:-3]"
   ]
  },
  {
   "cell_type": "code",
   "execution_count": 97,
   "metadata": {
    "collapsed": true
   },
   "outputs": [],
   "source": [
    "def write_date():\n",
    "    from time import gmtime, strftime\n",
    "    return strftime(\"%Y-%m-%d %H %M %S\", gmtime())"
   ]
  },
  {
   "cell_type": "code",
   "execution_count": 98,
   "metadata": {
    "collapsed": true
   },
   "outputs": [],
   "source": [
    "def list2str(datalist):\n",
    "    return \" \".join([(str(var)+',') for var in datalist])[:-1]"
   ]
  },
  {
   "cell_type": "code",
   "execution_count": 99,
   "metadata": {
    "collapsed": true
   },
   "outputs": [],
   "source": [
    "def R2_score(logreg, X, y, sample_weight=None):\n",
    "    from sklearn.metrics import r2_score\n",
    "    return r2_score(y, logreg.predict(X), sample_weight=sample_weight)"
   ]
  },
  {
   "cell_type": "code",
   "execution_count": 100,
   "metadata": {
    "collapsed": true
   },
   "outputs": [],
   "source": [
    "def confusion_matrix(model, X, y):\n",
    "    from sklearn.metrics import confusion_matrix\n",
    "    return confusion_matrix(y, model.predict(X))"
   ]
  },
  {
   "cell_type": "code",
   "execution_count": 101,
   "metadata": {
    "collapsed": true
   },
   "outputs": [],
   "source": [
    "def logist_reg_test (train_df, test_df, x_selection, submission_name = None, x_test_drop = \"PassengerId\"\n",
    "                     , y_selection = 'Survived'):\n",
    "    to_drop = [category for category in train_df.columns.values if category not in x_selection]\n",
    "    # learning set\n",
    "    X_train = train_df.drop(to_drop, axis=1)\n",
    "    # answers for learning set\n",
    "    Y_train = train_df[y_selection]\n",
    "    # testing set\n",
    "    to_drop.remove(y_selection)\n",
    "    to_drop.append(x_test_drop)\n",
    "    X_test  = test_df.drop(to_drop, axis=1).copy()\n",
    "    # Logistic Regression\n",
    "    logreg = LogisticRegression()\n",
    "    logreg.fit(X_train, Y_train)\n",
    "    \n",
    "    #Calc parameters\n",
    "    function_str = get_regr_function(logreg, y_selection, x_selection)\n",
    "    trainset_acc = round(logreg.score(X_train, Y_train) * 100, 2)\n",
    "    r2_score = R2_score(logreg, X_train, Y_train)\n",
    "\n",
    "    conf_matrix = confusion_matrix(logreg,X_train,Y_train)\n",
    "    conf_matrix = 'TN: '+str(conf_matrix[0][0])+', FP: '+str(conf_matrix[0][1])+ \\\n",
    "                      ', FN: '+str(conf_matrix[1][0])+', TP: '+str(conf_matrix[1][1])\n",
    "    #prints\n",
    "    print('Regression function:\\n', function_str)\n",
    "    print('Accuracy on train set:', trainset_acc)\n",
    "    print(\"R2 score:\", r2_score)\n",
    "    print(\"Confusion matrix:\\n\", conf_matrix)\n",
    "    \n",
    "    #make predictions\n",
    "    Y_pred = logreg.predict(X_test)\n",
    "    #export predictions\n",
    "    submission = pd.DataFrame({\n",
    "        \"PassengerId\": test_df[x_test_drop],\n",
    "        \"Survived\": Y_pred\n",
    "    })\n",
    "    if submission_name == None:\n",
    "        submission_name = \"regression\"+write_date()\n",
    "    submission.to_csv(r'C:/Users/ernest.chocholowski/Desktop/Datasets/Titanic/output/'+submission_name+'.csv', index=False)\n",
    "    \n",
    "    return [submission_name, function_str, str(trainset_acc), r2_score, conf_matrix]"
   ]
  },
  {
   "cell_type": "code",
   "execution_count": 30,
   "metadata": {
    "collapsed": true,
    "scrolled": true
   },
   "outputs": [],
   "source": [
    "x_test_drop = \"PassengerId\"\n",
    "y_selection = 'Survived'\n",
    "x_selection = train_df.columns.values\n",
    "x_selection = np.delete(x_selection, [0,1])"
   ]
  },
  {
   "cell_type": "code",
   "execution_count": 31,
   "metadata": {
    "collapsed": false,
    "scrolled": true
   },
   "outputs": [
    {
     "name": "stdout",
     "output_type": "stream",
     "text": [
      "Regression function:\n",
      " Survived = 4.04 + -0.72*Pclass + -0.00*Name + -2.48*Sex + -0.03*Age + -0.29*SibSp + -0.09*Parch + -0.00*Ticket + 0.01*Fare + -0.15*Embarked\n",
      "Accuracy on train set: 80.25\n",
      "R2 score: 0.164797238999\n",
      "Confusion matrix:\n",
      " TN: 479, FP: 70, FN: 106, TP: 236\n"
     ]
    }
   ],
   "source": [
    "output = logist_reg_test(train_df, test_df, x_selection, submission_name='logisticReg_basic_imputation')"
   ]
  },
  {
   "cell_type": "code",
   "execution_count": 32,
   "metadata": {
    "collapsed": true
   },
   "outputs": [],
   "source": [
    "testset_acc = str('0.75120')\n",
    "output.insert(3, testset_acc)\n",
    "super_table.append(output)"
   ]
  },
  {
   "cell_type": "code",
   "execution_count": 33,
   "metadata": {
    "collapsed": true
   },
   "outputs": [],
   "source": [
    "def get_regr_fun_lin(logreg, y_selection, x_selection):\n",
    "    coef = logreg.coef_\n",
    "    intercept = \"{:.2f}\".format(logreg.intercept_)\n",
    "    output = y_selection + ' = ' + str(intercept) + ' + '\n",
    "    for coeff, feature in zip(coef, x_selection):\n",
    "        coeff_str = \"{:.2f}\".format(coeff)\n",
    "        output += coeff_str + \"*\" + feature + \" + \"\n",
    "    return output[:-3]"
   ]
  },
  {
   "cell_type": "code",
   "execution_count": 102,
   "metadata": {
    "collapsed": true
   },
   "outputs": [],
   "source": [
    "def linear_reg_test (train_df, test_df, x_selection, submission_name = None, x_test_drop = \"PassengerId\"\n",
    "                     , y_selection = 'Survived'):\n",
    "    to_drop = [category for category in train_df.columns.values if category not in x_selection]\n",
    "    # learning set\n",
    "    X_train = train_df.drop(to_drop, axis=1)\n",
    "    # answers for learning set\n",
    "    Y_train = train_df[y_selection]\n",
    "    # testing set\n",
    "    to_drop.remove(y_selection)\n",
    "    to_drop.append(x_test_drop)\n",
    "    X_test  = test_df.drop(to_drop, axis=1).copy()\n",
    "    # Logistic Regression\n",
    "    linreg = LinearRegression()\n",
    "    linreg.fit(X_train, Y_train)\n",
    "    #Calc parameters\n",
    "    function_str = get_regr_fun_lin(linreg, y_selection, x_selection)\n",
    "    trainset_acc = round(linreg.score(X_train, Y_train) * 100, 2)\n",
    "    r2_score = R2_score(linreg, X_train, Y_train)\n",
    "\n",
    "    conf_matrix = \"NA\"\n",
    "    \n",
    "    #prints\n",
    "    print('Regression function:\\n', function_str)\n",
    "    print('Accuracy on train set:', trainset_acc)\n",
    "    print(\"R2 score:\", r2_score)\n",
    "    print(\"Confusion matrix:\\n\", conf_matrix)\n",
    "    \n",
    "    #make predictions\n",
    "    Y_pred = linreg.predict(X_test)\n",
    "    #export predictions\n",
    "    submission = pd.DataFrame({\n",
    "        \"PassengerId\": test_df[x_test_drop],\n",
    "        \"Survived\": Y_pred\n",
    "    })\n",
    "    if submission_name == None:\n",
    "        submission_name = \"regression\"+write_date()\n",
    "    submission.to_csv(r'C:/Users/ernest.chocholowski/Desktop/Datasets/Titanic/output/'+submission_name+'.csv', \n",
    "                      index=False)\n",
    "    \n",
    "    return [submission_name, function_str, str(trainset_acc), r2_score, conf_matrix]"
   ]
  },
  {
   "cell_type": "code",
   "execution_count": 35,
   "metadata": {
    "collapsed": true
   },
   "outputs": [],
   "source": [
    "x_test_drop = \"PassengerId\"\n",
    "y_selection = 'Survived'\n",
    "x_selection = train_df.columns.values\n",
    "x_selection = np.delete(x_selection, [0,1])"
   ]
  },
  {
   "cell_type": "code",
   "execution_count": 36,
   "metadata": {
    "collapsed": false,
    "scrolled": true
   },
   "outputs": [
    {
     "name": "stdout",
     "output_type": "stream",
     "text": [
      "Regression function:\n",
      " Survived = 1.37 + -0.15*Pclass + -0.00*Name + -0.51*Sex + -0.01*Age + -0.04*SibSp + -0.02*Parch + -0.00*Ticket + 0.00*Fare + -0.04*Embarked\n",
      "Accuracy on train set: 40.08\n",
      "R2 score: 0.400771185732\n",
      "Confusion matrix:\n",
      " NA\n"
     ]
    }
   ],
   "source": [
    "output = linear_reg_test(train_df, test_df, x_selection, submission_name='linearReg_basic_imputation')"
   ]
  },
  {
   "cell_type": "code",
   "execution_count": 37,
   "metadata": {
    "collapsed": true
   },
   "outputs": [],
   "source": [
    "testset_acc = str('failed_evl')\n",
    "output.insert(3, testset_acc)\n",
    "super_table.append(output)"
   ]
  },
  {
   "cell_type": "code",
   "execution_count": 103,
   "metadata": {
    "collapsed": true
   },
   "outputs": [],
   "source": [
    "def other_tests (model, train_df, test_df, x_selection, submission_name = None, x_test_drop = \"PassengerId\"\n",
    "                     , y_selection = 'Survived'):\n",
    "    to_drop = [category for category in train_df.columns.values if category not in x_selection]\n",
    "    # learning set\n",
    "    X_train = train_df.drop(to_drop, axis=1)\n",
    "    # answers for learning set\n",
    "    Y_train = train_df[y_selection]\n",
    "    # testing set\n",
    "    to_drop.remove(y_selection)\n",
    "    to_drop.append(x_test_drop)\n",
    "    X_test  = test_df.drop(to_drop, axis=1).copy()\n",
    "    # Logistic Regression\n",
    "    model.fit(X_train, Y_train)\n",
    "    #Calc parameters\n",
    "    trainset_acc = round(model.score(X_train, Y_train) * 100, 2)\n",
    "    r2_score = R2_score(model, X_train, Y_train)\n",
    "    function_str = 'NA'\n",
    "    conf_matrix = confusion_matrix(model, X_train, Y_train)\n",
    "    conf_matrix = 'TN: '+str(conf_matrix[0][0])+', FP: '+str(conf_matrix[0][1])+ \\\n",
    "                      ', FN: '+str(conf_matrix[1][0])+', TP: '+str(conf_matrix[1][1])\n",
    "    \n",
    "    #prints\n",
    "    print('Regression function:\\n', function_str)\n",
    "    print('Accuracy on train set:', trainset_acc)\n",
    "    print(\"R2 score:\", r2_score)\n",
    "    print(\"Confusion matrix:\\n\", conf_matrix)\n",
    "    \n",
    "    #make predictions\n",
    "    Y_pred = model.predict(X_test)\n",
    "    #export predictions\n",
    "    submission = pd.DataFrame({\n",
    "        \"PassengerId\": test_df[x_test_drop],\n",
    "        \"Survived\": Y_pred\n",
    "    })\n",
    "    if submission_name == None:\n",
    "        submission_name = \"regression\"+write_date()\n",
    "    submission.to_csv(r'C:/Users/ernest.chocholowski/Desktop/Datasets/Titanic/output/'+submission_name+'.csv', \n",
    "                      index=False)\n",
    "    \n",
    "    return [submission_name, function_str, str(trainset_acc), r2_score, conf_matrix]"
   ]
  },
  {
   "cell_type": "code",
   "execution_count": 104,
   "metadata": {
    "collapsed": true
   },
   "outputs": [],
   "source": [
    "x_test_drop = \"PassengerId\"\n",
    "y_selection = 'Survived'\n",
    "x_selection = train_df.columns.values\n",
    "x_selection = np.delete(x_selection, [0,1])"
   ]
  },
  {
   "cell_type": "code",
   "execution_count": 105,
   "metadata": {
    "collapsed": true
   },
   "outputs": [],
   "source": [
    "# model = SVC()\n",
    "# model = LinearSVC()\n",
    "# model = KNeighborsClassifier(n_neighbors = 3)\n",
    "# model = GaussianNB()\n",
    "# model = Perceptron()\n",
    "# model = SGDClassifier()\n",
    "# model = DecisionTreeClassifier()\n",
    "# model = RandomForestClassifier(n_estimators=100)"
   ]
  },
  {
   "cell_type": "code",
   "execution_count": 106,
   "metadata": {
    "collapsed": false,
    "scrolled": true
   },
   "outputs": [
    {
     "name": "stdout",
     "output_type": "stream",
     "text": [
      "Regression function:\n",
      " NA\n",
      "Accuracy on train set: 100.0\n",
      "R2 score: 1.0\n",
      "Confusion matrix:\n",
      " TN: 549, FP: 0, FN: 0, TP: 342\n"
     ]
    }
   ],
   "source": [
    "model = RandomForestClassifier(n_estimators=100)\n",
    "output = other_tests(model, train_df, test_df, x_selection, submission_name='randomForest_basic_imputation')"
   ]
  },
  {
   "cell_type": "code",
   "execution_count": 107,
   "metadata": {
    "collapsed": true
   },
   "outputs": [],
   "source": [
    "testset_acc = str('75.598')\n",
    "output.insert(3, testset_acc)"
   ]
  },
  {
   "cell_type": "code",
   "execution_count": 66,
   "metadata": {
    "collapsed": false
   },
   "outputs": [],
   "source": [
    "super_table.append(output)"
   ]
  },
  {
   "cell_type": "code",
   "execution_count": 80,
   "metadata": {
    "collapsed": false
   },
   "outputs": [
    {
     "data": {
      "text/plain": [
       "[['name',\n",
       "  'reg_function',\n",
       "  'trainset_acc',\n",
       "  'testset_acc',\n",
       "  'r2score',\n",
       "  'conf_matrx'],\n",
       " ['failed_evl',\n",
       "  0.1696324007807416,\n",
       "  'TN: 369',\n",
       "  ' FP: 55',\n",
       "  ' FN: 88',\n",
       "  ' TP: 202\"\"'],\n",
       " ['failed_evl', 0.4025252345231439, nan, nan, nan, nan],\n",
       " ['failed_evl',\n",
       "  0.9941932335718932,\n",
       "  'TN: 424',\n",
       "  ' FP: 0',\n",
       "  ' FN: 1',\n",
       "  ' TP: 289\"\"'],\n",
       " ['failed_evl',\n",
       "  0.2741541964866623,\n",
       "  'TN: 356',\n",
       "  ' FP: 68',\n",
       "  ' FN: 57',\n",
       "  ' TP: 233\"\"'],\n",
       " ['failed_evl',\n",
       "  0.11156473649967458,\n",
       "  'TN: 352',\n",
       "  ' FP: 72',\n",
       "  ' FN: 81',\n",
       "  ' TP: 209\"\"'],\n",
       " ['failed_evl',\n",
       "  -0.5562134027325961,\n",
       "  'TN: 417',\n",
       "  ' FP: 7',\n",
       "  ' FN: 261',\n",
       "  ' TP: 29\"\"'],\n",
       " ['failed_evl',\n",
       "  -1.0962426805465193,\n",
       "  'TN: 94',\n",
       "  ' FP: 330',\n",
       "  ' FN: 31',\n",
       "  ' TP: 259\"\"'],\n",
       " ['failed_evl',\n",
       "  -0.422657774886142,\n",
       "  'TN: 330',\n",
       "  ' FP: 94',\n",
       "  ' FN: 151',\n",
       "  ' TP: 139\"\"'],\n",
       " ['failed_evl', 1.0, 'TN: 424', ' FP: 0', ' FN: 0', ' TP: 290\"\"'],\n",
       " ['failed_evl', 1.0, 'TN: 424', ' FP: 0', ' FN: 0', ' TP: 290\"\"'],\n",
       " ['75.120',\n",
       "  0.16479723899913698,\n",
       "  'TN: 479',\n",
       "  ' FP: 70',\n",
       "  ' FN: 106',\n",
       "  ' TP: 236\"\"'],\n",
       " ['failed_evl', 0.4007711857324642, nan, nan, nan, nan],\n",
       " ['62.679', 0.966781708369284, 'TN: 549', ' FP: 0', ' FN: 7', ' TP: 335\"\"'],\n",
       " ['63.158',\n",
       "  -0.4758412424503886,\n",
       "  'TN: 333',\n",
       "  ' FP: 216',\n",
       "  ' FN: 95',\n",
       "  ' TP: 247\"\"'],\n",
       " ['55.502',\n",
       "  0.2549611734253666,\n",
       "  'TN: 472',\n",
       "  ' FP: 77',\n",
       "  ' FN: 80',\n",
       "  ' TP: 262\"\"\"'],\n",
       " ['73.684',\n",
       "  0.13632441760138034,\n",
       "  'TN: 459',\n",
       "  ' FP: 90',\n",
       "  ' FN: 92',\n",
       "  ' TP: 250\"\"'],\n",
       " ['65.072',\n",
       "  -0.3761863675582402,\n",
       "  'TN: 533',\n",
       "  ' FP: 16',\n",
       "  ' FN: 274',\n",
       "  ' TP: 68\"\"'],\n",
       " ['64.593',\n",
       "  -0.3666954270923213,\n",
       "  'TN: 503',\n",
       "  ' FP: 46',\n",
       "  ' FN: 242',\n",
       "  ' TP: 100\"\"'],\n",
       " ['62.679', 1.0, 'TN: 549', ' FP: 0', ' FN: 0', ' TP: 342\"\"'],\n",
       " ['75.598', 1.0, 'TN: 549', ' FP: 0', ' FN: 0', ' TP: 342\"\"']]"
      ]
     },
     "execution_count": 80,
     "metadata": {},
     "output_type": "execute_result"
    }
   ],
   "source": [
    "super_table"
   ]
  },
  {
   "cell_type": "code",
   "execution_count": 87,
   "metadata": {
    "collapsed": false,
    "scrolled": true
   },
   "outputs": [
    {
     "data": {
      "text/html": [
       "<table border=\"1\" cellpadding=\"3\" cellspacing=\"0\"  style=\"border:1px solid black;border-collapse:collapse;\"><tr><td  style=\"background-color:LightGray;\"><b>name</b></td><td  style=\"background-color:LightGray;\"><b>reg_function</b></td><td  style=\"background-color:LightGray;\"><b>trainset_acc</b></td><td  style=\"background-color:LightGray;\"><b>testset_acc</b></td><td  style=\"background-color:LightGray;\"><b>r2score</b></td><td  style=\"background-color:LightGray;\"><b>conf_matrx</b></td></tr><tr><td  style=\"background-color:Ivory;\">failed_evl</td><td  style=\"background-color:Ivory;\">0.1696324007807416</td><td  style=\"background-color:Ivory;\">TN:&nbsp369</td><td  style=\"background-color:Ivory;\">&nbspFP:&nbsp55</td><td  style=\"background-color:Ivory;\">&nbspFN:&nbsp88</td><td  style=\"background-color:Ivory;\">&nbspTP:&nbsp202\"\"</td></tr><tr><td  style=\"background-color:AliceBlue;\">failed_evl</td><td  style=\"background-color:AliceBlue;\">0.4025252345231439</td><td  style=\"background-color:AliceBlue;\">nan</td><td  style=\"background-color:AliceBlue;\">nan</td><td  style=\"background-color:AliceBlue;\">nan</td><td  style=\"background-color:AliceBlue;\">nan</td></tr><tr><td  style=\"background-color:Ivory;\">failed_evl</td><td  style=\"background-color:Ivory;\">0.9941932335718932</td><td  style=\"background-color:Ivory;\">TN:&nbsp424</td><td  style=\"background-color:Ivory;\">&nbspFP:&nbsp0</td><td  style=\"background-color:Ivory;\">&nbspFN:&nbsp1</td><td  style=\"background-color:Ivory;\">&nbspTP:&nbsp289\"\"</td></tr><tr><td  style=\"background-color:AliceBlue;\">failed_evl</td><td  style=\"background-color:AliceBlue;\">0.2741541964866623</td><td  style=\"background-color:AliceBlue;\">TN:&nbsp356</td><td  style=\"background-color:AliceBlue;\">&nbspFP:&nbsp68</td><td  style=\"background-color:AliceBlue;\">&nbspFN:&nbsp57</td><td  style=\"background-color:AliceBlue;\">&nbspTP:&nbsp233\"\"</td></tr><tr><td  style=\"background-color:Ivory;\">failed_evl</td><td  style=\"background-color:Ivory;\">0.11156473649967458</td><td  style=\"background-color:Ivory;\">TN:&nbsp352</td><td  style=\"background-color:Ivory;\">&nbspFP:&nbsp72</td><td  style=\"background-color:Ivory;\">&nbspFN:&nbsp81</td><td  style=\"background-color:Ivory;\">&nbspTP:&nbsp209\"\"</td></tr><tr><td  style=\"background-color:AliceBlue;\">failed_evl</td><td  style=\"background-color:AliceBlue;\">-0.5562134027325961</td><td  style=\"background-color:AliceBlue;\">TN:&nbsp417</td><td  style=\"background-color:AliceBlue;\">&nbspFP:&nbsp7</td><td  style=\"background-color:AliceBlue;\">&nbspFN:&nbsp261</td><td  style=\"background-color:AliceBlue;\">&nbspTP:&nbsp29\"\"</td></tr><tr><td  style=\"background-color:Ivory;\">failed_evl</td><td  style=\"background-color:Ivory;\">-1.0962426805465193</td><td  style=\"background-color:Ivory;\">TN:&nbsp94</td><td  style=\"background-color:Ivory;\">&nbspFP:&nbsp330</td><td  style=\"background-color:Ivory;\">&nbspFN:&nbsp31</td><td  style=\"background-color:Ivory;\">&nbspTP:&nbsp259\"\"</td></tr><tr><td  style=\"background-color:AliceBlue;\">failed_evl</td><td  style=\"background-color:AliceBlue;\">-0.422657774886142</td><td  style=\"background-color:AliceBlue;\">TN:&nbsp330</td><td  style=\"background-color:AliceBlue;\">&nbspFP:&nbsp94</td><td  style=\"background-color:AliceBlue;\">&nbspFN:&nbsp151</td><td  style=\"background-color:AliceBlue;\">&nbspTP:&nbsp139\"\"</td></tr><tr><td  style=\"background-color:Ivory;\">failed_evl</td><td  style=\"background-color:Ivory;\">1.0</td><td  style=\"background-color:Ivory;\">TN:&nbsp424</td><td  style=\"background-color:Ivory;\">&nbspFP:&nbsp0</td><td  style=\"background-color:Ivory;\">&nbspFN:&nbsp0</td><td  style=\"background-color:Ivory;\">&nbspTP:&nbsp290\"\"</td></tr><tr><td  style=\"background-color:AliceBlue;\">failed_evl</td><td  style=\"background-color:AliceBlue;\">1.0</td><td  style=\"background-color:AliceBlue;\">TN:&nbsp424</td><td  style=\"background-color:AliceBlue;\">&nbspFP:&nbsp0</td><td  style=\"background-color:AliceBlue;\">&nbspFN:&nbsp0</td><td  style=\"background-color:AliceBlue;\">&nbspTP:&nbsp290\"\"</td></tr><tr><td  style=\"background-color:Ivory;\">75.120</td><td  style=\"background-color:Ivory;\">0.16479723899913698</td><td  style=\"background-color:Ivory;\">TN:&nbsp479</td><td  style=\"background-color:Ivory;\">&nbspFP:&nbsp70</td><td  style=\"background-color:Ivory;\">&nbspFN:&nbsp106</td><td  style=\"background-color:Ivory;\">&nbspTP:&nbsp236\"\"</td></tr><tr><td  style=\"background-color:AliceBlue;\">failed_evl</td><td  style=\"background-color:AliceBlue;\">0.4007711857324642</td><td  style=\"background-color:AliceBlue;\">nan</td><td  style=\"background-color:AliceBlue;\">nan</td><td  style=\"background-color:AliceBlue;\">nan</td><td  style=\"background-color:AliceBlue;\">nan</td></tr><tr><td  style=\"background-color:Ivory;\">62.679</td><td  style=\"background-color:Ivory;\">0.966781708369284</td><td  style=\"background-color:Ivory;\">TN:&nbsp549</td><td  style=\"background-color:Ivory;\">&nbspFP:&nbsp0</td><td  style=\"background-color:Ivory;\">&nbspFN:&nbsp7</td><td  style=\"background-color:Ivory;\">&nbspTP:&nbsp335\"\"</td></tr><tr><td  style=\"background-color:AliceBlue;\">63.158</td><td  style=\"background-color:AliceBlue;\">-0.4758412424503886</td><td  style=\"background-color:AliceBlue;\">TN:&nbsp333</td><td  style=\"background-color:AliceBlue;\">&nbspFP:&nbsp216</td><td  style=\"background-color:AliceBlue;\">&nbspFN:&nbsp95</td><td  style=\"background-color:AliceBlue;\">&nbspTP:&nbsp247\"\"</td></tr><tr><td  style=\"background-color:Ivory;\">55.502</td><td  style=\"background-color:Ivory;\">0.2549611734253666</td><td  style=\"background-color:Ivory;\">TN:&nbsp472</td><td  style=\"background-color:Ivory;\">&nbspFP:&nbsp77</td><td  style=\"background-color:Ivory;\">&nbspFN:&nbsp80</td><td  style=\"background-color:Ivory;\">&nbspTP:&nbsp262\"\"\"</td></tr><tr><td  style=\"background-color:AliceBlue;\">73.684</td><td  style=\"background-color:AliceBlue;\">0.13632441760138034</td><td  style=\"background-color:AliceBlue;\">TN:&nbsp459</td><td  style=\"background-color:AliceBlue;\">&nbspFP:&nbsp90</td><td  style=\"background-color:AliceBlue;\">&nbspFN:&nbsp92</td><td  style=\"background-color:AliceBlue;\">&nbspTP:&nbsp250\"\"</td></tr><tr><td  style=\"background-color:Ivory;\">65.072</td><td  style=\"background-color:Ivory;\">-0.3761863675582402</td><td  style=\"background-color:Ivory;\">TN:&nbsp533</td><td  style=\"background-color:Ivory;\">&nbspFP:&nbsp16</td><td  style=\"background-color:Ivory;\">&nbspFN:&nbsp274</td><td  style=\"background-color:Ivory;\">&nbspTP:&nbsp68\"\"</td></tr><tr><td  style=\"background-color:AliceBlue;\">64.593</td><td  style=\"background-color:AliceBlue;\">-0.3666954270923213</td><td  style=\"background-color:AliceBlue;\">TN:&nbsp503</td><td  style=\"background-color:AliceBlue;\">&nbspFP:&nbsp46</td><td  style=\"background-color:AliceBlue;\">&nbspFN:&nbsp242</td><td  style=\"background-color:AliceBlue;\">&nbspTP:&nbsp100\"\"</td></tr><tr><td  style=\"background-color:Ivory;\">62.679</td><td  style=\"background-color:Ivory;\">1.0</td><td  style=\"background-color:Ivory;\">TN:&nbsp549</td><td  style=\"background-color:Ivory;\">&nbspFP:&nbsp0</td><td  style=\"background-color:Ivory;\">&nbspFN:&nbsp0</td><td  style=\"background-color:Ivory;\">&nbspTP:&nbsp342\"\"</td></tr><tr><td  style=\"background-color:AliceBlue;\">75.598</td><td  style=\"background-color:AliceBlue;\">1.0</td><td  style=\"background-color:AliceBlue;\">TN:&nbsp549</td><td  style=\"background-color:AliceBlue;\">&nbspFP:&nbsp0</td><td  style=\"background-color:AliceBlue;\">&nbspFN:&nbsp0</td><td  style=\"background-color:AliceBlue;\">&nbspTP:&nbsp342\"\"</td></tr></table>"
      ],
      "text/plain": [
       "<ipy_table.IpyTable at 0x216c58bc978>"
      ]
     },
     "execution_count": 87,
     "metadata": {},
     "output_type": "execute_result"
    }
   ],
   "source": [
    "make_table(super_table)\n",
    "apply_theme('basic')"
   ]
  },
  {
   "cell_type": "code",
   "execution_count": 68,
   "metadata": {
    "collapsed": true
   },
   "outputs": [],
   "source": [
    "df = pd.DataFrame(super_table[1:], columns=super_table[0])\n",
    "df.to_csv(r'C:/Users/ernest.chocholowski/Desktop/GIT/Titanic/table_eCh.csv', \n",
    "                      index=False)"
   ]
  },
  {
   "cell_type": "code",
   "execution_count": null,
   "metadata": {
    "collapsed": true
   },
   "outputs": [],
   "source": []
  }
 ],
 "metadata": {
  "kernelspec": {
   "display_name": "Python 3",
   "language": "python",
   "name": "python3"
  },
  "language_info": {
   "codemirror_mode": {
    "name": "ipython",
    "version": 3
   },
   "file_extension": ".py",
   "mimetype": "text/x-python",
   "name": "python",
   "nbconvert_exporter": "python",
   "pygments_lexer": "ipython3",
   "version": "3.5.3"
  }
 },
 "nbformat": 4,
 "nbformat_minor": 2
}
