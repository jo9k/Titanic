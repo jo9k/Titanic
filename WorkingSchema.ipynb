{
 "cells": [
  {
   "cell_type": "code",
<<<<<<< HEAD
   "execution_count": 1,
=======
   "execution_count": 5,
>>>>>>> 584fa1e2bbd69689cfe04d401d71d9aa47ebffc5
   "metadata": {
    "collapsed": false
   },
   "outputs": [],
   "source": [
    "import itertools #iteration tools\n",
    "import numpy as np # linear algebra\n",
    "import pandas as pd # data processing, CSV file I/O (e.g. pd.read_csv)\n",
    "import seaborn as sns # nice plots\n",
    "import matplotlib.pyplot as plt # plots\n",
    "from ipy_table import *\n",
    "\n",
    "#preprocessing\n",
    "from sklearn.preprocessing import LabelEncoder\n",
    "\n",
    "# machine learning\n",
    "from sklearn.linear_model import LinearRegression\n",
    "from sklearn.linear_model import LogisticRegression \n",
    "from sklearn.svm import SVC, LinearSVC\n",
    "from sklearn.ensemble import RandomForestClassifier\n",
    "from sklearn.neighbors import KNeighborsClassifier\n",
    "from sklearn.naive_bayes import GaussianNB\n",
    "from sklearn.linear_model import Perceptron\n",
    "from sklearn.linear_model import SGDClassifier\n",
    "from sklearn.tree import DecisionTreeClassifier\n",
    "\n",
    "# Import and suppress warnings\n",
    "import warnings\n",
    "warnings.filterwarnings('ignore')"
   ]
  },
  {
   "cell_type": "code",
   "execution_count": 6,
   "metadata": {
    "collapsed": false
   },
   "outputs": [],
   "source": [
    "##CHECK THOSEOUT\n",
    "from imblearn.over_sampling import SMOTE\n",
    "#import xgboost"
   ]
  },
  {
   "cell_type": "markdown",
   "metadata": {},
   "source": [
    "### Get train Data"
   ]
  },
  {
   "cell_type": "code",
   "execution_count": 7,
   "metadata": {
    "collapsed": false,
    "scrolled": true
   },
   "outputs": [],
   "source": [
<<<<<<< HEAD
    "train_df = pd.read_csv('train.csv')\n",
    "test_df = pd.read_csv('test.csv')\n",
    "both_df = [train_df, test_df]\n",
    "train_df.head()\n",
    "super_table=[]\n",
    "super_table.append(['name', 'reg_function', 'trainset_acc', 'testset_acc', 'r2score', 'conf_matrx'])\n",
    "df_load = pd.read_csv('table_eCh.csv')\n",
=======
    "train_df = pd.read_csv(r'C:/Users/ernest.chocholowski/Desktop/Datasets/Titanic/train.csv')\n",
    "test_df = pd.read_csv(r'C:/Users/ernest.chocholowski/Desktop/Datasets/Titanic/test.csv')\n",
    "both = [train_df, test_df]\n",
    "train_df.head()\n",
    "super_table=[]\n",
    "super_table.append(['name', 'reg_function', 'trainset_acc', 'testset_acc', 'r2score', 'conf_matrx', 'kaggle_acc'])\n",
    "df_load = pd.read_csv(r'C:/Users/ernest.chocholowski/Desktop/GIT/Titanic/table_eCh.csv')\n",
>>>>>>> 584fa1e2bbd69689cfe04d401d71d9aa47ebffc5
    "for row in df_load.values.tolist():\n",
    "    super_table.append(row)"
   ]
  },
  {
   "cell_type": "code",
<<<<<<< HEAD
   "execution_count": 11,
   "metadata": {
    "collapsed": false,
    "scrolled": true
   },
   "outputs": [
    {
     "name": "stderr",
     "output_type": "stream",
     "text": [
      "C:\\ProgramData\\Anaconda3\\lib\\site-packages\\ipykernel\\__main__.py:6: SettingWithCopyWarning: \n",
      "A value is trying to be set on a copy of a slice from a DataFrame\n",
      "\n",
      "See the caveats in the documentation: http://pandas.pydata.org/pandas-docs/stable/indexing.html#indexing-view-versus-copy\n",
      "C:\\ProgramData\\Anaconda3\\lib\\site-packages\\ipykernel\\__main__.py:8: SettingWithCopyWarning: \n",
      "A value is trying to be set on a copy of a slice from a DataFrame\n",
      "\n",
      "See the caveats in the documentation: http://pandas.pydata.org/pandas-docs/stable/indexing.html#indexing-view-versus-copy\n"
     ]
    },
    {
=======
   "execution_count": 8,
   "metadata": {
    "collapsed": false
   },
   "outputs": [],
   "source": [
    "for df in both:\n",
    "    df['Title'] = df.Name.str.extract(' ([A-Za-z]+)\\.', expand=False)\n",
    "    df['Title'] = df['Title'].replace(['Lady', 'Countess', 'Don', 'Dr', 'Rev', 'Sir', 'Jonkheer', 'Dona'], 'Rare')\n",
    "\n",
    "    df['Title'] = df['Title'].replace(['Capt', 'Col', 'Major'], 'Officer')\n",
    "    df['Title'] = df['Title'].replace(['Mlle', 'Ms'], 'Miss')\n",
    "    df['Title'] = df['Title'].replace('Mme', 'Mrs')"
   ]
  },
  {
   "cell_type": "code",
   "execution_count": 9,
   "metadata": {
    "collapsed": false,
    "scrolled": false
   },
   "outputs": [
    {
>>>>>>> 584fa1e2bbd69689cfe04d401d71d9aa47ebffc5
     "data": {
      "text/plain": [
       "PassengerId      int64\n",
       "Survived         int64\n",
       "Pclass           int64\n",
       "Name            object\n",
       "Sex             object\n",
       "Age            float64\n",
       "SibSp            int64\n",
       "Parch            int64\n",
       "Ticket          object\n",
       "Fare           float64\n",
       "Cabin           object\n",
       "Embarked        object\n",
       "Title           object\n",
       "dtype: object"
      ]
     },
<<<<<<< HEAD
     "execution_count": 11,
=======
     "execution_count": 9,
>>>>>>> 584fa1e2bbd69689cfe04d401d71d9aa47ebffc5
     "metadata": {},
     "output_type": "execute_result"
    }
   ],
   "source": [
    "#labelling\n",
    "var_mod = ['Title', 'Sex', 'Ticket', 'Embarked']\n",
    "le = LabelEncoder()\n",
    "for i in var_mod:\n",
    "    mask = ~train_df[i].isnull()\n",
    "    train_df[i][mask] = le.fit_transform(train_df[i][mask])\n",
    "    mask2 = ~test_df[i].isnull()\n",
    "    test_df[i][mask2] = le.fit_transform(test_df[i][mask2])\n",
    "train_df.dtypes"
   ]
  },
  {
   "cell_type": "code",
<<<<<<< HEAD
   "execution_count": 12,
   "metadata": {
    "collapsed": false,
    "scrolled": true
=======
   "execution_count": 10,
   "metadata": {
    "collapsed": true
   },
   "outputs": [],
   "source": [
    "train_df = train_df.drop(['Cabin', 'Name', 'PassengerId'], axis=1)\n",
    "test_df = test_df.drop(['Cabin', 'Name'], axis=1)"
   ]
  },
  {
   "cell_type": "code",
   "execution_count": 11,
   "metadata": {
    "collapsed": true
   },
   "outputs": [],
   "source": [
    "#Probabilities of each age in dataset :>\n",
    "#kek=train_df.groupby(['Sex', 'Pclass', 'Title']).Age.apply(lambda g: g.value_counts()/len(g))"
   ]
  },
  {
   "cell_type": "code",
   "execution_count": 12,
   "metadata": {
    "collapsed": false
   },
   "outputs": [],
   "source": [
    "#perform imputation!\n",
    "#imputation of age with imputer\n",
    "from sklearn.preprocessing import Imputer\n",
    "imp=Imputer(missing_values=\"NaN\", strategy=\"mean\" )\n",
    "train_df[\"Age\"]=imp.fit_transform(train_df[[\"Age\"]]).ravel()\n",
    "test_df[\"Age\"]=imp.fit_transform(test_df[[\"Age\"]]).ravel()\n",
    "\n",
    "#impute embarked as the most frequent one\n",
    "freq_port = train_df.Embarked.dropna().mode()[0]\n",
    "train_df['Embarked'] = train_df['Embarked'].fillna(freq_port)\n",
    "\n",
    "#impute missing Fare value\n",
    "test_df['Fare'].fillna(test_df['Fare'].dropna().median(), inplace=True)"
   ]
  },
  {
   "cell_type": "code",
   "execution_count": 13,
   "metadata": {
    "collapsed": false,
    "scrolled": false
>>>>>>> 584fa1e2bbd69689cfe04d401d71d9aa47ebffc5
   },
   "outputs": [
    {
     "data": {
      "text/html": [
       "<div>\n",
       "<table border=\"1\" class=\"dataframe\">\n",
       "  <thead>\n",
       "    <tr style=\"text-align: right;\">\n",
       "      <th></th>\n",
       "      <th>Survived</th>\n",
       "      <th>Pclass</th>\n",
       "      <th>Sex</th>\n",
       "      <th>Age</th>\n",
       "      <th>SibSp</th>\n",
       "      <th>Parch</th>\n",
       "      <th>Ticket</th>\n",
       "      <th>Fare</th>\n",
       "      <th>Embarked</th>\n",
       "      <th>Title</th>\n",
       "    </tr>\n",
       "  </thead>\n",
       "  <tbody>\n",
       "    <tr>\n",
       "      <th>0</th>\n",
       "      <td>0</td>\n",
       "      <td>3</td>\n",
       "      <td>1</td>\n",
       "      <td>22.0</td>\n",
       "      <td>1</td>\n",
       "      <td>0</td>\n",
       "      <td>523</td>\n",
       "      <td>7.2500</td>\n",
       "      <td>2</td>\n",
       "      <td>2</td>\n",
       "    </tr>\n",
       "    <tr>\n",
       "      <th>1</th>\n",
       "      <td>1</td>\n",
       "      <td>1</td>\n",
       "      <td>0</td>\n",
       "      <td>38.0</td>\n",
       "      <td>1</td>\n",
       "      <td>0</td>\n",
       "      <td>596</td>\n",
       "      <td>71.2833</td>\n",
       "      <td>0</td>\n",
       "      <td>3</td>\n",
       "    </tr>\n",
       "    <tr>\n",
       "      <th>2</th>\n",
       "      <td>1</td>\n",
       "      <td>3</td>\n",
       "      <td>0</td>\n",
       "      <td>26.0</td>\n",
       "      <td>0</td>\n",
       "      <td>0</td>\n",
       "      <td>669</td>\n",
       "      <td>7.9250</td>\n",
       "      <td>2</td>\n",
       "      <td>1</td>\n",
       "    </tr>\n",
       "    <tr>\n",
       "      <th>3</th>\n",
       "      <td>1</td>\n",
       "      <td>1</td>\n",
       "      <td>0</td>\n",
       "      <td>35.0</td>\n",
       "      <td>1</td>\n",
       "      <td>0</td>\n",
       "      <td>49</td>\n",
       "      <td>53.1000</td>\n",
       "      <td>2</td>\n",
       "      <td>3</td>\n",
       "    </tr>\n",
       "    <tr>\n",
       "      <th>4</th>\n",
       "      <td>0</td>\n",
       "      <td>3</td>\n",
       "      <td>1</td>\n",
       "      <td>35.0</td>\n",
       "      <td>0</td>\n",
       "      <td>0</td>\n",
       "      <td>472</td>\n",
       "      <td>8.0500</td>\n",
       "      <td>2</td>\n",
       "      <td>2</td>\n",
       "    </tr>\n",
       "  </tbody>\n",
       "</table>\n",
       "</div>"
      ],
      "text/plain": [
       "   Survived  Pclass Sex   Age  SibSp  Parch Ticket     Fare  Embarked Title\n",
       "0         0       3   1  22.0      1      0    523   7.2500         2     2\n",
       "1         1       1   0  38.0      1      0    596  71.2833         0     3\n",
       "2         1       3   0  26.0      0      0    669   7.9250         2     1\n",
       "3         1       1   0  35.0      1      0     49  53.1000         2     3\n",
       "4         0       3   1  35.0      0      0    472   8.0500         2     2"
      ]
     },
<<<<<<< HEAD
     "execution_count": 12,
=======
     "execution_count": 13,
>>>>>>> 584fa1e2bbd69689cfe04d401d71d9aa47ebffc5
     "metadata": {},
     "output_type": "execute_result"
    }
   ],
   "source": [
    "train_df.head()"
   ]
  },
  {
   "cell_type": "code",
<<<<<<< HEAD
   "execution_count": 13,
   "metadata": {
    "collapsed": false,
    "scrolled": false
=======
   "execution_count": 14,
   "metadata": {
    "collapsed": false
>>>>>>> 584fa1e2bbd69689cfe04d401d71d9aa47ebffc5
   },
   "outputs": [
    {
     "data": {
      "text/html": [
       "<script>requirejs.config({paths: { 'plotly': ['https://cdn.plot.ly/plotly-latest.min']},});if(!window.Plotly) {{require(['plotly'],function(plotly) {window.Plotly=plotly;});}}</script>"
      ],
      "text/plain": [
       "<IPython.core.display.HTML object>"
      ]
     },
     "metadata": {},
     "output_type": "display_data"
    },
    {
     "data": {
      "text/html": [
       "<div id=\"d95e7f81-551f-414f-bcbe-75ebf0cc7044\" style=\"height: 525px; width: 100%;\" class=\"plotly-graph-div\"></div><script type=\"text/javascript\">require([\"plotly\"], function(Plotly) { window.PLOTLYENV=window.PLOTLYENV || {};window.PLOTLYENV.BASE_URL=\"https://plot.ly\";Plotly.newPlot(\"d95e7f81-551f-414f-bcbe-75ebf0cc7044\", [{\"type\": \"bar\", \"y\": [549, 342], \"x\": [0, 1]}], {}, {\"linkText\": \"Export to plot.ly\", \"showLink\": true})});</script>"
      ],
      "text/plain": [
       "<IPython.core.display.HTML object>"
      ]
     },
     "metadata": {},
     "output_type": "display_data"
    }
   ],
   "source": [
<<<<<<< HEAD
    "train_df = train_df.drop(['Cabin', 'Embarked'], axis=1)\n",
    "test_df = test_df.drop(['Cabin', 'Embarked'], axis=1)\n",
    "train_df = train_df.dropna()\n",
    "test_df = test_df.dropna()\n",
    "train_df.head()\n",
    "print (test_df.shape, train_df.shape)"
   ]
  },
  {
   "cell_type": "code",
   "execution_count": 14,
   "metadata": {
    "collapsed": true
   },
   "outputs": [],
   "source": [
    "def get_regr_function(logreg, y_selection, x_selection):\n",
    "    coef = logreg.coef_[0]\n",
    "    intercept = \"{:.2f}\".format(logreg.intercept_[0])\n",
    "    output = y_selection + ' = ' + str(intercept) + ' + '\n",
    "    for coeff, feature in zip(coef, x_selection):\n",
    "        coeff_str = \"{:.2f}\".format(coeff)\n",
    "        output += coeff_str + \"*\" + feature + \" + \"\n",
    "    return output[:-3]"
   ]
  },
  {
   "cell_type": "code",
   "execution_count": 15,
   "metadata": {
    "collapsed": true
   },
   "outputs": [],
   "source": [
    "def write_date():\n",
    "    from time import gmtime, strftime\n",
    "    return strftime(\"%Y-%m-%d %H %M %S\", gmtime())"
=======
    "# Import statements required for Plotly \n",
    "import plotly.offline as py\n",
    "py.init_notebook_mode(connected=True)\n",
    "import plotly.graph_objs as go\n",
    "import plotly.tools as tls\n",
    "data = [go.Bar(\n",
    "            x=train_df[\"Survived\"].value_counts().index.values,\n",
    "            y= train_df[\"Survived\"].value_counts().values\n",
    "    )]\n",
    "\n",
    "py.iplot(data, filename='basic-bar')"
>>>>>>> 584fa1e2bbd69689cfe04d401d71d9aa47ebffc5
   ]
  },
  {
   "cell_type": "code",
<<<<<<< HEAD
   "execution_count": 16,
=======
   "execution_count": 15,
>>>>>>> 584fa1e2bbd69689cfe04d401d71d9aa47ebffc5
   "metadata": {
    "collapsed": false
   },
   "outputs": [],
   "source": [
    "#Split data for train and test\n",
    "def split_data(data, target='Survived'):\n",
    "    #set target for training\n",
    "    target = train_df[\"Survived\"]\n",
    "    target.head(3)\n",
    "\n",
    "    # Import the train_test_split method\n",
    "    from sklearn.model_selection import train_test_split\n",
    "    # Split data into train (2/3rd of data) and test (1/3rd of data)\n",
    "    return train_test_split(train_df, target, train_size = 0.75, random_state=0);"
   ]
  },
  {
   "cell_type": "code",
<<<<<<< HEAD
   "execution_count": 17,
=======
   "execution_count": 16,
>>>>>>> 584fa1e2bbd69689cfe04d401d71d9aa47ebffc5
   "metadata": {
    "collapsed": true
   },
   "outputs": [],
   "source": [
    "def regr_equation(logreg, train, target):\n",
    "    if type(model) is LogisticRegression:\n",
    "        coef = logreg.coef_[0]\n",
    "        intercept = \"{:.2f}\".format(logreg.intercept_[0])\n",
    "    else:\n",
    "        coef = logreg.coef_\n",
    "        intercept = \"{:.2f}\".format(logreg.intercept_)\n",
    "        \n",
    "    output = target.name + ' = ' + str(intercept) + ' + '\n",
    "    coeff_df = pd.DataFrame(train.columns.delete(0))\n",
    "    coeff_df.columns = ['Feature']\n",
    "    coeff_df[\"Correlation\"] = pd.Series(logreg.coef_[0])\n",
    "    features = coeff_df['Feature'].tolist()\n",
    "    coefficients = coeff_df['Correlation'].tolist()\n",
    "    \n",
    "    for coeff, feature in zip(coefficients, features):\n",
    "        coeff_str = \"{:.2f}\".format(coeff)\n",
    "        output += coeff_str + \"*\" + str(feature) + \" + \"\n",
    "    return output[:-3]"
   ]
  },
  {
   "cell_type": "code",
<<<<<<< HEAD
   "execution_count": 18,
=======
   "execution_count": 17,
>>>>>>> 584fa1e2bbd69689cfe04d401d71d9aa47ebffc5
   "metadata": {
    "collapsed": true
   },
   "outputs": [],
   "source": [
    "def confusion_matrix(model, X, y):\n",
    "    from sklearn.metrics import confusion_matrix\n",
    "    return confusion_matrix(y, model.predict(X))"
   ]
  },
  {
   "cell_type": "markdown",
   "metadata": {},
   "source": [
    "# logistic"
   ]
  },
  {
   "cell_type": "code",
<<<<<<< HEAD
   "execution_count": 832,
   "metadata": {
    "collapsed": true
   },
   "outputs": [],
   "source": [
    "def logist_reg_test (train_df, test_df, x_selection, submission_name = None, x_test_drop = \"PassengerId\"\n",
    "                     , y_selection = 'Survived'):\n",
    "    to_drop = [category for category in train_df.columns.values if category not in x_selection]\n",
    "    # learning set\n",
    "    X_train = train_df.drop(to_drop, axis=1)\n",
    "    # answers for learning set\n",
    "    Y_train = train_df[y_selection]\n",
    "    # testing set\n",
    "    to_drop.remove(y_selection)\n",
    "    to_drop.append(x_test_drop)\n",
    "    X_test  = test_df.drop(to_drop, axis=1).copy()\n",
    "    # Logistic Regression\n",
    "    logreg = LogisticRegression()\n",
    "    logreg.fit(X_train, Y_train)\n",
    "    \n",
    "    #Calc parameters\n",
    "    function_str = get_regr_function(logreg, y_selection, x_selection)\n",
    "    trainset_acc = round(logreg.score(X_train, Y_train) * 100, 2)\n",
    "    r2_score = R2_score(logreg, X_train, Y_train)\n",
    "\n",
    "    conf_matrix = confusion_matrix(logreg,X_train,Y_train)\n",
    "    conf_matrix = 'TN: '+str(conf_matrix[0][0])+', FP: '+str(conf_matrix[0][1])+ \\\n",
    "                      ', FN: '+str(conf_matrix[1][0])+', TP: '+str(conf_matrix[1][1])\n",
    "    #prints\n",
    "    print('Regression function:\\n', function_str)\n",
    "    print('Accuracy on train set:', trainset_acc)\n",
    "    print(\"R2 score:\", r2_score)\n",
    "    print(\"Confusion matrix:\\n\", conf_matrix)\n",
    "    \n",
    "    #make predictions\n",
    "    Y_pred = logreg.predict(X_test)\n",
    "    #export predictions\n",
    "    submission = pd.DataFrame({\n",
    "        \"PassengerId\": test_df[x_test_drop],\n",
    "        \"Survived\": Y_pred\n",
    "    })\n",
    "    if submission_name == None:\n",
    "        submission_name = \"regression\"+write_date()\n",
    "    submission.to_csv(r'C:/Users/ernest.chocholowski/Desktop/Datasets/Titanic/output/'+submission_name+'.csv', index=False)\n",
    "    \n",
    "    return [submission_name, function_str, str(trainset_acc), r2_score, conf_matrix]"
   ]
  },
  {
   "cell_type": "code",
   "execution_count": 833,
   "metadata": {
    "collapsed": true,
    "scrolled": true
   },
   "outputs": [],
   "source": [
    "x_test_drop = \"PassengerId\"\n",
    "y_selection = 'Survived'\n",
    "x_selection = train_df.columns.values\n",
    "x_selection = np.delete(x_selection, [0,1])"
   ]
  },
  {
   "cell_type": "code",
   "execution_count": 834,
   "metadata": {
    "collapsed": false,
    "scrolled": true
   },
   "outputs": [
    {
     "name": "stdout",
     "output_type": "stream",
     "text": [
      "Regression function:\n",
      " Survived = 3.99 + -0.85*Pclass + -0.00*Name + -2.35*Sex + -0.03*Age + -0.32*SibSp + -0.06*Parch + -0.00*Ticket + 0.01*Fare\n",
      "Accuracy on train set: 79.97\n",
      "R2 score: 0.169632400781\n",
      "Confusion matrix:\n",
      " TN: 369, FP: 55, FN: 88, TP: 202\n"
     ]
    }
   ],
   "source": [
    "output = logist_reg_test(train_df, test_df, x_selection, submission_name='logisticReg_basic')"
   ]
  },
  {
   "cell_type": "code",
   "execution_count": 835,
   "metadata": {
    "collapsed": true
   },
   "outputs": [],
   "source": [
    "testset_acc = str('failed_evl')\n",
    "output.insert(3, testset_acc)\n",
    "super_table.append(output)"
   ]
  },
  {
   "cell_type": "code",
   "execution_count": 836,
   "metadata": {
    "collapsed": true
=======
   "execution_count": 50,
   "metadata": {
    "collapsed": false
>>>>>>> 584fa1e2bbd69689cfe04d401d71d9aa47ebffc5
   },
   "outputs": [],
   "source": [
    "def test_model (model, data, submission_name = None, test=None):\n",
    "   \n",
    "    if test is None:\n",
    "        \n",
    "        from sklearn.metrics import accuracy_score, confusion_matrix, r2_score\n",
    "        train, test, target_train, target_test = split_data(data)\n",
    "        model.fit(train, target_train)\n",
    "        #Calc parameters\n",
    "        if type(model) is LogisticRegression:\n",
    "            function_str = regr_equation(model, train, target_train)\n",
    "        elif type(model) is LinearRegression:\n",
    "            function_str = regr_equation(model, train, target_train)\n",
    "        else :\n",
    "            function_str = \"NA\"    \n",
    "\n",
    "        if type(model) is not LinearRegression:\n",
    "            trainset_acc = round(accuracy_score(target_train, model.predict(train)) * 100, 2)\n",
    "            testset_acc = round(accuracy_score(target_test, model.predict(test)) * 100, 2)\n",
    "            conf_matrix = confusion_matrix(target_train, model.predict(train))\n",
    "            conf_matrix = 'TN: '+str(conf_matrix[0][0])+', FP: '+str(conf_matrix[0][1])+ \\\n",
    "                              ', FN: '+str(conf_matrix[1][0])+', TP: '+str(conf_matrix[1][1])\n",
    "        else:\n",
    "            trainset_acc = 'NA'\n",
    "            testset_acc = 'NA'\n",
    "            conf_matrix = \"NA\"\n",
    "\n",
    "        r2_score = r2_score(target_train, model.predict(train))\n",
    "        kaggle = \"not_tested\"\n",
    "\n",
    "        #prints\n",
    "        print(\"-\"*40)\n",
    "        print('Submission name:', submission_name )\n",
    "        print('Regression function:\\n', function_str)\n",
    "        print('Accuracy on train set:', trainset_acc)\n",
    "        print('Accuracy on test set:', testset_acc)\n",
    "        print(\"R2 score:\", r2_score)\n",
    "        print(\"Confusion matrix:\\n\", conf_matrix)\n",
    "        return [submission_name, function_str, str(trainset_acc), str(testset_acc), r2_score, conf_matrix, kaggle]\n",
    "    else:\n",
    "        \n",
    "        train = data.drop(\"Survived\", axis=1)\n",
    "        target_train = data[\"Survived\"]\n",
    "        test  = test_df.drop(\"PassengerId\", axis=1).copy()\n",
    "        model.fit(train, target_train)\n",
    "        pred = model.predict(test)\n",
    "        \n",
    "        submission = pd.DataFrame({\n",
    "                \"PassengerId\": test_df[\"PassengerId\"],\n",
    "                \"Survived\": pred\n",
    "            })\n",
    "        submission.to_csv(r'C:/Users/ernest.chocholowski/Desktop/Datasets/Titanic/output/'+submission_name+'.csv',\n",
    "                          index=False)\n",
    "    "
   ]
  },
  {
   "cell_type": "markdown",
   "metadata": {},
   "source": [
    "# Linear regression"
   ]
  },
  {
   "cell_type": "code",
   "execution_count": 53,
   "metadata": {
    "collapsed": false
   },
   "outputs": [],
   "source": [
    "#Setup\n",
    "suffix = '_basicImputation_Title_newFun'\n",
    "\n",
<<<<<<< HEAD
    "    conf_matrix = \"NA\"\n",
    "    \n",
    "    #prints\n",
    "    print('Regression function:\\n', function_str)\n",
    "    print('Accuracy on train set:', trainset_acc)\n",
    "    print(\"R2 score:\", r2_score)\n",
    "    print(\"Confusion matrix:\\n\", conf_matrix)\n",
    "    \n",
    "    #make predictions\n",
    "    Y_pred = linreg.predict(X_test)\n",
    "    #export predictions\n",
    "    submission = pd.DataFrame({\n",
    "        \"PassengerId\": test_df[x_test_drop],\n",
    "        \"Survived\": Y_pred\n",
    "    })\n",
    "    if submission_name == None:\n",
    "        submission_name = \"regression\"+write_date()\n",
    "    submission.to_csv(r'C:/Users/ernest.chocholowski/Desktop/Datasets/Titanic/output/'+submission_name+'.csv', \n",
    "                      index=False)\n",
    "    \n",
    "    return [submission_name, function_str, str(trainset_acc), r2_score, conf_matrix]"
   ]
  },
  {
   "cell_type": "code",
   "execution_count": 838,
   "metadata": {
    "collapsed": true
   },
   "outputs": [],
   "source": [
    "x_test_drop = \"PassengerId\"\n",
    "y_selection = 'Survived'\n",
    "x_selection = train_df.columns.values\n",
    "x_selection = np.delete(x_selection, [0,1])"
=======
    "modelLogReg = LogisticRegression()\n",
    "modelLinReg = LinearRegression()\n",
    "modelSVC = SVC()\n",
    "modellinSVC = LinearSVC()\n",
    "modelKN = KNeighborsClassifier(n_neighbors = 3)\n",
    "modelGNB = GaussianNB()\n",
    "modelPercp = Perceptron()\n",
    "modelSGD = SGDClassifier()\n",
    "modelTree = DecisionTreeClassifier()\n",
    "modelRndForest = RandomForestClassifier(n_estimators=100)\n",
    "\n",
    "models = {modelLogReg: \"LogisticRegr\", modelLinReg: \"LinearRegr\",\n",
    "          modelSVC: \"SVC\", modellinSVC: \"LinSVC\",\n",
    "          modelKN: \"KN\", modelGNB: \"GaussianNB\",\n",
    "          modelPercp: \"Percep\", modelSGD: \"SGD\",\n",
    "          modelTree: \"DecisionTree\", modelRndForest: \"RandomForest\"}"
>>>>>>> 584fa1e2bbd69689cfe04d401d71d9aa47ebffc5
   ]
  },
  {
   "cell_type": "code",
   "execution_count": 54,
   "metadata": {
    "collapsed": false,
    "scrolled": true
   },
   "outputs": [
    {
     "name": "stdout",
     "output_type": "stream",
     "text": [
      "----------------------------------------\n",
      "Submission name: DecisionTree_basicImputation_Title_newFun\n",
      "Regression function:\n",
      " NA\n",
      "Accuracy on train set: 100.0\n",
      "Accuracy on test set: 100.0\n",
      "R2 score: 1.0\n",
      "Confusion matrix:\n",
      " TN: 410, FP: 0, FN: 0, TP: 258\n",
      "----------------------------------------\n",
      "Submission name: LinSVC_basicImputation_Title_newFun\n",
      "Regression function:\n",
      " NA\n",
      "Accuracy on train set: 100.0\n",
      "Accuracy on test set: 100.0\n",
      "R2 score: 1.0\n",
      "Confusion matrix:\n",
      " TN: 410, FP: 0, FN: 0, TP: 258\n",
      "----------------------------------------\n",
      "Submission name: LogisticRegr_basicImputation_Title_newFun\n",
      "Regression function:\n",
      " Survived = -0.33 + 6.95*Pclass + -0.54*Sex + -1.11*Age + -0.02*SibSp + -0.19*Parch + -0.03*Ticket + -0.00*Fare + 0.00*Embarked + -0.18*Title\n",
      "Accuracy on train set: 100.0\n",
      "Accuracy on test set: 100.0\n",
      "R2 score: 1.0\n",
      "Confusion matrix:\n",
      " TN: 410, FP: 0, FN: 0, TP: 258\n",
      "----------------------------------------\n",
      "Submission name: KN_basicImputation_Title_newFun\n",
      "Regression function:\n",
      " NA\n",
      "Accuracy on train set: 81.74\n",
      "Accuracy on test set: 71.75\n",
      "R2 score: 0.229570807336\n",
      "Confusion matrix:\n",
      " TN: 360, FP: 50, FN: 72, TP: 186\n",
      "----------------------------------------\n",
      "Submission name: SVC_basicImputation_Title_newFun\n",
      "Regression function:\n",
      " NA\n",
      "Accuracy on train set: 98.2\n",
      "Accuracy on test set: 65.02\n",
      "R2 score: 0.92422007941\n",
      "Confusion matrix:\n",
      " TN: 410, FP: 0, FN: 12, TP: 246\n",
      "----------------------------------------\n",
      "Submission name: Percep_basicImputation_Title_newFun\n",
      "Regression function:\n",
      " NA\n",
      "Accuracy on train set: 66.32\n",
      "Accuracy on test set: 67.71\n",
      "R2 score: -0.420873511061\n",
      "Confusion matrix:\n",
      " TN: 393, FP: 17, FN: 208, TP: 50\n",
      "----------------------------------------\n",
      "Submission name: RandomForest_basicImputation_Title_newFun\n",
      "Regression function:\n",
      " NA\n",
      "Accuracy on train set: 100.0\n",
      "Accuracy on test set: 100.0\n",
      "R2 score: 1.0\n",
      "Confusion matrix:\n",
      " TN: 410, FP: 0, FN: 0, TP: 258\n",
      "----------------------------------------\n",
      "Submission name: LinearRegr_basicImputation_Title_newFun\n",
      "Regression function:\n",
      " Survived = 0.00 + 1.00*Pclass + nan*Sex + nan*Age + nan*SibSp + nan*Parch + nan*Ticket + nan*Fare + nan*Embarked + nan*Title\n",
      "Accuracy on train set: NA\n",
      "Accuracy on test set: NA\n",
      "R2 score: 1.0\n",
      "Confusion matrix:\n",
      " NA\n",
      "----------------------------------------\n",
      "Submission name: SGD_basicImputation_Title_newFun\n",
      "Regression function:\n",
      " NA\n",
      "Accuracy on train set: 39.07\n",
      "Accuracy on test set: 38.12\n",
      "R2 score: -1.57020230667\n",
      "Confusion matrix:\n",
      " TN: 3, FP: 407, FN: 0, TP: 258\n",
      "----------------------------------------\n",
      "Submission name: GaussianNB_basicImputation_Title_newFun\n",
      "Regression function:\n",
      " NA\n",
      "Accuracy on train set: 100.0\n",
      "Accuracy on test set: 100.0\n",
      "R2 score: 1.0\n",
      "Confusion matrix:\n",
      " TN: 410, FP: 0, FN: 0, TP: 258\n"
     ]
    }
   ],
   "source": [
    "outputs = []\n",
    "for model, prefix in models.items():\n",
    "    name=prefix+suffix\n",
    "    outputs.append(test_model(model, train_df, submission_name=name))\n",
    "outputs.sort(key=lambda x: x[0])"
   ]
  },
  {
   "cell_type": "code",
   "execution_count": 55,
   "metadata": {
    "collapsed": true
   },
   "outputs": [],
   "source": [
    "# DecisionTree_basicTest\n",
    "# GaussianNB_basicTest\n",
    "# KN_basicTest\n",
    "# LinSVC_basicTest\n",
    "# Percep_basicTest\n",
    "# RandomForest_basicTest\n",
    "# SGD_basicTest\n",
    "# SVC_basicTest"
   ]
  },
  {
   "cell_type": "markdown",
   "metadata": {},
   "source": [
    "# Other tests"
   ]
  },
  {
   "cell_type": "code",
   "execution_count": 56,
   "metadata": {
    "collapsed": false
   },
   "outputs": [],
   "source": [
    "models = {modelLogReg: \"LogisticRegr\",\n",
    "          modellinSVC: \"LinSVC\",\n",
    "          modelGNB: \"GaussianNB\",\n",
    "          modelTree: \"DecisionTree\", \n",
    "          modelRndForest: \"RandomForest\"}\n",
    "\n",
    "for model, prefix in models.items():\n",
    "    name=prefix+suffix\n",
    "    test_model(model, train_df, submission_name=name, test=test_df)"
   ]
  },
  {
   "cell_type": "markdown",
   "metadata": {},
   "source": [
    "# Other models apply"
   ]
  },
  {
   "cell_type": "code",
   "execution_count": 57,
   "metadata": {
    "collapsed": true
   },
   "outputs": [],
   "source": [
    "for out in outputs:\n",
    "    super_table.append(out)"
   ]
  },
  {
   "cell_type": "code",
   "execution_count": 62,
   "metadata": {
<<<<<<< HEAD
    "collapsed": false,
    "scrolled": false
=======
    "collapsed": false
>>>>>>> 584fa1e2bbd69689cfe04d401d71d9aa47ebffc5
   },
   "outputs": [
    {
     "data": {
      "text/plain": [
       "[['DecisionTree_basicImputation_Title_newFun',\n",
       "  'NA',\n",
       "  '100.0',\n",
       "  '100.0',\n",
       "  1.0,\n",
       "  'TN: 410, FP: 0, FN: 0, TP: 258',\n",
       "  'not_tested'],\n",
       " ['GaussianNB_basicImputation_Title_newFun',\n",
       "  'NA',\n",
       "  '100.0',\n",
       "  '100.0',\n",
       "  1.0,\n",
       "  'TN: 410, FP: 0, FN: 0, TP: 258',\n",
       "  'not_tested'],\n",
       " ['KN_basicImputation_Title_newFun',\n",
       "  'NA',\n",
       "  '81.74',\n",
       "  '71.75',\n",
       "  0.22957080733598045,\n",
       "  'TN: 360, FP: 50, FN: 72, TP: 186',\n",
       "  'not_tested'],\n",
       " ['LinSVC_basicImputation_Title_newFun',\n",
       "  'NA',\n",
       "  '100.0',\n",
       "  '100.0',\n",
       "  1.0,\n",
       "  'TN: 410, FP: 0, FN: 0, TP: 258',\n",
       "  'not_tested'],\n",
       " ['LinearRegr_basicImputation_Title_newFun',\n",
       "  'Survived = 0.00 + 1.00*Pclass + nan*Sex + nan*Age + nan*SibSp + nan*Parch + nan*Ticket + nan*Fare + nan*Embarked + nan*Title',\n",
       "  'NA',\n",
       "  'NA',\n",
       "  1.0,\n",
       "  'NA',\n",
       "  'not_tested'],\n",
       " ['LogisticRegr_basicImputation_Title_newFun',\n",
       "  'Survived = -0.33 + 6.95*Pclass + -0.54*Sex + -1.11*Age + -0.02*SibSp + -0.19*Parch + -0.03*Ticket + -0.00*Fare + 0.00*Embarked + -0.18*Title',\n",
       "  '100.0',\n",
       "  '100.0',\n",
       "  1.0,\n",
       "  'TN: 410, FP: 0, FN: 0, TP: 258',\n",
       "  'not_tested'],\n",
       " ['Percep_basicImputation_Title_newFun',\n",
       "  'NA',\n",
       "  '66.32',\n",
       "  '67.71',\n",
       "  -0.42087351106069182,\n",
       "  'TN: 393, FP: 17, FN: 208, TP: 50',\n",
       "  'not_tested'],\n",
       " ['RandomForest_basicImputation_Title_newFun',\n",
       "  'NA',\n",
       "  '100.0',\n",
       "  '100.0',\n",
       "  1.0,\n",
       "  'TN: 410, FP: 0, FN: 0, TP: 258',\n",
       "  'not_tested'],\n",
       " ['SGD_basicImputation_Title_newFun',\n",
       "  'NA',\n",
       "  '39.07',\n",
       "  '38.12',\n",
       "  -1.5702023066742292,\n",
       "  'TN: 3, FP: 407, FN: 0, TP: 258',\n",
       "  'not_tested']]"
      ]
     },
     "execution_count": 62,
     "metadata": {},
     "output_type": "execute_result"
    }
   ],
   "source": [
    "super_table[-10:-1]"
   ]
  },
  {
   "cell_type": "code",
   "execution_count": 24,
   "metadata": {
    "collapsed": false,
    "scrolled": false
   },
<<<<<<< HEAD
   "outputs": [],
   "source": [
    "testset_acc = str('failed_evl')\n",
    "output.insert(3, testset_acc)"
   ]
  },
  {
   "cell_type": "code",
   "execution_count": 847,
   "metadata": {
    "collapsed": false
   },
   "outputs": [
    {
     "ename": "AssertionError",
     "evalue": "6 columns passed, passed data had 7 columns",
     "output_type": "error",
     "traceback": [
      "\u001b[1;31m---------------------------------------------------------------------------\u001b[0m",
      "\u001b[1;31mAssertionError\u001b[0m                            Traceback (most recent call last)",
      "\u001b[1;32m<ipython-input-847-469de11cac0f>\u001b[0m in \u001b[0;36m<module>\u001b[1;34m()\u001b[0m\n\u001b[0;32m      3\u001b[0m \u001b[0msuper_table\u001b[0m\u001b[1;33m.\u001b[0m\u001b[0mappend\u001b[0m\u001b[1;33m(\u001b[0m\u001b[0moutput\u001b[0m\u001b[1;33m)\u001b[0m\u001b[1;33m\u001b[0m\u001b[0m\n\u001b[0;32m      4\u001b[0m \u001b[0msuper_table\u001b[0m\u001b[1;33m[\u001b[0m\u001b[1;36m11\u001b[0m\u001b[1;33m]\u001b[0m\u001b[1;33m\u001b[0m\u001b[0m\n\u001b[1;32m----> 5\u001b[1;33m \u001b[0mdf\u001b[0m \u001b[1;33m=\u001b[0m \u001b[0mpd\u001b[0m\u001b[1;33m.\u001b[0m\u001b[0mDataFrame\u001b[0m\u001b[1;33m(\u001b[0m\u001b[0msuper_table\u001b[0m\u001b[1;33m[\u001b[0m\u001b[1;36m1\u001b[0m\u001b[1;33m:\u001b[0m\u001b[1;33m]\u001b[0m\u001b[1;33m,\u001b[0m \u001b[0mcolumns\u001b[0m\u001b[1;33m=\u001b[0m\u001b[0msuper_table\u001b[0m\u001b[1;33m[\u001b[0m\u001b[1;36m0\u001b[0m\u001b[1;33m]\u001b[0m\u001b[1;33m)\u001b[0m\u001b[1;33m\u001b[0m\u001b[0m\n\u001b[0m\u001b[0;32m      6\u001b[0m df.to_csv(r'C:/Users/ernest.chocholowski/Desktop/GIT/Titanic/table_eCh.csv', \n\u001b[0;32m      7\u001b[0m                       index=False)\n",
      "\u001b[1;32mC:\\Users\\ernest.chocholowski\\AppData\\Local\\Continuum\\Anaconda3\\envs\\tensorflow\\lib\\site-packages\\pandas\\core\\frame.py\u001b[0m in \u001b[0;36m__init__\u001b[1;34m(self, data, index, columns, dtype, copy)\u001b[0m\n\u001b[0;32m    312\u001b[0m                     \u001b[1;32mif\u001b[0m \u001b[0mis_named_tuple\u001b[0m\u001b[1;33m(\u001b[0m\u001b[0mdata\u001b[0m\u001b[1;33m[\u001b[0m\u001b[1;36m0\u001b[0m\u001b[1;33m]\u001b[0m\u001b[1;33m)\u001b[0m \u001b[1;32mand\u001b[0m \u001b[0mcolumns\u001b[0m \u001b[1;32mis\u001b[0m \u001b[1;32mNone\u001b[0m\u001b[1;33m:\u001b[0m\u001b[1;33m\u001b[0m\u001b[0m\n\u001b[0;32m    313\u001b[0m                         \u001b[0mcolumns\u001b[0m \u001b[1;33m=\u001b[0m \u001b[0mdata\u001b[0m\u001b[1;33m[\u001b[0m\u001b[1;36m0\u001b[0m\u001b[1;33m]\u001b[0m\u001b[1;33m.\u001b[0m\u001b[0m_fields\u001b[0m\u001b[1;33m\u001b[0m\u001b[0m\n\u001b[1;32m--> 314\u001b[1;33m                     \u001b[0marrays\u001b[0m\u001b[1;33m,\u001b[0m \u001b[0mcolumns\u001b[0m \u001b[1;33m=\u001b[0m \u001b[0m_to_arrays\u001b[0m\u001b[1;33m(\u001b[0m\u001b[0mdata\u001b[0m\u001b[1;33m,\u001b[0m \u001b[0mcolumns\u001b[0m\u001b[1;33m,\u001b[0m \u001b[0mdtype\u001b[0m\u001b[1;33m=\u001b[0m\u001b[0mdtype\u001b[0m\u001b[1;33m)\u001b[0m\u001b[1;33m\u001b[0m\u001b[0m\n\u001b[0m\u001b[0;32m    315\u001b[0m                     \u001b[0mcolumns\u001b[0m \u001b[1;33m=\u001b[0m \u001b[0m_ensure_index\u001b[0m\u001b[1;33m(\u001b[0m\u001b[0mcolumns\u001b[0m\u001b[1;33m)\u001b[0m\u001b[1;33m\u001b[0m\u001b[0m\n\u001b[0;32m    316\u001b[0m \u001b[1;33m\u001b[0m\u001b[0m\n",
      "\u001b[1;32mC:\\Users\\ernest.chocholowski\\AppData\\Local\\Continuum\\Anaconda3\\envs\\tensorflow\\lib\\site-packages\\pandas\\core\\frame.py\u001b[0m in \u001b[0;36m_to_arrays\u001b[1;34m(data, columns, coerce_float, dtype)\u001b[0m\n\u001b[0;32m   5713\u001b[0m     \u001b[1;32mif\u001b[0m \u001b[0misinstance\u001b[0m\u001b[1;33m(\u001b[0m\u001b[0mdata\u001b[0m\u001b[1;33m[\u001b[0m\u001b[1;36m0\u001b[0m\u001b[1;33m]\u001b[0m\u001b[1;33m,\u001b[0m \u001b[1;33m(\u001b[0m\u001b[0mlist\u001b[0m\u001b[1;33m,\u001b[0m \u001b[0mtuple\u001b[0m\u001b[1;33m)\u001b[0m\u001b[1;33m)\u001b[0m\u001b[1;33m:\u001b[0m\u001b[1;33m\u001b[0m\u001b[0m\n\u001b[0;32m   5714\u001b[0m         return _list_to_arrays(data, columns, coerce_float=coerce_float,\n\u001b[1;32m-> 5715\u001b[1;33m                                dtype=dtype)\n\u001b[0m\u001b[0;32m   5716\u001b[0m     \u001b[1;32melif\u001b[0m \u001b[0misinstance\u001b[0m\u001b[1;33m(\u001b[0m\u001b[0mdata\u001b[0m\u001b[1;33m[\u001b[0m\u001b[1;36m0\u001b[0m\u001b[1;33m]\u001b[0m\u001b[1;33m,\u001b[0m \u001b[0mcollections\u001b[0m\u001b[1;33m.\u001b[0m\u001b[0mMapping\u001b[0m\u001b[1;33m)\u001b[0m\u001b[1;33m:\u001b[0m\u001b[1;33m\u001b[0m\u001b[0m\n\u001b[0;32m   5717\u001b[0m         return _list_of_dict_to_arrays(data, columns,\n",
      "\u001b[1;32mC:\\Users\\ernest.chocholowski\\AppData\\Local\\Continuum\\Anaconda3\\envs\\tensorflow\\lib\\site-packages\\pandas\\core\\frame.py\u001b[0m in \u001b[0;36m_list_to_arrays\u001b[1;34m(data, columns, coerce_float, dtype)\u001b[0m\n\u001b[0;32m   5792\u001b[0m         \u001b[0mcontent\u001b[0m \u001b[1;33m=\u001b[0m \u001b[0mlist\u001b[0m\u001b[1;33m(\u001b[0m\u001b[0mlib\u001b[0m\u001b[1;33m.\u001b[0m\u001b[0mto_object_array\u001b[0m\u001b[1;33m(\u001b[0m\u001b[0mdata\u001b[0m\u001b[1;33m)\u001b[0m\u001b[1;33m.\u001b[0m\u001b[0mT\u001b[0m\u001b[1;33m)\u001b[0m\u001b[1;33m\u001b[0m\u001b[0m\n\u001b[0;32m   5793\u001b[0m     return _convert_object_array(content, columns, dtype=dtype,\n\u001b[1;32m-> 5794\u001b[1;33m                                  coerce_float=coerce_float)\n\u001b[0m\u001b[0;32m   5795\u001b[0m \u001b[1;33m\u001b[0m\u001b[0m\n\u001b[0;32m   5796\u001b[0m \u001b[1;33m\u001b[0m\u001b[0m\n",
      "\u001b[1;32mC:\\Users\\ernest.chocholowski\\AppData\\Local\\Continuum\\Anaconda3\\envs\\tensorflow\\lib\\site-packages\\pandas\\core\\frame.py\u001b[0m in \u001b[0;36m_convert_object_array\u001b[1;34m(content, columns, coerce_float, dtype)\u001b[0m\n\u001b[0;32m   5851\u001b[0m             \u001b[1;31m# caller's responsibility to check for this...\u001b[0m\u001b[1;33m\u001b[0m\u001b[1;33m\u001b[0m\u001b[0m\n\u001b[0;32m   5852\u001b[0m             raise AssertionError('%d columns passed, passed data had %s '\n\u001b[1;32m-> 5853\u001b[1;33m                                  'columns' % (len(columns), len(content)))\n\u001b[0m\u001b[0;32m   5854\u001b[0m \u001b[1;33m\u001b[0m\u001b[0m\n\u001b[0;32m   5855\u001b[0m     \u001b[1;31m# provide soft conversion of object dtypes\u001b[0m\u001b[1;33m\u001b[0m\u001b[1;33m\u001b[0m\u001b[0m\n",
      "\u001b[1;31mAssertionError\u001b[0m: 6 columns passed, passed data had 7 columns"
     ]
    }
   ],
   "source": [
    "super_table.append(output)"
   ]
  },
  {
   "cell_type": "code",
   "execution_count": 19,
   "metadata": {
    "collapsed": false
   },
=======
>>>>>>> 584fa1e2bbd69689cfe04d401d71d9aa47ebffc5
   "outputs": [
    {
     "data": {
      "text/html": [
<<<<<<< HEAD
       "<table border=\"1\" cellpadding=\"3\" cellspacing=\"0\"  style=\"border:1px solid black;border-collapse:collapse;\"><tr><td  style=\"background-color:LightGray;\"><b>name</b></td><td  style=\"background-color:LightGray;\"><b>reg_function</b></td><td  style=\"background-color:LightGray;\"><b>trainset_acc</b></td><td  style=\"background-color:LightGray;\"><b>testset_acc</b></td><td  style=\"background-color:LightGray;\"><b>r2score</b></td><td  style=\"background-color:LightGray;\"><b>conf_matrx</b></td></tr><tr><td  style=\"background-color:Ivory;\">logisticReg_basic</td><td  style=\"background-color:Ivory;\">Survived&nbsp=&nbsp3.99&nbsp+&nbsp-0.85*Pclass&nbsp+&nbsp-0.00*Name&nbsp+&nbsp-2.35*Sex&nbsp+&nbsp-0.03*Age&nbsp+&nbsp-0.32*SibSp&nbsp+&nbsp-0.06*Parch&nbsp+&nbsp-0.00*Ticket&nbsp+&nbsp0.01*Fare</td><td  style=\"background-color:Ivory;\">79.97</td><td  style=\"background-color:Ivory;\">failed_evl</td><td  style=\"background-color:Ivory;\">0.1696324007807416</td><td  style=\"background-color:Ivory;\">TN:&nbsp369,&nbspFP:&nbsp55,&nbspFN:&nbsp88,&nbspTP:&nbsp202</td></tr><tr><td  style=\"background-color:AliceBlue;\">linearReg_basic</td><td  style=\"background-color:AliceBlue;\">Survived&nbsp=&nbsp1.40&nbsp+&nbsp-0.19*Pclass&nbsp+&nbsp-0.00*Name&nbsp+&nbsp-0.49*Sex&nbsp+&nbsp-0.01*Age&nbsp+&nbsp-0.06*SibSp&nbsp+&nbsp-0.01*Parch&nbsp+&nbsp-0.00*Ticket&nbsp+&nbsp0.00*Fare</td><td  style=\"background-color:AliceBlue;\">40.25</td><td  style=\"background-color:AliceBlue;\">failed_evl</td><td  style=\"background-color:AliceBlue;\">0.4025252345231439</td><td  style=\"background-color:AliceBlue;\">nan</td></tr><tr><td  style=\"background-color:Ivory;\">SVC_basic</td><td  style=\"background-color:Ivory;\">nan</td><td  style=\"background-color:Ivory;\">99.86</td><td  style=\"background-color:Ivory;\">failed_evl</td><td  style=\"background-color:Ivory;\">0.9941932335718932</td><td  style=\"background-color:Ivory;\">TN:&nbsp424,&nbspFP:&nbsp0,&nbspFN:&nbsp1,&nbspTP:&nbsp289</td></tr><tr><td  style=\"background-color:AliceBlue;\">KNC_basic</td><td  style=\"background-color:AliceBlue;\">nan</td><td  style=\"background-color:AliceBlue;\">82.49</td><td  style=\"background-color:AliceBlue;\">failed_evl</td><td  style=\"background-color:AliceBlue;\">0.2741541964866623</td><td  style=\"background-color:AliceBlue;\">TN:&nbsp356,&nbspFP:&nbsp68,&nbspFN:&nbsp57,&nbspTP:&nbsp233</td></tr><tr><td  style=\"background-color:Ivory;\">GaussianNB_basic</td><td  style=\"background-color:Ivory;\">nan</td><td  style=\"background-color:Ivory;\">78.57</td><td  style=\"background-color:Ivory;\">failed_evl</td><td  style=\"background-color:Ivory;\">0.11156473649967458</td><td  style=\"background-color:Ivory;\">TN:&nbsp352,&nbspFP:&nbsp72,&nbspFN:&nbsp81,&nbspTP:&nbsp209</td></tr><tr><td  style=\"background-color:AliceBlue;\">Perceptron_basic</td><td  style=\"background-color:AliceBlue;\">nan</td><td  style=\"background-color:AliceBlue;\">62.46</td><td  style=\"background-color:AliceBlue;\">failed_evl</td><td  style=\"background-color:AliceBlue;\">-0.5562134027325961</td><td  style=\"background-color:AliceBlue;\">TN:&nbsp417,&nbspFP:&nbsp7,&nbspFN:&nbsp261,&nbspTP:&nbsp29</td></tr><tr><td  style=\"background-color:Ivory;\">LinearSVC_basic</td><td  style=\"background-color:Ivory;\">nan</td><td  style=\"background-color:Ivory;\">49.44</td><td  style=\"background-color:Ivory;\">failed_evl</td><td  style=\"background-color:Ivory;\">-1.0962426805465193</td><td  style=\"background-color:Ivory;\">TN:&nbsp94,&nbspFP:&nbsp330,&nbspFN:&nbsp31,&nbspTP:&nbsp259</td></tr><tr><td  style=\"background-color:AliceBlue;\">SGDClassifier_basic</td><td  style=\"background-color:AliceBlue;\">nan</td><td  style=\"background-color:AliceBlue;\">65.69</td><td  style=\"background-color:AliceBlue;\">failed_evl</td><td  style=\"background-color:AliceBlue;\">-0.42265777488614203</td><td  style=\"background-color:AliceBlue;\">TN:&nbsp330,&nbspFP:&nbsp94,&nbspFN:&nbsp151,&nbspTP:&nbsp139</td></tr><tr><td  style=\"background-color:Ivory;\">DecisionTreeClassifier_basic</td><td  style=\"background-color:Ivory;\">nan</td><td  style=\"background-color:Ivory;\">100.0</td><td  style=\"background-color:Ivory;\">failed_evl</td><td  style=\"background-color:Ivory;\">1.0</td><td  style=\"background-color:Ivory;\">TN:&nbsp424,&nbspFP:&nbsp0,&nbspFN:&nbsp0,&nbspTP:&nbsp290</td></tr><tr><td  style=\"background-color:AliceBlue;\">RandomForestClassifier_basic</td><td  style=\"background-color:AliceBlue;\">nan</td><td  style=\"background-color:AliceBlue;\">100.0</td><td  style=\"background-color:AliceBlue;\">failed_evl</td><td  style=\"background-color:AliceBlue;\">1.0</td><td  style=\"background-color:AliceBlue;\">TN:&nbsp424,&nbspFP:&nbsp0,&nbspFN:&nbsp0,&nbspTP:&nbsp290</td></tr></table>"
      ],
      "text/plain": [
       "<ipy_table.IpyTable at 0x1f8dc84c9e8>"
      ]
     },
     "execution_count": 19,
=======
       "<table border=\"1\" cellpadding=\"3\" cellspacing=\"0\"  style=\"border:1px solid black;border-collapse:collapse;\"><tr><td  style=\"background-color:LightGray;\"><b>name</b></td><td  style=\"background-color:LightGray;\"><b>reg_function</b></td><td  style=\"background-color:LightGray;\"><b>trainset_acc</b></td><td  style=\"background-color:LightGray;\"><b>testset_acc</b></td><td  style=\"background-color:LightGray;\"><b>r2score</b></td><td  style=\"background-color:LightGray;\"><b>conf_matrx</b></td><td  style=\"background-color:LightGray;\"><b>kaggle_acc</b></td></tr><tr><td  style=\"background-color:Ivory;\">logisticReg_basic</td><td  style=\"background-color:Ivory;\">Survived&nbsp=&nbsp3.99&nbsp+&nbsp-0.85*Pclass&nbsp+&nbsp-0.00*Name&nbsp+&nbsp-2.35*Sex&nbsp+&nbsp-0.03*Age&nbsp+&nbsp-0.32*SibSp&nbsp+&nbsp-0.06*Parch&nbsp+&nbsp-0.00*Ticket&nbsp+&nbsp0.01*Fare</td><td  style=\"background-color:Ivory;\">79.97</td><td  style=\"background-color:Ivory;\">nan</td><td  style=\"background-color:Ivory;\">0.1696324007807416</td><td  style=\"background-color:Ivory;\">TN:&nbsp369,&nbspFP:&nbsp55,&nbspFN:&nbsp88,&nbspTP:&nbsp202</td><td  style=\"background-color:Ivory;\">failed_evl</td></tr><tr><td  style=\"background-color:AliceBlue;\">linearReg_basic</td><td  style=\"background-color:AliceBlue;\">Survived&nbsp=&nbsp1.40&nbsp+&nbsp-0.19*Pclass&nbsp+&nbsp-0.00*Name&nbsp+&nbsp-0.49*Sex&nbsp+&nbsp-0.01*Age&nbsp+&nbsp-0.06*SibSp&nbsp+&nbsp-0.01*Parch&nbsp+&nbsp-0.00*Ticket&nbsp+&nbsp0.00*Fare</td><td  style=\"background-color:AliceBlue;\">40.25</td><td  style=\"background-color:AliceBlue;\">nan</td><td  style=\"background-color:AliceBlue;\">0.4025252345231439</td><td  style=\"background-color:AliceBlue;\">nan</td><td  style=\"background-color:AliceBlue;\">failed_evl</td></tr><tr><td  style=\"background-color:Ivory;\">SVC_basic</td><td  style=\"background-color:Ivory;\">nan</td><td  style=\"background-color:Ivory;\">99.86</td><td  style=\"background-color:Ivory;\">nan</td><td  style=\"background-color:Ivory;\">0.9941932335718932</td><td  style=\"background-color:Ivory;\">TN:&nbsp424,&nbspFP:&nbsp0,&nbspFN:&nbsp1,&nbspTP:&nbsp289</td><td  style=\"background-color:Ivory;\">failed_evl</td></tr><tr><td  style=\"background-color:AliceBlue;\">KNC_basic</td><td  style=\"background-color:AliceBlue;\">nan</td><td  style=\"background-color:AliceBlue;\">82.49</td><td  style=\"background-color:AliceBlue;\">nan</td><td  style=\"background-color:AliceBlue;\">0.2741541964866623</td><td  style=\"background-color:AliceBlue;\">TN:&nbsp356,&nbspFP:&nbsp68,&nbspFN:&nbsp57,&nbspTP:&nbsp233</td><td  style=\"background-color:AliceBlue;\">failed_evl</td></tr><tr><td  style=\"background-color:Ivory;\">GaussianNB_basic</td><td  style=\"background-color:Ivory;\">nan</td><td  style=\"background-color:Ivory;\">78.57</td><td  style=\"background-color:Ivory;\">nan</td><td  style=\"background-color:Ivory;\">0.11156473649967458</td><td  style=\"background-color:Ivory;\">TN:&nbsp352,&nbspFP:&nbsp72,&nbspFN:&nbsp81,&nbspTP:&nbsp209</td><td  style=\"background-color:Ivory;\">failed_evl</td></tr><tr><td  style=\"background-color:AliceBlue;\">Perceptron_basic</td><td  style=\"background-color:AliceBlue;\">nan</td><td  style=\"background-color:AliceBlue;\">62.46</td><td  style=\"background-color:AliceBlue;\">nan</td><td  style=\"background-color:AliceBlue;\">-0.5562134027325961</td><td  style=\"background-color:AliceBlue;\">TN:&nbsp417,&nbspFP:&nbsp7,&nbspFN:&nbsp261,&nbspTP:&nbsp29</td><td  style=\"background-color:AliceBlue;\">failed_evl</td></tr><tr><td  style=\"background-color:Ivory;\">LinearSVC_basic</td><td  style=\"background-color:Ivory;\">nan</td><td  style=\"background-color:Ivory;\">49.44</td><td  style=\"background-color:Ivory;\">nan</td><td  style=\"background-color:Ivory;\">-1.0962426805465193</td><td  style=\"background-color:Ivory;\">TN:&nbsp94,&nbspFP:&nbsp330,&nbspFN:&nbsp31,&nbspTP:&nbsp259</td><td  style=\"background-color:Ivory;\">failed_evl</td></tr><tr><td  style=\"background-color:AliceBlue;\">SGDClassifier_basic</td><td  style=\"background-color:AliceBlue;\">nan</td><td  style=\"background-color:AliceBlue;\">65.69</td><td  style=\"background-color:AliceBlue;\">nan</td><td  style=\"background-color:AliceBlue;\">-0.422657774886142</td><td  style=\"background-color:AliceBlue;\">TN:&nbsp330,&nbspFP:&nbsp94,&nbspFN:&nbsp151,&nbspTP:&nbsp139</td><td  style=\"background-color:AliceBlue;\">failed_evl</td></tr><tr><td  style=\"background-color:Ivory;\">DecisionTreeClassifier_basic</td><td  style=\"background-color:Ivory;\">nan</td><td  style=\"background-color:Ivory;\">100.0</td><td  style=\"background-color:Ivory;\">nan</td><td  style=\"background-color:Ivory;\">1.0</td><td  style=\"background-color:Ivory;\">TN:&nbsp424,&nbspFP:&nbsp0,&nbspFN:&nbsp0,&nbspTP:&nbsp290</td><td  style=\"background-color:Ivory;\">failed_evl</td></tr><tr><td  style=\"background-color:AliceBlue;\">RandomForestClassifier_basic</td><td  style=\"background-color:AliceBlue;\">nan</td><td  style=\"background-color:AliceBlue;\">100.0</td><td  style=\"background-color:AliceBlue;\">nan</td><td  style=\"background-color:AliceBlue;\">1.0</td><td  style=\"background-color:AliceBlue;\">TN:&nbsp424,&nbspFP:&nbsp0,&nbspFN:&nbsp0,&nbspTP:&nbsp290</td><td  style=\"background-color:AliceBlue;\">failed_evl</td></tr><tr><td  style=\"background-color:Ivory;\">logisticReg_basicImputator</td><td  style=\"background-color:Ivory;\">Survived&nbsp=&nbsp4.04&nbsp+&nbsp-0.72*Pclass&nbsp+&nbsp-0.00*Name&nbsp+&nbsp-2.48*Sex&nbsp+&nbsp-0.03*Age&nbsp+&nbsp-0.29*SibSp&nbsp+&nbsp-0.09*Parch&nbsp+&nbsp-0.00*Ticket&nbsp+&nbsp0.01*Fare&nbsp+&nbsp-0.15*Embarked</td><td  style=\"background-color:Ivory;\">80.25</td><td  style=\"background-color:Ivory;\">nan</td><td  style=\"background-color:Ivory;\">0.16479723899913698</td><td  style=\"background-color:Ivory;\">TN:&nbsp479,&nbspFP:&nbsp70,&nbspFN:&nbsp106,&nbspTP:&nbsp236</td><td  style=\"background-color:Ivory;\">75.120</td></tr><tr><td  style=\"background-color:AliceBlue;\">linearReg_basicImputator</td><td  style=\"background-color:AliceBlue;\">Survived&nbsp=&nbsp1.37&nbsp+&nbsp-0.15*Pclass&nbsp+&nbsp-0.00*Name&nbsp+&nbsp-0.51*Sex&nbsp+&nbsp-0.01*Age&nbsp+&nbsp-0.04*SibSp&nbsp+&nbsp-0.02*Parch&nbsp+&nbsp-0.00*Ticket&nbsp+&nbsp0.00*Fare&nbsp+&nbsp-0.04*Embarked</td><td  style=\"background-color:AliceBlue;\">40.08</td><td  style=\"background-color:AliceBlue;\">nan</td><td  style=\"background-color:AliceBlue;\">0.4007711857324642</td><td  style=\"background-color:AliceBlue;\">nan</td><td  style=\"background-color:AliceBlue;\">failed_evl</td></tr><tr><td  style=\"background-color:Ivory;\">SVC_basicImputator</td><td  style=\"background-color:Ivory;\">nan</td><td  style=\"background-color:Ivory;\">99.21</td><td  style=\"background-color:Ivory;\">nan</td><td  style=\"background-color:Ivory;\">0.966781708369284</td><td  style=\"background-color:Ivory;\">TN:&nbsp549,&nbspFP:&nbsp0,&nbspFN:&nbsp7,&nbspTP:&nbsp335</td><td  style=\"background-color:Ivory;\">62.679</td></tr><tr><td  style=\"background-color:AliceBlue;\">LinSVC_basicImputator</td><td  style=\"background-color:AliceBlue;\">nan</td><td  style=\"background-color:AliceBlue;\">39.28</td><td  style=\"background-color:AliceBlue;\">nan</td><td  style=\"background-color:AliceBlue;\">-1.5672993960310615</td><td  style=\"background-color:AliceBlue;\">TN:&nbsp12,&nbspFP:&nbsp537,&nbspFN:&nbsp4,&nbspTP:&nbsp338</td><td  style=\"background-color:AliceBlue;\">63.158</td></tr><tr><td  style=\"background-color:Ivory;\">KN_basicImputator</td><td  style=\"background-color:Ivory;\">nan</td><td  style=\"background-color:Ivory;\">82.38</td><td  style=\"background-color:Ivory;\">nan</td><td  style=\"background-color:Ivory;\">0.2549611734253666</td><td  style=\"background-color:Ivory;\">TN:&nbsp472,&nbspFP:&nbsp77,&nbspFN:&nbsp80,&nbspTP:&nbsp262</td><td  style=\"background-color:Ivory;\">55.502</td></tr><tr><td  style=\"background-color:AliceBlue;\">Perceptron_basicImputator</td><td  style=\"background-color:AliceBlue;\">nan</td><td  style=\"background-color:AliceBlue;\">67.45</td><td  style=\"background-color:AliceBlue;\">nan</td><td  style=\"background-color:AliceBlue;\">-0.3761863675582402</td><td  style=\"background-color:AliceBlue;\">TN:&nbsp533,&nbspFP:&nbsp16,&nbspFN:&nbsp274,&nbspTP:&nbsp68</td><td  style=\"background-color:AliceBlue;\">65.072</td></tr><tr><td  style=\"background-color:Ivory;\">DecisionTree_basicImputator</td><td  style=\"background-color:Ivory;\">nan</td><td  style=\"background-color:Ivory;\">100.0</td><td  style=\"background-color:Ivory;\">nan</td><td  style=\"background-color:Ivory;\">1.0</td><td  style=\"background-color:Ivory;\">TN:&nbsp549,&nbspFP:&nbsp0,&nbspFN:&nbsp0,&nbspTP:&nbsp342</td><td  style=\"background-color:Ivory;\">62.679</td></tr><tr><td  style=\"background-color:AliceBlue;\">RandomForest_basicImputator</td><td  style=\"background-color:AliceBlue;\">nan</td><td  style=\"background-color:AliceBlue;\">100.0</td><td  style=\"background-color:AliceBlue;\">nan</td><td  style=\"background-color:AliceBlue;\">1.0</td><td  style=\"background-color:AliceBlue;\">TN:&nbsp549,&nbspFP:&nbsp0,&nbspFN:&nbsp0,&nbspTP:&nbsp342</td><td  style=\"background-color:AliceBlue;\">75.598</td></tr><tr><td  style=\"background-color:Ivory;\">RandomForest_basicImputator_Title</td><td  style=\"background-color:Ivory;\">nan</td><td  style=\"background-color:Ivory;\">100.0</td><td  style=\"background-color:Ivory;\">nan</td><td  style=\"background-color:Ivory;\">1.0</td><td  style=\"background-color:Ivory;\">TN:&nbsp549,&nbspFP:&nbsp0,&nbspFN:&nbsp0,&nbspTP:&nbsp342</td><td  style=\"background-color:Ivory;\">78.469</td></tr><tr><td  style=\"background-color:AliceBlue;\">DecisionTree_basictest</td><td  style=\"background-color:AliceBlue;\">NA</td><td  style=\"background-color:AliceBlue;\">100.0</td><td  style=\"background-color:AliceBlue;\">100.0</td><td  style=\"background-color:AliceBlue;\">1.0</td><td  style=\"background-color:AliceBlue;\">TN:&nbsp410,&nbspFP:&nbsp0,&nbspFN:&nbsp0,&nbspTP:&nbsp258</td><td  style=\"background-color:AliceBlue;\">not_tested</td></tr><tr><td  style=\"background-color:Ivory;\">GaussianNB_basictest</td><td  style=\"background-color:Ivory;\">NA</td><td  style=\"background-color:Ivory;\">100.0</td><td  style=\"background-color:Ivory;\">100.0</td><td  style=\"background-color:Ivory;\">1.0</td><td  style=\"background-color:Ivory;\">TN:&nbsp410,&nbspFP:&nbsp0,&nbspFN:&nbsp0,&nbspTP:&nbsp258</td><td  style=\"background-color:Ivory;\">not_tested</td></tr><tr><td  style=\"background-color:AliceBlue;\">KN_basictest</td><td  style=\"background-color:AliceBlue;\">NA</td><td  style=\"background-color:AliceBlue;\">81.74</td><td  style=\"background-color:AliceBlue;\">71.75</td><td  style=\"background-color:AliceBlue;\">0.229570807336</td><td  style=\"background-color:AliceBlue;\">TN:&nbsp360,&nbspFP:&nbsp50,&nbspFN:&nbsp72,&nbspTP:&nbsp186</td><td  style=\"background-color:AliceBlue;\">not_tested</td></tr><tr><td  style=\"background-color:Ivory;\">LinSVC_basictest</td><td  style=\"background-color:Ivory;\">NA</td><td  style=\"background-color:Ivory;\">100.0</td><td  style=\"background-color:Ivory;\">100.0</td><td  style=\"background-color:Ivory;\">1.0</td><td  style=\"background-color:Ivory;\">TN:&nbsp410,&nbspFP:&nbsp0,&nbspFN:&nbsp0,&nbspTP:&nbsp258</td><td  style=\"background-color:Ivory;\">not_tested</td></tr><tr><td  style=\"background-color:AliceBlue;\">LinearRegr_basictest</td><td  style=\"background-color:AliceBlue;\">Survived&nbsp=&nbsp0.00&nbsp+&nbsp1.00*Pclass&nbsp+&nbspnan*Sex&nbsp+&nbspnan*Age&nbsp+&nbspnan*SibSp&nbsp+&nbspnan*Parch&nbsp+&nbspnan*Ticket&nbsp+&nbspnan*Fare&nbsp+&nbspnan*Embarked&nbsp+&nbspnan*Title</td><td  style=\"background-color:AliceBlue;\">NA</td><td  style=\"background-color:AliceBlue;\">NA</td><td  style=\"background-color:AliceBlue;\">1.0</td><td  style=\"background-color:AliceBlue;\">NA</td><td  style=\"background-color:AliceBlue;\">not_tested</td></tr><tr><td  style=\"background-color:Ivory;\">LogisticRegr_basictest</td><td  style=\"background-color:Ivory;\">Survived&nbsp=&nbsp-0.33&nbsp+&nbsp6.95*Pclass&nbsp+&nbsp-0.54*Sex&nbsp+&nbsp-1.11*Age&nbsp+&nbsp-0.02*SibSp&nbsp+&nbsp-0.19*Parch&nbsp+&nbsp-0.03*Ticket&nbsp+&nbsp-0.00*Fare&nbsp+&nbsp0.00*Embarked&nbsp+&nbsp-0.18*Title</td><td  style=\"background-color:Ivory;\">100.0</td><td  style=\"background-color:Ivory;\">100.0</td><td  style=\"background-color:Ivory;\">1.0</td><td  style=\"background-color:Ivory;\">TN:&nbsp410,&nbspFP:&nbsp0,&nbspFN:&nbsp0,&nbspTP:&nbsp258</td><td  style=\"background-color:Ivory;\">not_tested</td></tr><tr><td  style=\"background-color:AliceBlue;\">Percep_basictest</td><td  style=\"background-color:AliceBlue;\">NA</td><td  style=\"background-color:AliceBlue;\">66.32</td><td  style=\"background-color:AliceBlue;\">67.71</td><td  style=\"background-color:AliceBlue;\">-0.420873511061</td><td  style=\"background-color:AliceBlue;\">TN:&nbsp393,&nbspFP:&nbsp17,&nbspFN:&nbsp208,&nbspTP:&nbsp50</td><td  style=\"background-color:AliceBlue;\">not_tested</td></tr><tr><td  style=\"background-color:Ivory;\">RandomForest_basictest</td><td  style=\"background-color:Ivory;\">NA</td><td  style=\"background-color:Ivory;\">100.0</td><td  style=\"background-color:Ivory;\">100.0</td><td  style=\"background-color:Ivory;\">1.0</td><td  style=\"background-color:Ivory;\">TN:&nbsp410,&nbspFP:&nbsp0,&nbspFN:&nbsp0,&nbspTP:&nbsp258</td><td  style=\"background-color:Ivory;\">not_tested</td></tr><tr><td  style=\"background-color:AliceBlue;\">SGD_basictest</td><td  style=\"background-color:AliceBlue;\">NA</td><td  style=\"background-color:AliceBlue;\">39.07</td><td  style=\"background-color:AliceBlue;\">38.12</td><td  style=\"background-color:AliceBlue;\">-1.57020230667</td><td  style=\"background-color:AliceBlue;\">TN:&nbsp3,&nbspFP:&nbsp407,&nbspFN:&nbsp0,&nbspTP:&nbsp258</td><td  style=\"background-color:AliceBlue;\">not_tested</td></tr><tr><td  style=\"background-color:Ivory;\">SVC_basictest</td><td  style=\"background-color:Ivory;\">NA</td><td  style=\"background-color:Ivory;\">98.2</td><td  style=\"background-color:Ivory;\">65.02</td><td  style=\"background-color:Ivory;\">0.92422007941</td><td  style=\"background-color:Ivory;\">TN:&nbsp410,&nbspFP:&nbsp0,&nbspFN:&nbsp12,&nbspTP:&nbsp246</td><td  style=\"background-color:Ivory;\">not_tested</td></tr></table>"
      ],
      "text/plain": [
       "<ipy_table.IpyTable at 0x23d89546cf8>"
      ]
     },
     "execution_count": 24,
>>>>>>> 584fa1e2bbd69689cfe04d401d71d9aa47ebffc5
     "metadata": {},
     "output_type": "execute_result"
    }
   ],
   "source": [
    "make_table(super_table)\n",
    "apply_theme('basic')"
   ]
  },
  {
   "cell_type": "code",
   "execution_count": 50,
   "metadata": {
    "collapsed": true
   },
   "outputs": [],
   "source": [
    "df = pd.DataFrame(super_table[1:], columns=super_table[0])\n",
    "df.to_csv(r'C:/Users/ernest.chocholowski/Desktop/GIT/Titanic/table_eCh.csv', \n",
    "                      index=False)"
   ]
  },
  {
   "cell_type": "code",
   "execution_count": null,
   "metadata": {
    "collapsed": true
   },
   "outputs": [],
   "source": []
  }
 ],
 "metadata": {
  "kernelspec": {
   "display_name": "Python 3",
   "language": "python",
   "name": "python3"
  },
  "language_info": {
   "codemirror_mode": {
    "name": "ipython",
    "version": 3
   },
   "file_extension": ".py",
   "mimetype": "text/x-python",
   "name": "python",
   "nbconvert_exporter": "python",
   "pygments_lexer": "ipython3",
   "version": "3.6.0"
  }
 },
 "nbformat": 4,
 "nbformat_minor": 2
}
