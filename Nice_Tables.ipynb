{
 "cells": [
  {
   "cell_type": "code",
   "execution_count": 5,
   "metadata": {
    "collapsed": false
   },
   "outputs": [
    {
     "data": {
      "text/plain": [
       "'C:\\\\Users\\\\ernest.chocholowski\\\\AppData\\\\Local\\\\Continuum\\\\Anaconda3\\\\envs\\\\tensorflow\\\\python.exe'"
      ]
     },
     "execution_count": 5,
     "metadata": {},
     "output_type": "execute_result"
    }
   ],
   "source": [
    "import sys\n",
    "sys.executable"
   ]
  },
  {
   "cell_type": "code",
   "execution_count": 17,
   "metadata": {
    "collapsed": false
   },
   "outputs": [],
   "source": [
    "from ipy_table import *\n",
    "planets = [\n",
    "    ['Planet', 'Mass (kg)', 'Diameter (km)'],\n",
    "    ['Mercury', 3.3022E23, 4879], \n",
    "    ['Venus', 4.896E24, 12104],\n",
    "    ['Earth', 5.972E24, 12735],\n",
    "    ['Mars', 6.4191E23, 6772]];"
   ]
  },
  {
   "cell_type": "code",
   "execution_count": 19,
   "metadata": {
    "collapsed": false,
    "scrolled": true
   },
   "outputs": [
    {
     "data": {
      "text/html": [
       "<table border=\"1\" cellpadding=\"3\" cellspacing=\"0\"  style=\"border:1px solid black;border-collapse:collapse;\"><tr><td  style=\"background-color:LightGray;\"><b>Planet</b></td><td  style=\"background-color:LightGray;\"><b>Mass&nbsp(kg)</b></td><td  style=\"background-color:LightGray;\"><b>Diameter&nbsp(km)</b></td></tr><tr><td  style=\"background-color:Ivory;\">Mercury</td><td  style=\"background-color:Ivory;\">3.3022e+23</td><td  style=\"background-color:Ivory;\">4879</td></tr><tr><td  style=\"background-color:AliceBlue;\">Venus</td><td  style=\"background-color:AliceBlue;\">4.896e+24</td><td  style=\"background-color:AliceBlue;\">12104</td></tr><tr><td  style=\"background-color:Ivory;\">Earth</td><td  style=\"background-color:Ivory;\">5.972e+24</td><td  style=\"background-color:Ivory;\">12735</td></tr><tr><td  style=\"background-color:AliceBlue;\">Mars</td><td  style=\"background-color:AliceBlue;\">6.4191e+23</td><td  style=\"background-color:AliceBlue;\">6772</td></tr></table>"
      ],
      "text/plain": [
       "<ipy_table.IpyTable at 0x152ea4b8e80>"
      ]
     },
     "execution_count": 19,
     "metadata": {},
     "output_type": "execute_result"
    }
   ],
   "source": [
    "make_table(planets)\n",
    "apply_theme('basic')"
   ]
  },
  {
   "cell_type": "code",
   "execution_count": 24,
   "metadata": {
    "collapsed": false,
    "scrolled": true
   },
   "outputs": [
    {
     "name": "stdout",
     "output_type": "stream",
     "text": [
      "[['Planet', 'Mass (kg)', 'Diameter (km)'], ['Mercury', 3.3022e+23, 4879], ['Venus', 4.896e+24, 12104], ['Earth', 5.972e+24, 12735], ['Mars', 6.4191e+23, 6772], ['jupiter', 9999, 99999, 'can I add more rows?'], ['jupiter', 9999, 99999, 'can I add more rows?']]\n"
     ]
    }
   ],
   "source": [
    "new_planet = ['jupiter', 9999, 99999, 'can I add more rows?']\n",
    "planets.append(new_planet)\n",
    "\n",
    "print (planets)\n",
    "\n",
    "#can't make tables of varying row length | can't have dictionary as input\n",
    "#make_table(planets)\n",
    "#apply_theme('basic')"
   ]
  },
  {
   "cell_type": "code",
   "execution_count": 10,
   "metadata": {
    "collapsed": false
   },
   "outputs": [
    {
     "name": "stdout",
     "output_type": "stream",
     "text": [
      "{'first_try': [2222, 344, 4545, 65656, 565656], 'second_try': [2321232, 2133, 1, 22]}\n"
     ]
    }
   ],
   "source": [
    "def regression_test (train_df, y_selection, x_selection):\n",
    "    "
   ]
  },
  {
   "cell_type": "code",
   "execution_count": null,
   "metadata": {
    "collapsed": true
   },
   "outputs": [],
   "source": [
    "original = ['Survived' 'Pclass' 'Sex' 'Age' 'Title' 'IsAlone' 'Age*Class'\n",
    " 'FareEmbarked']\n",
    "x_selection = ['Survived', '']"
   ]
  }
 ],
 "metadata": {
  "kernelspec": {
   "display_name": "Python 3",
   "language": "python",
   "name": "python3"
  },
  "language_info": {
   "codemirror_mode": {
    "name": "ipython",
    "version": 3
   },
   "file_extension": ".py",
   "mimetype": "text/x-python",
   "name": "python",
   "nbconvert_exporter": "python",
   "pygments_lexer": "ipython3",
   "version": "3.5.3"
  }
 },
 "nbformat": 4,
 "nbformat_minor": 2
}
