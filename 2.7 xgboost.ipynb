{
 "cells": [
  {
   "cell_type": "code",
   "execution_count": 42,
   "metadata": {
    "collapsed": false
   },
   "outputs": [],
   "source": [
    "import itertools #iteration tools\n",
    "import numpy as np # linear algebra\n",
    "import pandas as pd # data processing, CSV file I/O (e.g. pd.read_csv)\n",
    "import seaborn as sns # nice plots\n",
    "import matplotlib.pyplot as plt # plots\n",
    "from ipy_table import *# dem tables!\n",
    "\n",
    "#preprocessing\n",
    "from sklearn.preprocessing import LabelEncoder\n",
    "\n",
    "# machine learning\n",
    "from sklearn.linear_model import LinearRegression\n",
    "from sklearn.linear_model import LogisticRegression \n",
    "from sklearn.svm import SVC, LinearSVC\n",
    "from sklearn.ensemble import RandomForestClassifier\n",
    "from sklearn.neighbors import KNeighborsClassifier\n",
    "from sklearn.naive_bayes import GaussianNB\n",
    "from sklearn.linear_model import Perceptron\n",
    "from sklearn.linear_model import SGDClassifier\n",
    "from sklearn.tree import DecisionTreeClassifier\n",
    "from xgboost import XGBClassifier\n",
    "\n",
    "# Import and suppress warnings\n",
    "import warnings\n",
    "warnings.filterwarnings('ignore')"
   ]
  },
  {
   "cell_type": "code",
   "execution_count": 4,
   "metadata": {
    "collapsed": false
   },
   "outputs": [],
   "source": [
    "train_df = pd.read_csv(r'C:/Users/ernest.chocholowski/Desktop/Datasets/Titanic/train.csv')\n",
    "test_df = pd.read_csv(r'C:/Users/ernest.chocholowski/Desktop/Datasets/Titanic/test.csv')\n",
    "both = [train_df, test_df]\n",
    "train_df.head()\n",
    "super_table=[]\n",
    "super_table.append(['name', 'reg_function', 'trainset_acc', 'testset_acc', 'r2score', 'conf_matrx', 'kaggle_acc'])\n",
    "df_load = pd.read_csv(r'C:/Users/ernest.chocholowski/Desktop/GIT/Titanic/table_eCh.csv')\n",
    "for row in df_load.values.tolist():\n",
    "    super_table.append(row)"
   ]
  },
  {
   "cell_type": "code",
   "execution_count": 5,
   "metadata": {
    "collapsed": true
   },
   "outputs": [],
   "source": [
    "for df in both:\n",
    "    df['Title'] = df.Name.str.extract(' ([A-Za-z]+)\\.', expand=False)\n",
    "    df['Title'] = df['Title'].replace(['Lady', 'Countess', 'Don', 'Dr', 'Rev', 'Sir', 'Jonkheer', 'Dona'], 'Rare')\n",
    "\n",
    "    df['Title'] = df['Title'].replace(['Capt', 'Col', 'Major'], 'Officer')\n",
    "    df['Title'] = df['Title'].replace(['Mlle', 'Ms'], 'Miss')\n",
    "    df['Title'] = df['Title'].replace('Mme', 'Mrs')"
   ]
  },
  {
   "cell_type": "code",
   "execution_count": 50,
   "metadata": {
    "collapsed": false
   },
   "outputs": [
    {
     "data": {
      "text/plain": [
       "Survived      int64\n",
       "Pclass        int64\n",
       "Sex          object\n",
       "Age         float64\n",
       "SibSp         int64\n",
       "Parch         int64\n",
       "Ticket       object\n",
       "Fare        float64\n",
       "Embarked      int64\n",
       "Title        object\n",
       "dtype: object"
      ]
     },
     "execution_count": 50,
     "metadata": {},
     "output_type": "execute_result"
    }
   ],
   "source": [
    "#labelling\n",
    "var_mod = ['Title', 'Sex', 'Ticket', 'Embarked']\n",
    "le = LabelEncoder()\n",
    "for i in var_mod:\n",
    "    mask = ~train_df[i].isnull()\n",
    "    train_df[i][mask] = le.fit_transform(train_df[i][mask])\n",
    "    mask2 = ~test_df[i].isnull()\n",
    "    test_df[i][mask2] = le.fit_transform(test_df[i][mask2])\n",
    "train_df.dtypes"
   ]
  },
  {
   "cell_type": "code",
   "execution_count": 7,
   "metadata": {
    "collapsed": true
   },
   "outputs": [],
   "source": [
    "train_df = train_df.drop(['Cabin', 'Name', 'PassengerId'], axis=1)\n",
    "test_df = test_df.drop(['Cabin', 'Name'], axis=1)"
   ]
  },
  {
   "cell_type": "code",
   "execution_count": 8,
   "metadata": {
    "collapsed": true
   },
   "outputs": [],
   "source": [
    "#perform imputation!\n",
    "#imputation of age with imputer\n",
    "from sklearn.preprocessing import Imputer\n",
    "imp=Imputer(missing_values=\"NaN\", strategy=\"mean\" )\n",
    "train_df[\"Age\"]=imp.fit_transform(train_df[[\"Age\"]]).ravel()\n",
    "test_df[\"Age\"]=imp.fit_transform(test_df[[\"Age\"]]).ravel()\n",
    "\n",
    "#impute embarked as the most frequent one\n",
    "freq_port = train_df.Embarked.dropna().mode()[0]\n",
    "train_df['Embarked'] = train_df['Embarked'].fillna(freq_port)\n",
    "\n",
    "#impute missing Fare value\n",
    "test_df['Fare'].fillna(test_df['Fare'].dropna().median(), inplace=True)"
   ]
  },
  {
   "cell_type": "code",
   "execution_count": 46,
   "metadata": {
    "collapsed": false,
    "scrolled": true
   },
   "outputs": [
    {
     "data": {
      "text/html": [
       "<div>\n",
       "<table border=\"1\" class=\"dataframe\">\n",
       "  <thead>\n",
       "    <tr style=\"text-align: right;\">\n",
       "      <th></th>\n",
       "      <th>Survived</th>\n",
       "      <th>Pclass</th>\n",
       "      <th>Sex</th>\n",
       "      <th>Age</th>\n",
       "      <th>SibSp</th>\n",
       "      <th>Parch</th>\n",
       "      <th>Ticket</th>\n",
       "      <th>Fare</th>\n",
       "      <th>Embarked</th>\n",
       "      <th>Title</th>\n",
       "    </tr>\n",
       "  </thead>\n",
       "  <tbody>\n",
       "    <tr>\n",
       "      <th>0</th>\n",
       "      <td>0</td>\n",
       "      <td>3</td>\n",
       "      <td>1</td>\n",
       "      <td>22.0</td>\n",
       "      <td>1</td>\n",
       "      <td>0</td>\n",
       "      <td>523</td>\n",
       "      <td>7.2500</td>\n",
       "      <td>2</td>\n",
       "      <td>2</td>\n",
       "    </tr>\n",
       "    <tr>\n",
       "      <th>1</th>\n",
       "      <td>1</td>\n",
       "      <td>1</td>\n",
       "      <td>0</td>\n",
       "      <td>38.0</td>\n",
       "      <td>1</td>\n",
       "      <td>0</td>\n",
       "      <td>596</td>\n",
       "      <td>71.2833</td>\n",
       "      <td>0</td>\n",
       "      <td>3</td>\n",
       "    </tr>\n",
       "    <tr>\n",
       "      <th>2</th>\n",
       "      <td>1</td>\n",
       "      <td>3</td>\n",
       "      <td>0</td>\n",
       "      <td>26.0</td>\n",
       "      <td>0</td>\n",
       "      <td>0</td>\n",
       "      <td>669</td>\n",
       "      <td>7.9250</td>\n",
       "      <td>2</td>\n",
       "      <td>1</td>\n",
       "    </tr>\n",
       "    <tr>\n",
       "      <th>3</th>\n",
       "      <td>1</td>\n",
       "      <td>1</td>\n",
       "      <td>0</td>\n",
       "      <td>35.0</td>\n",
       "      <td>1</td>\n",
       "      <td>0</td>\n",
       "      <td>49</td>\n",
       "      <td>53.1000</td>\n",
       "      <td>2</td>\n",
       "      <td>3</td>\n",
       "    </tr>\n",
       "    <tr>\n",
       "      <th>4</th>\n",
       "      <td>0</td>\n",
       "      <td>3</td>\n",
       "      <td>1</td>\n",
       "      <td>35.0</td>\n",
       "      <td>0</td>\n",
       "      <td>0</td>\n",
       "      <td>472</td>\n",
       "      <td>8.0500</td>\n",
       "      <td>2</td>\n",
       "      <td>2</td>\n",
       "    </tr>\n",
       "  </tbody>\n",
       "</table>\n",
       "</div>"
      ],
      "text/plain": [
       "   Survived  Pclass Sex   Age  SibSp  Parch Ticket     Fare  Embarked Title\n",
       "0         0       3   1  22.0      1      0    523   7.2500         2     2\n",
       "1         1       1   0  38.0      1      0    596  71.2833         0     3\n",
       "2         1       3   0  26.0      0      0    669   7.9250         2     1\n",
       "3         1       1   0  35.0      1      0     49  53.1000         2     3\n",
       "4         0       3   1  35.0      0      0    472   8.0500         2     2"
      ]
     },
     "execution_count": 46,
     "metadata": {},
     "output_type": "execute_result"
    }
   ],
   "source": [
    "train_df.head()"
   ]
  },
  {
   "cell_type": "code",
   "execution_count": 11,
   "metadata": {
    "collapsed": false
   },
   "outputs": [],
   "source": [
    "#Split data for train and test\n",
    "def split_data(data, target='Survived'):\n",
    "    #set target for training\n",
    "    target = train_df[\"Survived\"]\n",
    "    target.head(3)\n",
    "\n",
    "    # Import the train_test_split method\n",
    "    from sklearn.model_selection import train_test_split\n",
    "    # Split data into train (2/3rd of data) and test (1/3rd of data)\n",
    "    return train_test_split(train_df, target, train_size = 0.75, random_state=0);"
   ]
  },
  {
   "cell_type": "code",
   "execution_count": 12,
   "metadata": {
    "collapsed": true
   },
   "outputs": [],
   "source": [
    "def regr_equation(logreg, train, target):\n",
    "    if type(model) is LogisticRegression:\n",
    "        coef = logreg.coef_[0]\n",
    "        intercept = \"{:.2f}\".format(logreg.intercept_[0])\n",
    "    else:\n",
    "        coef = logreg.coef_\n",
    "        intercept = \"{:.2f}\".format(logreg.intercept_)\n",
    "        \n",
    "    output = target.name + ' = ' + str(intercept) + ' + '\n",
    "    coeff_df = pd.DataFrame(train.columns.delete(0))\n",
    "    coeff_df.columns = ['Feature']\n",
    "    coeff_df[\"Correlation\"] = pd.Series(logreg.coef_[0])\n",
    "    features = coeff_df['Feature'].tolist()\n",
    "    coefficients = coeff_df['Correlation'].tolist()\n",
    "    \n",
    "    for coeff, feature in zip(coefficients, features):\n",
    "        coeff_str = \"{:.2f}\".format(coeff)\n",
    "        output += coeff_str + \"*\" + str(feature) + \" + \"\n",
    "    return output[:-3]"
   ]
  },
  {
   "cell_type": "code",
   "execution_count": 13,
   "metadata": {
    "collapsed": true
   },
   "outputs": [],
   "source": [
    "def confusion_matrix(model, X, y):\n",
    "    from sklearn.metrics import confusion_matrix\n",
    "    return confusion_matrix(y, model.predict(X))"
   ]
  },
  {
   "cell_type": "code",
   "execution_count": 65,
   "metadata": {
    "collapsed": true
   },
   "outputs": [],
   "source": [
    "def test_model (model, data, submission_name = None, test=None):\n",
    "   \n",
    "    if test is None:\n",
    "        \n",
    "        from sklearn.metrics import accuracy_score, confusion_matrix, r2_score\n",
    "        train, test, target_train, target_test = split_data(data)\n",
    "        model.fit(train, target_train)\n",
    "        #Calc parameters\n",
    "        if type(model) is LogisticRegression:\n",
    "            function_str = regr_equation(model, train, target_train)\n",
    "        elif type(model) is LinearRegression:\n",
    "            function_str = regr_equation(model, train, target_train)\n",
    "        else :\n",
    "            function_str = \"NA\"    \n",
    "\n",
    "        if type(model) is not LinearRegression:\n",
    "            trainset_acc = round(accuracy_score(target_train, model.predict(train)) * 100, 2)\n",
    "            testset_acc = round(accuracy_score(target_test, model.predict(test)) * 100, 2)\n",
    "            conf_matrix = confusion_matrix(target_train, model.predict(train))\n",
    "            conf_matrix = 'TN: '+str(conf_matrix[0][0])+', FP: '+str(conf_matrix[0][1])+ \\\n",
    "                              ', FN: '+str(conf_matrix[1][0])+', TP: '+str(conf_matrix[1][1])\n",
    "        else:\n",
    "            trainset_acc = 'NA'\n",
    "            testset_acc = 'NA'\n",
    "            conf_matrix = \"NA\"\n",
    "\n",
    "        r2_score = r2_score(target_train, model.predict(train))\n",
    "        kaggle = \"not_tested\"\n",
    "\n",
    "        #prints\n",
    "        print(\"-\"*40)\n",
    "        print('Submission name:', submission_name )\n",
    "        print('Regression function:\\n', function_str)\n",
    "        print('Accuracy on train set:', trainset_acc)\n",
    "        print('Accuracy on test set:', testset_acc)\n",
    "        print(\"R2 score:\", r2_score)\n",
    "        print(\"Confusion matrix:\\n\", conf_matrix)\n",
    "        return [submission_name, function_str, str(trainset_acc), str(testset_acc), r2_score, conf_matrix, kaggle]\n",
    "    else:\n",
    "        \n",
    "        train = data.drop(\"Survived\", axis=1)\n",
    "        target_train = data[\"Survived\"]\n",
    "        test  = test_df.drop(\"PassengerId\", axis=1).copy()\n",
    "        model.fit(train, target_train)\n",
    "        pred = model.predict(test)\n",
    "        if type(model) is XGBClassifier:\n",
    "            predictions = [round(value) for value in pred]\n",
    "        submission = pd.DataFrame({\n",
    "                \"PassengerId\": test_df[\"PassengerId\"],\n",
    "                \"Survived\": pred\n",
    "            })\n",
    "        submission.to_csv(r'C:/Users/ernest.chocholowski/Desktop/Datasets/Titanic/output/'+submission_name+'.csv',\n",
    "                          index=False)"
   ]
  },
  {
   "cell_type": "code",
   "execution_count": 15,
   "metadata": {
    "collapsed": true
   },
   "outputs": [],
   "source": [
    "#Setup\n",
    "suffix = '_basicImputation_Title_newFun'\n",
    "\n",
    "modelLogReg = LogisticRegression()\n",
    "modelLinReg = LinearRegression()\n",
    "modelSVC = SVC()\n",
    "modellinSVC = LinearSVC()\n",
    "modelKN = KNeighborsClassifier(n_neighbors = 3)\n",
    "modelGNB = GaussianNB()\n",
    "modelPercp = Perceptron()\n",
    "modelSGD = SGDClassifier()\n",
    "modelTree = DecisionTreeClassifier()\n",
    "modelRndForest = RandomForestClassifier(n_estimators=100)\n",
    "\n",
    "models = {modelLogReg: \"LogisticRegr\", modelLinReg: \"LinearRegr\",\n",
    "          modelSVC: \"SVC\", modellinSVC: \"LinSVC\",\n",
    "          modelKN: \"KN\", modelGNB: \"GaussianNB\",\n",
    "          modelPercp: \"Percep\", modelSGD: \"SGD\",\n",
    "          modelTree: \"DecisionTree\", modelRndForest: \"RandomForest\"}"
   ]
  },
  {
   "cell_type": "code",
   "execution_count": 43,
   "metadata": {
    "collapsed": true
   },
   "outputs": [],
   "source": [
    "xgboostmodel = xgboost.XGBClassifier()\n",
    "models = {xgboostmodel : \"XGBoost\"}"
   ]
  },
  {
   "cell_type": "code",
   "execution_count": 64,
   "metadata": {
    "collapsed": false,
    "scrolled": true
   },
   "outputs": [],
   "source": [
    "train_df['Sex']=train_df['Sex'].apply(int)\n",
    "train_df['Title']=train_df['Title'].apply(int)\n",
    "train_df['Ticket']=train_df['Ticket'].apply(int)\n",
    "\n",
    "test_df['Sex']=test_df['Sex'].apply(int)\n",
    "test_df['Embarked']=test_df['Embarked'].apply(int)\n",
    "test_df[\"Ticket\"] = test_df[\"Ticket\"].apply(int)\n",
    "test_df['Title']=test_df['Title'].apply(int)"
   ]
  },
  {
   "cell_type": "code",
   "execution_count": 60,
   "metadata": {
    "collapsed": false
   },
   "outputs": [
    {
     "name": "stdout",
     "output_type": "stream",
     "text": [
      "----------------------------------------\n",
      "('Submission name:', 'XGBoost_basicImputation_Title_newFun')\n",
      "('Regression function:\\n', 'NA')\n",
      "('Accuracy on train set:', 100.0)\n",
      "('Accuracy on test set:', 100.0)\n",
      "('R2 score:', 1.0)\n",
      "('Confusion matrix:\\n', 'TN: 410, FP: 0, FN: 0, TP: 258')\n"
     ]
    }
   ],
   "source": [
    "outputs = []\n",
    "for model, prefix in models.items():\n",
    "    name=prefix+suffix\n",
    "    outputs.append(test_model(model, train_df, submission_name=name))\n",
    "outputs.sort(key=lambda x: x[0])"
   ]
  },
  {
   "cell_type": "code",
   "execution_count": null,
   "metadata": {
    "collapsed": true
   },
   "outputs": [],
   "source": [
    "models = {modelLogReg: \"LogisticRegr\",\n",
    "          modellinSVC: \"LinSVC\",\n",
    "          modelGNB: \"GaussianNB\",\n",
    "          modelTree: \"DecisionTree\", \n",
    "          modelRndForest: \"RandomForest\"}"
   ]
  },
  {
   "cell_type": "code",
   "execution_count": 62,
   "metadata": {
    "collapsed": true
   },
   "outputs": [],
   "source": [
    "models = {xgboostmodel : \"XGBoost\"}"
   ]
  },
  {
   "cell_type": "code",
   "execution_count": 66,
   "metadata": {
    "collapsed": false
   },
   "outputs": [],
   "source": [
    "for model, prefix in models.items():\n",
    "    name=prefix+suffix\n",
    "    test_model(model, train_df, submission_name=name, test=test_df)"
   ]
  },
  {
   "cell_type": "code",
   "execution_count": 68,
   "metadata": {
    "collapsed": false
   },
   "outputs": [
    {
     "data": {
      "text/plain": [
       "[['XGBoost_basicImputation_Title_newFun',\n",
       "  'NA',\n",
       "  '100.0',\n",
       "  '100.0',\n",
       "  1.0,\n",
       "  'TN: 410, FP: 0, FN: 0, TP: 258',\n",
       "  'not_tested']]"
      ]
     },
     "execution_count": 68,
     "metadata": {},
     "output_type": "execute_result"
    }
   ],
   "source": [
    "outputs[]"
   ]
  },
  {
   "cell_type": "code",
   "execution_count": 18,
   "metadata": {
    "collapsed": true
   },
   "outputs": [],
   "source": [
    "for out in outputs:\n",
    "    super_table.append(out)"
   ]
  },
  {
   "cell_type": "code",
   "execution_count": 40,
   "metadata": {
    "collapsed": false
   },
   "outputs": [
    {
     "data": {
      "text/html": [
       "<table border=\"1\" cellpadding=\"3\" cellspacing=\"0\"  style=\"border:1px solid black;border-collapse:collapse;\"><tr><td  style=\"background-color:LightGray;\"><b>name</b></td><td  style=\"background-color:LightGray;\"><b>reg_function</b></td><td  style=\"background-color:LightGray;\"><b>trainset_acc</b></td><td  style=\"background-color:LightGray;\"><b>testset_acc</b></td><td  style=\"background-color:LightGray;\"><b>r2score</b></td><td  style=\"background-color:LightGray;\"><b>conf_matrx</b></td><td  style=\"background-color:LightGray;\"><b>kaggle_acc</b></td></tr><tr><td  style=\"background-color:Ivory;\">logisticReg_basic</td><td  style=\"background-color:Ivory;\">Survived&nbsp=&nbsp3.99&nbsp+&nbsp-0.85*Pclass&nbsp+&nbsp-0.00*Name&nbsp+&nbsp-2.35*Sex&nbsp+&nbsp-0.03*Age&nbsp+&nbsp-0.32*SibSp&nbsp+&nbsp-0.06*Parch&nbsp+&nbsp-0.00*Ticket&nbsp+&nbsp0.01*Fare</td><td  style=\"background-color:Ivory;\">79.9700</td><td  style=\"background-color:Ivory;\">nan</td><td  style=\"background-color:Ivory;\">0.1696</td><td  style=\"background-color:Ivory;\">TN:&nbsp369,&nbspFP:&nbsp55,&nbspFN:&nbsp88,&nbspTP:&nbsp202</td><td  style=\"background-color:Ivory;\">failed_evl</td></tr><tr><td  style=\"background-color:AliceBlue;\">linearReg_basic</td><td  style=\"background-color:AliceBlue;\">Survived&nbsp=&nbsp1.40&nbsp+&nbsp-0.19*Pclass&nbsp+&nbsp-0.00*Name&nbsp+&nbsp-0.49*Sex&nbsp+&nbsp-0.01*Age&nbsp+&nbsp-0.06*SibSp&nbsp+&nbsp-0.01*Parch&nbsp+&nbsp-0.00*Ticket&nbsp+&nbsp0.00*Fare</td><td  style=\"background-color:AliceBlue;\">40.2500</td><td  style=\"background-color:AliceBlue;\">nan</td><td  style=\"background-color:AliceBlue;\">0.4025</td><td  style=\"background-color:AliceBlue;\">nan</td><td  style=\"background-color:AliceBlue;\">failed_evl</td></tr><tr><td  style=\"background-color:Ivory;\">SVC_basic</td><td  style=\"background-color:Ivory;\">nan</td><td  style=\"background-color:Ivory;\">99.8600</td><td  style=\"background-color:Ivory;\">nan</td><td  style=\"background-color:Ivory;\">0.9942</td><td  style=\"background-color:Ivory;\">TN:&nbsp424,&nbspFP:&nbsp0,&nbspFN:&nbsp1,&nbspTP:&nbsp289</td><td  style=\"background-color:Ivory;\">failed_evl</td></tr><tr><td  style=\"background-color:AliceBlue;\">KNC_basic</td><td  style=\"background-color:AliceBlue;\">nan</td><td  style=\"background-color:AliceBlue;\">82.4900</td><td  style=\"background-color:AliceBlue;\">nan</td><td  style=\"background-color:AliceBlue;\">0.2742</td><td  style=\"background-color:AliceBlue;\">TN:&nbsp356,&nbspFP:&nbsp68,&nbspFN:&nbsp57,&nbspTP:&nbsp233</td><td  style=\"background-color:AliceBlue;\">failed_evl</td></tr><tr><td  style=\"background-color:Ivory;\">GaussianNB_basic</td><td  style=\"background-color:Ivory;\">nan</td><td  style=\"background-color:Ivory;\">78.5700</td><td  style=\"background-color:Ivory;\">nan</td><td  style=\"background-color:Ivory;\">0.1116</td><td  style=\"background-color:Ivory;\">TN:&nbsp352,&nbspFP:&nbsp72,&nbspFN:&nbsp81,&nbspTP:&nbsp209</td><td  style=\"background-color:Ivory;\">failed_evl</td></tr><tr><td  style=\"background-color:AliceBlue;\">Perceptron_basic</td><td  style=\"background-color:AliceBlue;\">nan</td><td  style=\"background-color:AliceBlue;\">62.4600</td><td  style=\"background-color:AliceBlue;\">nan</td><td  style=\"background-color:AliceBlue;\">-0.5562</td><td  style=\"background-color:AliceBlue;\">TN:&nbsp417,&nbspFP:&nbsp7,&nbspFN:&nbsp261,&nbspTP:&nbsp29</td><td  style=\"background-color:AliceBlue;\">failed_evl</td></tr><tr><td  style=\"background-color:Ivory;\">LinearSVC_basic</td><td  style=\"background-color:Ivory;\">nan</td><td  style=\"background-color:Ivory;\">49.4400</td><td  style=\"background-color:Ivory;\">nan</td><td  style=\"background-color:Ivory;\">-1.0962</td><td  style=\"background-color:Ivory;\">TN:&nbsp94,&nbspFP:&nbsp330,&nbspFN:&nbsp31,&nbspTP:&nbsp259</td><td  style=\"background-color:Ivory;\">failed_evl</td></tr><tr><td  style=\"background-color:AliceBlue;\">SGDClassifier_basic</td><td  style=\"background-color:AliceBlue;\">nan</td><td  style=\"background-color:AliceBlue;\">65.6900</td><td  style=\"background-color:AliceBlue;\">nan</td><td  style=\"background-color:AliceBlue;\">-0.4227</td><td  style=\"background-color:AliceBlue;\">TN:&nbsp330,&nbspFP:&nbsp94,&nbspFN:&nbsp151,&nbspTP:&nbsp139</td><td  style=\"background-color:AliceBlue;\">failed_evl</td></tr><tr><td  style=\"background-color:Ivory;\">DecisionTreeClassifier_basic</td><td  style=\"background-color:Ivory;\">nan</td><td  style=\"background-color:Ivory;\">100.0000</td><td  style=\"background-color:Ivory;\">nan</td><td  style=\"background-color:Ivory;\">1.0000</td><td  style=\"background-color:Ivory;\">TN:&nbsp424,&nbspFP:&nbsp0,&nbspFN:&nbsp0,&nbspTP:&nbsp290</td><td  style=\"background-color:Ivory;\">failed_evl</td></tr><tr><td  style=\"background-color:AliceBlue;\">RandomForestClassifier_basic</td><td  style=\"background-color:AliceBlue;\">nan</td><td  style=\"background-color:AliceBlue;\">100.0000</td><td  style=\"background-color:AliceBlue;\">nan</td><td  style=\"background-color:AliceBlue;\">1.0000</td><td  style=\"background-color:AliceBlue;\">TN:&nbsp424,&nbspFP:&nbsp0,&nbspFN:&nbsp0,&nbspTP:&nbsp290</td><td  style=\"background-color:AliceBlue;\">failed_evl</td></tr><tr><td  style=\"background-color:Ivory;\">logisticReg_basicImputator</td><td  style=\"background-color:Ivory;\">Survived&nbsp=&nbsp4.04&nbsp+&nbsp-0.72*Pclass&nbsp+&nbsp-0.00*Name&nbsp+&nbsp-2.48*Sex&nbsp+&nbsp-0.03*Age&nbsp+&nbsp-0.29*SibSp&nbsp+&nbsp-0.09*Parch&nbsp+&nbsp-0.00*Ticket&nbsp+&nbsp0.01*Fare&nbsp+&nbsp-0.15*Embarked</td><td  style=\"background-color:Ivory;\">80.2500</td><td  style=\"background-color:Ivory;\">nan</td><td  style=\"background-color:Ivory;\">0.1648</td><td  style=\"background-color:Ivory;\">TN:&nbsp479,&nbspFP:&nbsp70,&nbspFN:&nbsp106,&nbspTP:&nbsp236</td><td  style=\"background-color:Ivory;\">75.120</td></tr><tr><td  style=\"background-color:AliceBlue;\">linearReg_basicImputator</td><td  style=\"background-color:AliceBlue;\">Survived&nbsp=&nbsp1.37&nbsp+&nbsp-0.15*Pclass&nbsp+&nbsp-0.00*Name&nbsp+&nbsp-0.51*Sex&nbsp+&nbsp-0.01*Age&nbsp+&nbsp-0.04*SibSp&nbsp+&nbsp-0.02*Parch&nbsp+&nbsp-0.00*Ticket&nbsp+&nbsp0.00*Fare&nbsp+&nbsp-0.04*Embarked</td><td  style=\"background-color:AliceBlue;\">40.0800</td><td  style=\"background-color:AliceBlue;\">nan</td><td  style=\"background-color:AliceBlue;\">0.4008</td><td  style=\"background-color:AliceBlue;\">nan</td><td  style=\"background-color:AliceBlue;\">failed_evl</td></tr><tr><td  style=\"background-color:Ivory;\">SVC_basicImputator</td><td  style=\"background-color:Ivory;\">nan</td><td  style=\"background-color:Ivory;\">99.2100</td><td  style=\"background-color:Ivory;\">nan</td><td  style=\"background-color:Ivory;\">0.9668</td><td  style=\"background-color:Ivory;\">TN:&nbsp549,&nbspFP:&nbsp0,&nbspFN:&nbsp7,&nbspTP:&nbsp335</td><td  style=\"background-color:Ivory;\">62.679</td></tr><tr><td  style=\"background-color:AliceBlue;\">LinSVC_basicImputator</td><td  style=\"background-color:AliceBlue;\">nan</td><td  style=\"background-color:AliceBlue;\">39.2800</td><td  style=\"background-color:AliceBlue;\">nan</td><td  style=\"background-color:AliceBlue;\">-1.5673</td><td  style=\"background-color:AliceBlue;\">TN:&nbsp12,&nbspFP:&nbsp537,&nbspFN:&nbsp4,&nbspTP:&nbsp338</td><td  style=\"background-color:AliceBlue;\">63.158</td></tr><tr><td  style=\"background-color:Ivory;\">KN_basicImputator</td><td  style=\"background-color:Ivory;\">nan</td><td  style=\"background-color:Ivory;\">82.3800</td><td  style=\"background-color:Ivory;\">nan</td><td  style=\"background-color:Ivory;\">0.2550</td><td  style=\"background-color:Ivory;\">TN:&nbsp472,&nbspFP:&nbsp77,&nbspFN:&nbsp80,&nbspTP:&nbsp262</td><td  style=\"background-color:Ivory;\">55.502</td></tr><tr><td  style=\"background-color:AliceBlue;\">Perceptron_basicImputator</td><td  style=\"background-color:AliceBlue;\">nan</td><td  style=\"background-color:AliceBlue;\">67.4500</td><td  style=\"background-color:AliceBlue;\">nan</td><td  style=\"background-color:AliceBlue;\">-0.3762</td><td  style=\"background-color:AliceBlue;\">TN:&nbsp533,&nbspFP:&nbsp16,&nbspFN:&nbsp274,&nbspTP:&nbsp68</td><td  style=\"background-color:AliceBlue;\">65.072</td></tr><tr><td  style=\"background-color:Ivory;\">DecisionTree_basicImputator</td><td  style=\"background-color:Ivory;\">nan</td><td  style=\"background-color:Ivory;\">100.0000</td><td  style=\"background-color:Ivory;\">nan</td><td  style=\"background-color:Ivory;\">1.0000</td><td  style=\"background-color:Ivory;\">TN:&nbsp549,&nbspFP:&nbsp0,&nbspFN:&nbsp0,&nbspTP:&nbsp342</td><td  style=\"background-color:Ivory;\">62.679</td></tr><tr><td  style=\"background-color:AliceBlue;\">RandomForest_basicImputator</td><td  style=\"background-color:AliceBlue;\">nan</td><td  style=\"background-color:AliceBlue;\">100.0000</td><td  style=\"background-color:AliceBlue;\">nan</td><td  style=\"background-color:AliceBlue;\">1.0000</td><td  style=\"background-color:AliceBlue;\">TN:&nbsp549,&nbspFP:&nbsp0,&nbspFN:&nbsp0,&nbspTP:&nbsp342</td><td  style=\"background-color:AliceBlue;\">75.598</td></tr><tr><td  style=\"background-color:Ivory;\">RandomForest_basicImputator_Title</td><td  style=\"background-color:Ivory;\">nan</td><td  style=\"background-color:Ivory;\">100.0000</td><td  style=\"background-color:Ivory;\">nan</td><td  style=\"background-color:Ivory;\">1.0000</td><td  style=\"background-color:Ivory;\">TN:&nbsp549,&nbspFP:&nbsp0,&nbspFN:&nbsp0,&nbspTP:&nbsp342</td><td  style=\"background-color:Ivory;\">78.469</td></tr><tr><td  style=\"background-color:AliceBlue;\">DecisionTree_basicImputation_Title_newFun</td><td  style=\"background-color:AliceBlue;\">NA</td><td  style=\"background-color:AliceBlue;\">100.0</td><td  style=\"background-color:AliceBlue;\">100.0</td><td  style=\"background-color:AliceBlue;\">1.0000</td><td  style=\"background-color:AliceBlue;\">TN:&nbsp410,&nbspFP:&nbsp0,&nbspFN:&nbsp0,&nbspTP:&nbsp258</td><td  style=\"background-color:AliceBlue;\">68.9000</td></tr><tr><td  style=\"background-color:Ivory;\">GaussianNB_basicImputation_Title_newFun</td><td  style=\"background-color:Ivory;\">NA</td><td  style=\"background-color:Ivory;\">100.0</td><td  style=\"background-color:Ivory;\">100.0</td><td  style=\"background-color:Ivory;\">1.0000</td><td  style=\"background-color:Ivory;\">TN:&nbsp410,&nbspFP:&nbsp0,&nbspFN:&nbsp0,&nbspTP:&nbsp258</td><td  style=\"background-color:Ivory;\">76.0800</td></tr><tr><td  style=\"background-color:AliceBlue;\">KN_basicImputation_Title_newFun</td><td  style=\"background-color:AliceBlue;\">NA</td><td  style=\"background-color:AliceBlue;\">81.74</td><td  style=\"background-color:AliceBlue;\">71.75</td><td  style=\"background-color:AliceBlue;\">0.2296</td><td  style=\"background-color:AliceBlue;\">TN:&nbsp360,&nbspFP:&nbsp50,&nbspFN:&nbsp72,&nbspTP:&nbsp186</td><td  style=\"background-color:AliceBlue;\">not_tested</td></tr><tr><td  style=\"background-color:Ivory;\">LinSVC_basicImputation_Title_newFun</td><td  style=\"background-color:Ivory;\">NA</td><td  style=\"background-color:Ivory;\">100.0</td><td  style=\"background-color:Ivory;\">100.0</td><td  style=\"background-color:Ivory;\">1.0000</td><td  style=\"background-color:Ivory;\">TN:&nbsp410,&nbspFP:&nbsp0,&nbspFN:&nbsp0,&nbspTP:&nbsp258</td><td  style=\"background-color:Ivory;\">68.4200</td></tr><tr><td  style=\"background-color:AliceBlue;\">LinearRegr_basicImputation_Title_newFun</td><td  style=\"background-color:AliceBlue;\">Survived&nbsp=&nbsp0.00&nbsp+&nbsp1.00*Pclass&nbsp+&nbspnan*Sex&nbsp+&nbspnan*Age&nbsp+&nbspnan*SibSp&nbsp+&nbspnan*Parch&nbsp+&nbspnan*Ticket&nbsp+&nbspnan*Fare&nbsp+&nbspnan*Embarked&nbsp+&nbspnan*Title</td><td  style=\"background-color:AliceBlue;\">NA</td><td  style=\"background-color:AliceBlue;\">NA</td><td  style=\"background-color:AliceBlue;\">1.0000</td><td  style=\"background-color:AliceBlue;\">NA</td><td  style=\"background-color:AliceBlue;\">not_tested</td></tr><tr><td  style=\"background-color:Ivory;\">LogisticRegr_basicImputation_Title_newFun</td><td  style=\"background-color:Ivory;\">Survived&nbsp=&nbsp-0.33&nbsp+&nbsp6.95*Pclass&nbsp+&nbsp-0.54*Sex&nbsp+&nbsp-1.11*Age&nbsp+&nbsp-0.02*SibSp&nbsp+&nbsp-0.19*Parch&nbsp+&nbsp-0.03*Ticket&nbsp+&nbsp-0.00*Fare&nbsp+&nbsp0.00*Embarked&nbsp+&nbsp-0.18*Title</td><td  style=\"background-color:Ivory;\">100.0</td><td  style=\"background-color:Ivory;\">100.0</td><td  style=\"background-color:Ivory;\">1.0000</td><td  style=\"background-color:Ivory;\">TN:&nbsp410,&nbspFP:&nbsp0,&nbspFN:&nbsp0,&nbspTP:&nbsp258</td><td  style=\"background-color:Ivory;\">75.1200</td></tr><tr><td  style=\"background-color:AliceBlue;\">Percep_basicImputation_Title_newFun</td><td  style=\"background-color:AliceBlue;\">NA</td><td  style=\"background-color:AliceBlue;\">66.32</td><td  style=\"background-color:AliceBlue;\">67.71</td><td  style=\"background-color:AliceBlue;\">-0.4209</td><td  style=\"background-color:AliceBlue;\">TN:&nbsp393,&nbspFP:&nbsp17,&nbspFN:&nbsp208,&nbspTP:&nbsp50</td><td  style=\"background-color:AliceBlue;\">not_tested</td></tr><tr><td  style=\"background-color:Ivory;\">RandomForest_basicImputation_Title_newFun</td><td  style=\"background-color:Ivory;\">NA</td><td  style=\"background-color:Ivory;\">100.0</td><td  style=\"background-color:Ivory;\">100.0</td><td  style=\"background-color:Ivory;\">1.0000</td><td  style=\"background-color:Ivory;\">TN:&nbsp410,&nbspFP:&nbsp0,&nbspFN:&nbsp0,&nbspTP:&nbsp258</td><td  style=\"background-color:Ivory;\">77.0300</td></tr><tr><td  style=\"background-color:AliceBlue;\">SGD_basicImputation_Title_newFun</td><td  style=\"background-color:AliceBlue;\">NA</td><td  style=\"background-color:AliceBlue;\">62.43</td><td  style=\"background-color:AliceBlue;\">62.33</td><td  style=\"background-color:AliceBlue;\">-0.5851</td><td  style=\"background-color:AliceBlue;\">TN:&nbsp405,&nbspFP:&nbsp5,&nbspFN:&nbsp246,&nbspTP:&nbsp12</td><td  style=\"background-color:AliceBlue;\">not_tested</td></tr><tr><td  style=\"background-color:Ivory;\">SVC_basicImputation_Title_newFun</td><td  style=\"background-color:Ivory;\">NA</td><td  style=\"background-color:Ivory;\">98.2</td><td  style=\"background-color:Ivory;\">65.02</td><td  style=\"background-color:Ivory;\">0.9242</td><td  style=\"background-color:Ivory;\">TN:&nbsp410,&nbspFP:&nbsp0,&nbspFN:&nbsp12,&nbspTP:&nbsp246</td><td  style=\"background-color:Ivory;\">not_tested</td></tr></table>"
      ],
      "text/plain": [
       "<ipy_table.IpyTable at 0xc574588>"
      ]
     },
     "execution_count": 40,
     "metadata": {},
     "output_type": "execute_result"
    }
   ],
   "source": [
    "make_table(super_table)\n",
    "apply_theme('basic')"
   ]
  },
  {
   "cell_type": "code",
   "execution_count": 47,
   "metadata": {
    "collapsed": true
   },
   "outputs": [],
   "source": [
    "df = pd.DataFrame(super_table[1:], columns=super_table[0])\n",
    "df.to_csv(r'C:/Users/ernest.chocholowski/Desktop/GIT/Titanic/table_eCh.csv', \n",
    "                      index=False)"
   ]
  },
  {
   "cell_type": "code",
   "execution_count": null,
   "metadata": {
    "collapsed": true
   },
   "outputs": [],
   "source": []
  }
 ],
 "metadata": {
  "kernelspec": {
   "display_name": "Python 2.7 xgboost",
   "language": "python",
   "name": "xgboost"
  },
  "language_info": {
   "codemirror_mode": {
    "name": "ipython",
    "version": 2
   },
   "file_extension": ".py",
   "mimetype": "text/x-python",
   "name": "python",
   "nbconvert_exporter": "python",
   "pygments_lexer": "ipython2",
   "version": "2.7.13"
  }
 },
 "nbformat": 4,
 "nbformat_minor": 2
}
